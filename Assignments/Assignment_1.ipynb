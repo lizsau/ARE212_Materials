{
 "cells": [
  {
   "cell_type": "markdown",
   "id": "e2d965b8-0480-4113-871d-c60c8372367d",
   "metadata": {},
   "source": [
    "# Assignment 1 - Ei, Manavi, Katie, Omair, and Liz"
   ]
  },
  {
   "cell_type": "markdown",
   "id": "18d9bd95",
   "metadata": {},
   "source": [
    "## 2. Exercises"
   ]
  },
  {
   "cell_type": "markdown",
   "id": "b2a0f80c",
   "metadata": {},
   "source": [
    "#### 1. From ARE210, recall (Section 9 in Mahajan’s “Handout 1”) the rule for computing the distribution of certain transformations of random variables (The “inverse Jacobian rule”). Let (x,y) be independently distributed continuous random variables possessing densities fx and fy. Let z = x+y. Use the rule to obtain an expression for the distribution of z."
   ]
  },
  {
   "cell_type": "markdown",
   "id": "bbb3d4c6-6145-4413-b9ee-82bcf18ed073",
   "metadata": {},
   "source": [
    "First, note \\begin{align}\n",
    "    z=x+y \\implies x = z - y\n",
    "\\end{align}\n",
    "The joint density $\\{x,y\\}$ is $f_{x}$(x)$f_y$(y) = $f_{xy}$(x,y) . Next,\n",
    "\\begin{align}\n",
    "    F_z(z) = & \\int\\limits^{\\infty}_{-\\infty} \\int\\limits^{\\infty}_{-\\infty} \\textbf I\\ (x + y \\le z)f_{xy}(x,y)dxdy \\\\\n",
    "    & = \\int\\limits^{\\infty}_{-\\infty} \\int\\limits^{z-y}_{-\\infty} f_x(x)dxf_y(y)dy  \\\\\n",
    "    & = \\int\\limits^{\\infty}_{-\\infty} F_x(z-y)f_y(y)dy \\\\\n",
    "    f_z(z) &  = \\int\\limits^{\\infty}_{-\\infty} f_x(z-y)f_y(y)dy\n",
    "\\end{align}\n",
    "This is assuming we can interchange differentiation and integration like Aprajit did in the handout.$$"
   ]
  },
  {
   "cell_type": "markdown",
   "id": "45ad6f10",
   "metadata": {},
   "source": [
    "#### 2. We’ve discussed ways to program a convolution of random variables in a Jupiter notebook [ipynb] [datahub]. As in the note- book, consider a discrete random variable s and a continuous random variable x. Prove that the convolution of s and x (or, informally, x + s) has a continuous distribution, as suggested by the figure at the end of the notebook, or establish that the figure is wrong or misleading."
   ]
  },
  {
   "cell_type": "code",
   "execution_count": 6,
   "id": "1e8ee19d",
   "metadata": {},
   "outputs": [],
   "source": [
    "# read package to create idd rvs\n",
    "from scipy.stats import distributions as iid\n",
    "\n",
    "# define x and s\n",
    "\n",
    "x = iid.norm()\n",
    "\n",
    "Omega = (-1,0,1)\n",
    "Pr = (1/3.,1/2.,1/6.)\n",
    "\n",
    "s = iid.rv_discrete(values=(Omega,Pr))"
   ]
  },
  {
   "cell_type": "code",
   "execution_count": 7,
   "id": "cd1fb340",
   "metadata": {},
   "outputs": [],
   "source": [
    "# Code to convolve a random variable with a pmf and another having a cdf\n",
    "# Exploits =scipy.stats= base rv_continuous class.\n",
    "\n",
    "class ConvolvedContinuousAndDiscrete(iid.rv_continuous):\n",
    "\n",
    "    \"\"\"Convolve (add) a continuous rv x and a discrete rv s,\n",
    "       returning the resulting cdf.\"\"\"\n",
    "\n",
    "    def __init__(self,f,s):\n",
    "        self.continuous_rv = f\n",
    "        self.discrete_rv = s\n",
    "        super(ConvolvedContinuousAndDiscrete, self).__init__(name=\"ConvolvedContinuousAndDiscrete\")\n",
    "        \n",
    "    def _cdf(self,z):\n",
    "        F=0\n",
    "        s = self.discrete_rv\n",
    "        x = self.continuous_rv\n",
    "        \n",
    "        for k in range(len(s.xk)):\n",
    "            # convolution part\n",
    "            F = F + x.cdf(z-s.xk[k])*s.pk[k]\n",
    "        return F\n",
    "\n",
    "    def _pdf(self,z):\n",
    "        f=0\n",
    "        s = self.discrete_rv\n",
    "        x = self.continuous_rv\n",
    "        \n",
    "        for k in range(len(s.xk)):\n",
    "            f = f + x.pdf(z-s.xk[k])*s.pk[k]\n",
    "        return f\n",
    "\n",
    "\n",
    "# Create new convolved rv:\n",
    "y = ConvolvedContinuousAndDiscrete(x,s)"
   ]
  },
  {
   "cell_type": "code",
   "execution_count": 10,
   "id": "2f4f1dc3",
   "metadata": {},
   "outputs": [
    {
     "data": {
      "application/vnd.plotly.v1+json": {
       "config": {
        "plotlyServerURL": "https://plot.ly"
       },
       "data": [
        {
         "type": "scatter",
         "x": [
          -4,
          -3.919191919191919,
          -3.8383838383838382,
          -3.757575757575758,
          -3.676767676767677,
          -3.595959595959596,
          -3.515151515151515,
          -3.4343434343434343,
          -3.3535353535353534,
          -3.2727272727272725,
          -3.191919191919192,
          -3.111111111111111,
          -3.0303030303030303,
          -2.9494949494949494,
          -2.8686868686868685,
          -2.787878787878788,
          -2.7070707070707067,
          -2.6262626262626263,
          -2.5454545454545454,
          -2.4646464646464645,
          -2.3838383838383836,
          -2.3030303030303028,
          -2.2222222222222223,
          -2.141414141414141,
          -2.0606060606060606,
          -1.9797979797979797,
          -1.8989898989898988,
          -1.818181818181818,
          -1.737373737373737,
          -1.6565656565656566,
          -1.5757575757575757,
          -1.4949494949494948,
          -1.414141414141414,
          -1.333333333333333,
          -1.2525252525252522,
          -1.1717171717171713,
          -1.0909090909090908,
          -1.01010101010101,
          -0.9292929292929291,
          -0.8484848484848482,
          -0.7676767676767673,
          -0.6868686868686864,
          -0.606060606060606,
          -0.5252525252525251,
          -0.4444444444444442,
          -0.3636363636363633,
          -0.28282828282828243,
          -0.20202020202020154,
          -0.1212121212121211,
          -0.04040404040404022,
          0.040404040404040664,
          0.12121212121212199,
          0.20202020202020243,
          0.2828282828282829,
          0.3636363636363642,
          0.44444444444444464,
          0.525252525252526,
          0.6060606060606064,
          0.6868686868686869,
          0.7676767676767682,
          0.8484848484848486,
          0.92929292929293,
          1.0101010101010104,
          1.0909090909090917,
          1.1717171717171722,
          1.2525252525252526,
          1.333333333333334,
          1.4141414141414144,
          1.4949494949494957,
          1.5757575757575761,
          1.6565656565656575,
          1.737373737373738,
          1.8181818181818183,
          1.8989898989898997,
          1.9797979797979801,
          2.0606060606060614,
          2.141414141414142,
          2.2222222222222223,
          2.3030303030303036,
          2.383838383838384,
          2.4646464646464654,
          2.545454545454546,
          2.626262626262627,
          2.7070707070707076,
          2.787878787878788,
          2.8686868686868694,
          2.94949494949495,
          3.030303030303031,
          3.1111111111111116,
          3.191919191919193,
          3.2727272727272734,
          3.353535353535354,
          3.434343434343435,
          3.5151515151515156,
          3.595959595959597,
          3.6767676767676774,
          3.757575757575758,
          3.838383838383839,
          3.9191919191919196,
          4
         ],
         "y": [
          0.0015444457034475673,
          0.0019689338775929323,
          0.002494493036364643,
          0.0031407693742302786,
          0.003930094392941704,
          0.004887586012034793,
          0.006041188864387731,
          0.007421639240215602,
          0.009062340420223618,
          0.010999135188607389,
          0.013269964222380895,
          0.01591440185627494,
          0.01897306441071751,
          0.022486890772208994,
          0.02649630009419459,
          0.031040237142027836,
          0.036155121680175484,
          0.041873724090632045,
          0.04822399478824042,
          0.055227879625394605,
          0.06290015703900323,
          0.07124733491523805,
          0.08026664583016548,
          0.08994517835334558,
          0.10025917946541503,
          0.11117355893499407,
          0.12264162092271907,
          0.13460504141678664,
          0.14699410270654437,
          0.15972818835610172,
          0.17271653443969065,
          0.18585922550584716,
          0.19904841715033167,
          0.21216976141794616,
          0.22510400664590077,
          0.23772873983414558,
          0.24992023712200806,
          0.2615553863392646,
          0.2725136447175735,
          0.2826789945212182,
          0.2919418594339236,
          0.30020094492072197,
          0.3073649664382484,
          0.3133542303362998,
          0.3181020336903139,
          0.32155585129269343,
          0.32367828079875666,
          0.3244477207488073,
          0.32385876100394567,
          0.3219222710941525,
          0.31866517903428015,
          0.3141299411523358,
          0.30837371211512415,
          0.3014672332492754,
          0.2934934659895523,
          0.28454600535619146,
          0.2747273152941429,
          0.2641468330791437,
          0.25291899348228597,
          0.24116122478433458,
          0.22899196798412041,
          0.21652876773863333,
          0.20388647892822917,
          0.19117562659314977,
          0.178500949751306,
          0.16596015173690365,
          0.15364287165139878,
          0.14162988371370883,
          0.129992524091977,
          0.11879233846536028,
          0.10808093827643608,
          0.09790004947261002,
          0.0882817344918373,
          0.07924876624769175,
          0.0708151317855138,
          0.06298664296172275,
          0.055761631782037524,
          0.04913170877103952,
          0.04308256380731273,
          0.037594790146434964,
          0.03264471380005586,
          0.028205212002303533,
          0.024246506155043115,
          0.020736916394290084,
          0.017643566759080243,
          0.014933031866092305,
          0.012571917984513577,
          0.010527373440589736,
          0.008767525322362246,
          0.007261841454258275,
          0.005981418513737521,
          0.004899198911452837,
          0.003990120598919,
          0.003231205258123364,
          0.0026015913324543226,
          0.002082519058966121,
          0.001657275055273245,
          0.0013111041125970873,
          0.001031095675727357,
          0.0008060520880436887
         ]
        }
       ],
       "layout": {
        "autosize": true,
        "template": {
         "data": {
          "bar": [
           {
            "error_x": {
             "color": "#2a3f5f"
            },
            "error_y": {
             "color": "#2a3f5f"
            },
            "marker": {
             "line": {
              "color": "#E5ECF6",
              "width": 0.5
             },
             "pattern": {
              "fillmode": "overlay",
              "size": 10,
              "solidity": 0.2
             }
            },
            "type": "bar"
           }
          ],
          "barpolar": [
           {
            "marker": {
             "line": {
              "color": "#E5ECF6",
              "width": 0.5
             },
             "pattern": {
              "fillmode": "overlay",
              "size": 10,
              "solidity": 0.2
             }
            },
            "type": "barpolar"
           }
          ],
          "carpet": [
           {
            "aaxis": {
             "endlinecolor": "#2a3f5f",
             "gridcolor": "white",
             "linecolor": "white",
             "minorgridcolor": "white",
             "startlinecolor": "#2a3f5f"
            },
            "baxis": {
             "endlinecolor": "#2a3f5f",
             "gridcolor": "white",
             "linecolor": "white",
             "minorgridcolor": "white",
             "startlinecolor": "#2a3f5f"
            },
            "type": "carpet"
           }
          ],
          "choropleth": [
           {
            "colorbar": {
             "outlinewidth": 0,
             "ticks": ""
            },
            "type": "choropleth"
           }
          ],
          "contour": [
           {
            "colorbar": {
             "outlinewidth": 0,
             "ticks": ""
            },
            "colorscale": [
             [
              0,
              "#0d0887"
             ],
             [
              0.1111111111111111,
              "#46039f"
             ],
             [
              0.2222222222222222,
              "#7201a8"
             ],
             [
              0.3333333333333333,
              "#9c179e"
             ],
             [
              0.4444444444444444,
              "#bd3786"
             ],
             [
              0.5555555555555556,
              "#d8576b"
             ],
             [
              0.6666666666666666,
              "#ed7953"
             ],
             [
              0.7777777777777778,
              "#fb9f3a"
             ],
             [
              0.8888888888888888,
              "#fdca26"
             ],
             [
              1,
              "#f0f921"
             ]
            ],
            "type": "contour"
           }
          ],
          "contourcarpet": [
           {
            "colorbar": {
             "outlinewidth": 0,
             "ticks": ""
            },
            "type": "contourcarpet"
           }
          ],
          "heatmap": [
           {
            "colorbar": {
             "outlinewidth": 0,
             "ticks": ""
            },
            "colorscale": [
             [
              0,
              "#0d0887"
             ],
             [
              0.1111111111111111,
              "#46039f"
             ],
             [
              0.2222222222222222,
              "#7201a8"
             ],
             [
              0.3333333333333333,
              "#9c179e"
             ],
             [
              0.4444444444444444,
              "#bd3786"
             ],
             [
              0.5555555555555556,
              "#d8576b"
             ],
             [
              0.6666666666666666,
              "#ed7953"
             ],
             [
              0.7777777777777778,
              "#fb9f3a"
             ],
             [
              0.8888888888888888,
              "#fdca26"
             ],
             [
              1,
              "#f0f921"
             ]
            ],
            "type": "heatmap"
           }
          ],
          "heatmapgl": [
           {
            "colorbar": {
             "outlinewidth": 0,
             "ticks": ""
            },
            "colorscale": [
             [
              0,
              "#0d0887"
             ],
             [
              0.1111111111111111,
              "#46039f"
             ],
             [
              0.2222222222222222,
              "#7201a8"
             ],
             [
              0.3333333333333333,
              "#9c179e"
             ],
             [
              0.4444444444444444,
              "#bd3786"
             ],
             [
              0.5555555555555556,
              "#d8576b"
             ],
             [
              0.6666666666666666,
              "#ed7953"
             ],
             [
              0.7777777777777778,
              "#fb9f3a"
             ],
             [
              0.8888888888888888,
              "#fdca26"
             ],
             [
              1,
              "#f0f921"
             ]
            ],
            "type": "heatmapgl"
           }
          ],
          "histogram": [
           {
            "marker": {
             "pattern": {
              "fillmode": "overlay",
              "size": 10,
              "solidity": 0.2
             }
            },
            "type": "histogram"
           }
          ],
          "histogram2d": [
           {
            "colorbar": {
             "outlinewidth": 0,
             "ticks": ""
            },
            "colorscale": [
             [
              0,
              "#0d0887"
             ],
             [
              0.1111111111111111,
              "#46039f"
             ],
             [
              0.2222222222222222,
              "#7201a8"
             ],
             [
              0.3333333333333333,
              "#9c179e"
             ],
             [
              0.4444444444444444,
              "#bd3786"
             ],
             [
              0.5555555555555556,
              "#d8576b"
             ],
             [
              0.6666666666666666,
              "#ed7953"
             ],
             [
              0.7777777777777778,
              "#fb9f3a"
             ],
             [
              0.8888888888888888,
              "#fdca26"
             ],
             [
              1,
              "#f0f921"
             ]
            ],
            "type": "histogram2d"
           }
          ],
          "histogram2dcontour": [
           {
            "colorbar": {
             "outlinewidth": 0,
             "ticks": ""
            },
            "colorscale": [
             [
              0,
              "#0d0887"
             ],
             [
              0.1111111111111111,
              "#46039f"
             ],
             [
              0.2222222222222222,
              "#7201a8"
             ],
             [
              0.3333333333333333,
              "#9c179e"
             ],
             [
              0.4444444444444444,
              "#bd3786"
             ],
             [
              0.5555555555555556,
              "#d8576b"
             ],
             [
              0.6666666666666666,
              "#ed7953"
             ],
             [
              0.7777777777777778,
              "#fb9f3a"
             ],
             [
              0.8888888888888888,
              "#fdca26"
             ],
             [
              1,
              "#f0f921"
             ]
            ],
            "type": "histogram2dcontour"
           }
          ],
          "mesh3d": [
           {
            "colorbar": {
             "outlinewidth": 0,
             "ticks": ""
            },
            "type": "mesh3d"
           }
          ],
          "parcoords": [
           {
            "line": {
             "colorbar": {
              "outlinewidth": 0,
              "ticks": ""
             }
            },
            "type": "parcoords"
           }
          ],
          "pie": [
           {
            "automargin": true,
            "type": "pie"
           }
          ],
          "scatter": [
           {
            "fillpattern": {
             "fillmode": "overlay",
             "size": 10,
             "solidity": 0.2
            },
            "type": "scatter"
           }
          ],
          "scatter3d": [
           {
            "line": {
             "colorbar": {
              "outlinewidth": 0,
              "ticks": ""
             }
            },
            "marker": {
             "colorbar": {
              "outlinewidth": 0,
              "ticks": ""
             }
            },
            "type": "scatter3d"
           }
          ],
          "scattercarpet": [
           {
            "marker": {
             "colorbar": {
              "outlinewidth": 0,
              "ticks": ""
             }
            },
            "type": "scattercarpet"
           }
          ],
          "scattergeo": [
           {
            "marker": {
             "colorbar": {
              "outlinewidth": 0,
              "ticks": ""
             }
            },
            "type": "scattergeo"
           }
          ],
          "scattergl": [
           {
            "marker": {
             "colorbar": {
              "outlinewidth": 0,
              "ticks": ""
             }
            },
            "type": "scattergl"
           }
          ],
          "scattermapbox": [
           {
            "marker": {
             "colorbar": {
              "outlinewidth": 0,
              "ticks": ""
             }
            },
            "type": "scattermapbox"
           }
          ],
          "scatterpolar": [
           {
            "marker": {
             "colorbar": {
              "outlinewidth": 0,
              "ticks": ""
             }
            },
            "type": "scatterpolar"
           }
          ],
          "scatterpolargl": [
           {
            "marker": {
             "colorbar": {
              "outlinewidth": 0,
              "ticks": ""
             }
            },
            "type": "scatterpolargl"
           }
          ],
          "scatterternary": [
           {
            "marker": {
             "colorbar": {
              "outlinewidth": 0,
              "ticks": ""
             }
            },
            "type": "scatterternary"
           }
          ],
          "surface": [
           {
            "colorbar": {
             "outlinewidth": 0,
             "ticks": ""
            },
            "colorscale": [
             [
              0,
              "#0d0887"
             ],
             [
              0.1111111111111111,
              "#46039f"
             ],
             [
              0.2222222222222222,
              "#7201a8"
             ],
             [
              0.3333333333333333,
              "#9c179e"
             ],
             [
              0.4444444444444444,
              "#bd3786"
             ],
             [
              0.5555555555555556,
              "#d8576b"
             ],
             [
              0.6666666666666666,
              "#ed7953"
             ],
             [
              0.7777777777777778,
              "#fb9f3a"
             ],
             [
              0.8888888888888888,
              "#fdca26"
             ],
             [
              1,
              "#f0f921"
             ]
            ],
            "type": "surface"
           }
          ],
          "table": [
           {
            "cells": {
             "fill": {
              "color": "#EBF0F8"
             },
             "line": {
              "color": "white"
             }
            },
            "header": {
             "fill": {
              "color": "#C8D4E3"
             },
             "line": {
              "color": "white"
             }
            },
            "type": "table"
           }
          ]
         },
         "layout": {
          "annotationdefaults": {
           "arrowcolor": "#2a3f5f",
           "arrowhead": 0,
           "arrowwidth": 1
          },
          "autotypenumbers": "strict",
          "coloraxis": {
           "colorbar": {
            "outlinewidth": 0,
            "ticks": ""
           }
          },
          "colorscale": {
           "diverging": [
            [
             0,
             "#8e0152"
            ],
            [
             0.1,
             "#c51b7d"
            ],
            [
             0.2,
             "#de77ae"
            ],
            [
             0.3,
             "#f1b6da"
            ],
            [
             0.4,
             "#fde0ef"
            ],
            [
             0.5,
             "#f7f7f7"
            ],
            [
             0.6,
             "#e6f5d0"
            ],
            [
             0.7,
             "#b8e186"
            ],
            [
             0.8,
             "#7fbc41"
            ],
            [
             0.9,
             "#4d9221"
            ],
            [
             1,
             "#276419"
            ]
           ],
           "sequential": [
            [
             0,
             "#0d0887"
            ],
            [
             0.1111111111111111,
             "#46039f"
            ],
            [
             0.2222222222222222,
             "#7201a8"
            ],
            [
             0.3333333333333333,
             "#9c179e"
            ],
            [
             0.4444444444444444,
             "#bd3786"
            ],
            [
             0.5555555555555556,
             "#d8576b"
            ],
            [
             0.6666666666666666,
             "#ed7953"
            ],
            [
             0.7777777777777778,
             "#fb9f3a"
            ],
            [
             0.8888888888888888,
             "#fdca26"
            ],
            [
             1,
             "#f0f921"
            ]
           ],
           "sequentialminus": [
            [
             0,
             "#0d0887"
            ],
            [
             0.1111111111111111,
             "#46039f"
            ],
            [
             0.2222222222222222,
             "#7201a8"
            ],
            [
             0.3333333333333333,
             "#9c179e"
            ],
            [
             0.4444444444444444,
             "#bd3786"
            ],
            [
             0.5555555555555556,
             "#d8576b"
            ],
            [
             0.6666666666666666,
             "#ed7953"
            ],
            [
             0.7777777777777778,
             "#fb9f3a"
            ],
            [
             0.8888888888888888,
             "#fdca26"
            ],
            [
             1,
             "#f0f921"
            ]
           ]
          },
          "colorway": [
           "#636efa",
           "#EF553B",
           "#00cc96",
           "#ab63fa",
           "#FFA15A",
           "#19d3f3",
           "#FF6692",
           "#B6E880",
           "#FF97FF",
           "#FECB52"
          ],
          "font": {
           "color": "#2a3f5f"
          },
          "geo": {
           "bgcolor": "white",
           "lakecolor": "white",
           "landcolor": "#E5ECF6",
           "showlakes": true,
           "showland": true,
           "subunitcolor": "white"
          },
          "hoverlabel": {
           "align": "left"
          },
          "hovermode": "closest",
          "mapbox": {
           "style": "light"
          },
          "paper_bgcolor": "white",
          "plot_bgcolor": "#E5ECF6",
          "polar": {
           "angularaxis": {
            "gridcolor": "white",
            "linecolor": "white",
            "ticks": ""
           },
           "bgcolor": "#E5ECF6",
           "radialaxis": {
            "gridcolor": "white",
            "linecolor": "white",
            "ticks": ""
           }
          },
          "scene": {
           "xaxis": {
            "backgroundcolor": "#E5ECF6",
            "gridcolor": "white",
            "gridwidth": 2,
            "linecolor": "white",
            "showbackground": true,
            "ticks": "",
            "zerolinecolor": "white"
           },
           "yaxis": {
            "backgroundcolor": "#E5ECF6",
            "gridcolor": "white",
            "gridwidth": 2,
            "linecolor": "white",
            "showbackground": true,
            "ticks": "",
            "zerolinecolor": "white"
           },
           "zaxis": {
            "backgroundcolor": "#E5ECF6",
            "gridcolor": "white",
            "gridwidth": 2,
            "linecolor": "white",
            "showbackground": true,
            "ticks": "",
            "zerolinecolor": "white"
           }
          },
          "shapedefaults": {
           "line": {
            "color": "#2a3f5f"
           }
          },
          "ternary": {
           "aaxis": {
            "gridcolor": "white",
            "linecolor": "white",
            "ticks": ""
           },
           "baxis": {
            "gridcolor": "white",
            "linecolor": "white",
            "ticks": ""
           },
           "bgcolor": "#E5ECF6",
           "caxis": {
            "gridcolor": "white",
            "linecolor": "white",
            "ticks": ""
           }
          },
          "title": {
           "x": 0.05
          },
          "xaxis": {
           "automargin": true,
           "gridcolor": "white",
           "linecolor": "white",
           "ticks": "",
           "title": {
            "standoff": 15
           },
           "zerolinecolor": "white",
           "zerolinewidth": 2
          },
          "yaxis": {
           "automargin": true,
           "gridcolor": "white",
           "linecolor": "white",
           "ticks": "",
           "title": {
            "standoff": 15
           },
           "zerolinecolor": "white",
           "zerolinewidth": 2
          }
         }
        },
        "title": {
         "text": "Probability Density Function of Convolution (x + s)"
        },
        "xaxis": {
         "autorange": true,
         "range": [
          -4,
          4
         ],
         "type": "linear"
        },
        "yaxis": {
         "autorange": true,
         "range": [
          -0.017174040615332068,
          0.34242781345218304
         ],
         "type": "linear"
        }
       }
      },
      "image/png": "[encoded data removed]",
      "text/html": [
       "<div>                            <div id=\"1df4ab7c-acc2-4323-b8a8-b00d8f64e675\" class=\"plotly-graph-div\" style=\"height:525px; width:100%;\"></div>            <script type=\"text/javascript\">                require([\"plotly\"], function(Plotly) {                    window.PLOTLYENV=window.PLOTLYENV || {};                                    if (document.getElementById(\"1df4ab7c-acc2-4323-b8a8-b00d8f64e675\")) {                    Plotly.newPlot(                        \"1df4ab7c-acc2-4323-b8a8-b00d8f64e675\",                        [{\"x\":[-4.0,-3.919191919191919,-3.8383838383838382,-3.757575757575758,-3.676767676767677,-3.595959595959596,-3.515151515151515,-3.4343434343434343,-3.3535353535353534,-3.2727272727272725,-3.191919191919192,-3.111111111111111,-3.0303030303030303,-2.9494949494949494,-2.8686868686868685,-2.787878787878788,-2.7070707070707067,-2.6262626262626263,-2.5454545454545454,-2.4646464646464645,-2.3838383838383836,-2.3030303030303028,-2.2222222222222223,-2.141414141414141,-2.0606060606060606,-1.9797979797979797,-1.8989898989898988,-1.818181818181818,-1.737373737373737,-1.6565656565656566,-1.5757575757575757,-1.4949494949494948,-1.414141414141414,-1.333333333333333,-1.2525252525252522,-1.1717171717171713,-1.0909090909090908,-1.01010101010101,-0.9292929292929291,-0.8484848484848482,-0.7676767676767673,-0.6868686868686864,-0.606060606060606,-0.5252525252525251,-0.4444444444444442,-0.3636363636363633,-0.28282828282828243,-0.20202020202020154,-0.1212121212121211,-0.04040404040404022,0.040404040404040664,0.12121212121212199,0.20202020202020243,0.2828282828282829,0.3636363636363642,0.44444444444444464,0.525252525252526,0.6060606060606064,0.6868686868686869,0.7676767676767682,0.8484848484848486,0.92929292929293,1.0101010101010104,1.0909090909090917,1.1717171717171722,1.2525252525252526,1.333333333333334,1.4141414141414144,1.4949494949494957,1.5757575757575761,1.6565656565656575,1.737373737373738,1.8181818181818183,1.8989898989898997,1.9797979797979801,2.0606060606060614,2.141414141414142,2.2222222222222223,2.3030303030303036,2.383838383838384,2.4646464646464654,2.545454545454546,2.626262626262627,2.7070707070707076,2.787878787878788,2.8686868686868694,2.94949494949495,3.030303030303031,3.1111111111111116,3.191919191919193,3.2727272727272734,3.353535353535354,3.434343434343435,3.5151515151515156,3.595959595959597,3.6767676767676774,3.757575757575758,3.838383838383839,3.9191919191919196,4.0],\"y\":[0.0015444457034475673,0.0019689338775929323,0.002494493036364643,0.0031407693742302786,0.003930094392941704,0.004887586012034793,0.006041188864387731,0.007421639240215602,0.009062340420223618,0.010999135188607389,0.013269964222380895,0.01591440185627494,0.01897306441071751,0.022486890772208994,0.02649630009419459,0.031040237142027836,0.036155121680175484,0.041873724090632045,0.04822399478824042,0.055227879625394605,0.06290015703900323,0.07124733491523805,0.08026664583016548,0.08994517835334558,0.10025917946541503,0.11117355893499407,0.12264162092271907,0.13460504141678664,0.14699410270654437,0.15972818835610172,0.17271653443969065,0.18585922550584716,0.19904841715033167,0.21216976141794616,0.22510400664590077,0.23772873983414558,0.24992023712200806,0.2615553863392646,0.2725136447175735,0.2826789945212182,0.2919418594339236,0.30020094492072197,0.3073649664382484,0.3133542303362998,0.3181020336903139,0.32155585129269343,0.32367828079875666,0.3244477207488073,0.32385876100394567,0.3219222710941525,0.31866517903428015,0.3141299411523358,0.30837371211512415,0.3014672332492754,0.2934934659895523,0.28454600535619146,0.2747273152941429,0.2641468330791437,0.25291899348228597,0.24116122478433458,0.22899196798412041,0.21652876773863333,0.20388647892822917,0.19117562659314977,0.178500949751306,0.16596015173690365,0.15364287165139878,0.14162988371370883,0.129992524091977,0.11879233846536028,0.10808093827643608,0.09790004947261002,0.0882817344918373,0.07924876624769175,0.0708151317855138,0.06298664296172275,0.055761631782037524,0.04913170877103952,0.04308256380731273,0.037594790146434964,0.03264471380005586,0.028205212002303533,0.024246506155043115,0.020736916394290084,0.017643566759080243,0.014933031866092305,0.012571917984513577,0.010527373440589736,0.008767525322362246,0.007261841454258275,0.005981418513737521,0.004899198911452837,0.003990120598919,0.003231205258123364,0.0026015913324543226,0.002082519058966121,0.001657275055273245,0.0013111041125970873,0.001031095675727357,0.0008060520880436887],\"type\":\"scatter\"}],                        {\"template\":{\"data\":{\"histogram2dcontour\":[{\"type\":\"histogram2dcontour\",\"colorbar\":{\"outlinewidth\":0,\"ticks\":\"\"},\"colorscale\":[[0.0,\"#0d0887\"],[0.1111111111111111,\"#46039f\"],[0.2222222222222222,\"#7201a8\"],[0.3333333333333333,\"#9c179e\"],[0.4444444444444444,\"#bd3786\"],[0.5555555555555556,\"#d8576b\"],[0.6666666666666666,\"#ed7953\"],[0.7777777777777778,\"#fb9f3a\"],[0.8888888888888888,\"#fdca26\"],[1.0,\"#f0f921\"]]}],\"choropleth\":[{\"type\":\"choropleth\",\"colorbar\":{\"outlinewidth\":0,\"ticks\":\"\"}}],\"histogram2d\":[{\"type\":\"histogram2d\",\"colorbar\":{\"outlinewidth\":0,\"ticks\":\"\"},\"colorscale\":[[0.0,\"#0d0887\"],[0.1111111111111111,\"#46039f\"],[0.2222222222222222,\"#7201a8\"],[0.3333333333333333,\"#9c179e\"],[0.4444444444444444,\"#bd3786\"],[0.5555555555555556,\"#d8576b\"],[0.6666666666666666,\"#ed7953\"],[0.7777777777777778,\"#fb9f3a\"],[0.8888888888888888,\"#fdca26\"],[1.0,\"#f0f921\"]]}],\"heatmap\":[{\"type\":\"heatmap\",\"colorbar\":{\"outlinewidth\":0,\"ticks\":\"\"},\"colorscale\":[[0.0,\"#0d0887\"],[0.1111111111111111,\"#46039f\"],[0.2222222222222222,\"#7201a8\"],[0.3333333333333333,\"#9c179e\"],[0.4444444444444444,\"#bd3786\"],[0.5555555555555556,\"#d8576b\"],[0.6666666666666666,\"#ed7953\"],[0.7777777777777778,\"#fb9f3a\"],[0.8888888888888888,\"#fdca26\"],[1.0,\"#f0f921\"]]}],\"heatmapgl\":[{\"type\":\"heatmapgl\",\"colorbar\":{\"outlinewidth\":0,\"ticks\":\"\"},\"colorscale\":[[0.0,\"#0d0887\"],[0.1111111111111111,\"#46039f\"],[0.2222222222222222,\"#7201a8\"],[0.3333333333333333,\"#9c179e\"],[0.4444444444444444,\"#bd3786\"],[0.5555555555555556,\"#d8576b\"],[0.6666666666666666,\"#ed7953\"],[0.7777777777777778,\"#fb9f3a\"],[0.8888888888888888,\"#fdca26\"],[1.0,\"#f0f921\"]]}],\"contourcarpet\":[{\"type\":\"contourcarpet\",\"colorbar\":{\"outlinewidth\":0,\"ticks\":\"\"}}],\"contour\":[{\"type\":\"contour\",\"colorbar\":{\"outlinewidth\":0,\"ticks\":\"\"},\"colorscale\":[[0.0,\"#0d0887\"],[0.1111111111111111,\"#46039f\"],[0.2222222222222222,\"#7201a8\"],[0.3333333333333333,\"#9c179e\"],[0.4444444444444444,\"#bd3786\"],[0.5555555555555556,\"#d8576b\"],[0.6666666666666666,\"#ed7953\"],[0.7777777777777778,\"#fb9f3a\"],[0.8888888888888888,\"#fdca26\"],[1.0,\"#f0f921\"]]}],\"surface\":[{\"type\":\"surface\",\"colorbar\":{\"outlinewidth\":0,\"ticks\":\"\"},\"colorscale\":[[0.0,\"#0d0887\"],[0.1111111111111111,\"#46039f\"],[0.2222222222222222,\"#7201a8\"],[0.3333333333333333,\"#9c179e\"],[0.4444444444444444,\"#bd3786\"],[0.5555555555555556,\"#d8576b\"],[0.6666666666666666,\"#ed7953\"],[0.7777777777777778,\"#fb9f3a\"],[0.8888888888888888,\"#fdca26\"],[1.0,\"#f0f921\"]]}],\"mesh3d\":[{\"type\":\"mesh3d\",\"colorbar\":{\"outlinewidth\":0,\"ticks\":\"\"}}],\"scatter\":[{\"fillpattern\":{\"fillmode\":\"overlay\",\"size\":10,\"solidity\":0.2},\"type\":\"scatter\"}],\"parcoords\":[{\"type\":\"parcoords\",\"line\":{\"colorbar\":{\"outlinewidth\":0,\"ticks\":\"\"}}}],\"scatterpolargl\":[{\"type\":\"scatterpolargl\",\"marker\":{\"colorbar\":{\"outlinewidth\":0,\"ticks\":\"\"}}}],\"bar\":[{\"error_x\":{\"color\":\"#2a3f5f\"},\"error_y\":{\"color\":\"#2a3f5f\"},\"marker\":{\"line\":{\"color\":\"#E5ECF6\",\"width\":0.5},\"pattern\":{\"fillmode\":\"overlay\",\"size\":10,\"solidity\":0.2}},\"type\":\"bar\"}],\"scattergeo\":[{\"type\":\"scattergeo\",\"marker\":{\"colorbar\":{\"outlinewidth\":0,\"ticks\":\"\"}}}],\"scatterpolar\":[{\"type\":\"scatterpolar\",\"marker\":{\"colorbar\":{\"outlinewidth\":0,\"ticks\":\"\"}}}],\"histogram\":[{\"marker\":{\"pattern\":{\"fillmode\":\"overlay\",\"size\":10,\"solidity\":0.2}},\"type\":\"histogram\"}],\"scattergl\":[{\"type\":\"scattergl\",\"marker\":{\"colorbar\":{\"outlinewidth\":0,\"ticks\":\"\"}}}],\"scatter3d\":[{\"type\":\"scatter3d\",\"line\":{\"colorbar\":{\"outlinewidth\":0,\"ticks\":\"\"}},\"marker\":{\"colorbar\":{\"outlinewidth\":0,\"ticks\":\"\"}}}],\"scattermapbox\":[{\"type\":\"scattermapbox\",\"marker\":{\"colorbar\":{\"outlinewidth\":0,\"ticks\":\"\"}}}],\"scatterternary\":[{\"type\":\"scatterternary\",\"marker\":{\"colorbar\":{\"outlinewidth\":0,\"ticks\":\"\"}}}],\"scattercarpet\":[{\"type\":\"scattercarpet\",\"marker\":{\"colorbar\":{\"outlinewidth\":0,\"ticks\":\"\"}}}],\"carpet\":[{\"aaxis\":{\"endlinecolor\":\"#2a3f5f\",\"gridcolor\":\"white\",\"linecolor\":\"white\",\"minorgridcolor\":\"white\",\"startlinecolor\":\"#2a3f5f\"},\"baxis\":{\"endlinecolor\":\"#2a3f5f\",\"gridcolor\":\"white\",\"linecolor\":\"white\",\"minorgridcolor\":\"white\",\"startlinecolor\":\"#2a3f5f\"},\"type\":\"carpet\"}],\"table\":[{\"cells\":{\"fill\":{\"color\":\"#EBF0F8\"},\"line\":{\"color\":\"white\"}},\"header\":{\"fill\":{\"color\":\"#C8D4E3\"},\"line\":{\"color\":\"white\"}},\"type\":\"table\"}],\"barpolar\":[{\"marker\":{\"line\":{\"color\":\"#E5ECF6\",\"width\":0.5},\"pattern\":{\"fillmode\":\"overlay\",\"size\":10,\"solidity\":0.2}},\"type\":\"barpolar\"}],\"pie\":[{\"automargin\":true,\"type\":\"pie\"}]},\"layout\":{\"autotypenumbers\":\"strict\",\"colorway\":[\"#636efa\",\"#EF553B\",\"#00cc96\",\"#ab63fa\",\"#FFA15A\",\"#19d3f3\",\"#FF6692\",\"#B6E880\",\"#FF97FF\",\"#FECB52\"],\"font\":{\"color\":\"#2a3f5f\"},\"hovermode\":\"closest\",\"hoverlabel\":{\"align\":\"left\"},\"paper_bgcolor\":\"white\",\"plot_bgcolor\":\"#E5ECF6\",\"polar\":{\"bgcolor\":\"#E5ECF6\",\"angularaxis\":{\"gridcolor\":\"white\",\"linecolor\":\"white\",\"ticks\":\"\"},\"radialaxis\":{\"gridcolor\":\"white\",\"linecolor\":\"white\",\"ticks\":\"\"}},\"ternary\":{\"bgcolor\":\"#E5ECF6\",\"aaxis\":{\"gridcolor\":\"white\",\"linecolor\":\"white\",\"ticks\":\"\"},\"baxis\":{\"gridcolor\":\"white\",\"linecolor\":\"white\",\"ticks\":\"\"},\"caxis\":{\"gridcolor\":\"white\",\"linecolor\":\"white\",\"ticks\":\"\"}},\"coloraxis\":{\"colorbar\":{\"outlinewidth\":0,\"ticks\":\"\"}},\"colorscale\":{\"sequential\":[[0.0,\"#0d0887\"],[0.1111111111111111,\"#46039f\"],[0.2222222222222222,\"#7201a8\"],[0.3333333333333333,\"#9c179e\"],[0.4444444444444444,\"#bd3786\"],[0.5555555555555556,\"#d8576b\"],[0.6666666666666666,\"#ed7953\"],[0.7777777777777778,\"#fb9f3a\"],[0.8888888888888888,\"#fdca26\"],[1.0,\"#f0f921\"]],\"sequentialminus\":[[0.0,\"#0d0887\"],[0.1111111111111111,\"#46039f\"],[0.2222222222222222,\"#7201a8\"],[0.3333333333333333,\"#9c179e\"],[0.4444444444444444,\"#bd3786\"],[0.5555555555555556,\"#d8576b\"],[0.6666666666666666,\"#ed7953\"],[0.7777777777777778,\"#fb9f3a\"],[0.8888888888888888,\"#fdca26\"],[1.0,\"#f0f921\"]],\"diverging\":[[0,\"#8e0152\"],[0.1,\"#c51b7d\"],[0.2,\"#de77ae\"],[0.3,\"#f1b6da\"],[0.4,\"#fde0ef\"],[0.5,\"#f7f7f7\"],[0.6,\"#e6f5d0\"],[0.7,\"#b8e186\"],[0.8,\"#7fbc41\"],[0.9,\"#4d9221\"],[1,\"#276419\"]]},\"xaxis\":{\"gridcolor\":\"white\",\"linecolor\":\"white\",\"ticks\":\"\",\"title\":{\"standoff\":15},\"zerolinecolor\":\"white\",\"automargin\":true,\"zerolinewidth\":2},\"yaxis\":{\"gridcolor\":\"white\",\"linecolor\":\"white\",\"ticks\":\"\",\"title\":{\"standoff\":15},\"zerolinecolor\":\"white\",\"automargin\":true,\"zerolinewidth\":2},\"scene\":{\"xaxis\":{\"backgroundcolor\":\"#E5ECF6\",\"gridcolor\":\"white\",\"linecolor\":\"white\",\"showbackground\":true,\"ticks\":\"\",\"zerolinecolor\":\"white\",\"gridwidth\":2},\"yaxis\":{\"backgroundcolor\":\"#E5ECF6\",\"gridcolor\":\"white\",\"linecolor\":\"white\",\"showbackground\":true,\"ticks\":\"\",\"zerolinecolor\":\"white\",\"gridwidth\":2},\"zaxis\":{\"backgroundcolor\":\"#E5ECF6\",\"gridcolor\":\"white\",\"linecolor\":\"white\",\"showbackground\":true,\"ticks\":\"\",\"zerolinecolor\":\"white\",\"gridwidth\":2}},\"shapedefaults\":{\"line\":{\"color\":\"#2a3f5f\"}},\"annotationdefaults\":{\"arrowcolor\":\"#2a3f5f\",\"arrowhead\":0,\"arrowwidth\":1},\"geo\":{\"bgcolor\":\"white\",\"landcolor\":\"#E5ECF6\",\"subunitcolor\":\"white\",\"showland\":true,\"showlakes\":true,\"lakecolor\":\"white\"},\"title\":{\"x\":0.05},\"mapbox\":{\"style\":\"light\"}}},\"title\":{\"text\":\"Probability Density Function of Convolution (x + s)\"}},                        {\"responsive\": true}                    ).then(function(){\n",
       "                            \n",
       "var gd = document.getElementById('1df4ab7c-acc2-4323-b8a8-b00d8f64e675');\n",
       "var x = new MutationObserver(function (mutations, observer) {{\n",
       "        var display = window.getComputedStyle(gd).display;\n",
       "        if (!display || display === 'none') {{\n",
       "            console.log([gd, 'removed!']);\n",
       "            Plotly.purge(gd);\n",
       "            observer.disconnect();\n",
       "        }}\n",
       "}});\n",
       "\n",
       "// Listen for the removal of the full notebook cells\n",
       "var notebookContainer = gd.closest('#notebook-container');\n",
       "if (notebookContainer) {{\n",
       "    x.observe(notebookContainer, {childList: true});\n",
       "}}\n",
       "\n",
       "// Listen for the clearing of the current output cell\n",
       "var outputEl = gd.closest('.output');\n",
       "if (outputEl) {{\n",
       "    x.observe(outputEl, {childList: true});\n",
       "}}\n",
       "\n",
       "                        })                };                });            </script>        </div>"
      ]
     },
     "metadata": {},
     "output_type": "display_data"
    }
   ],
   "source": [
    "import plotly.graph_objects as go\n",
    "import numpy as np\n",
    "\n",
    "# range from -4 to 4 with 100 different possibilities \n",
    "X = np.linspace(-4,4,100).tolist()\n",
    "\n",
    "# make pdf evaluated at each of 100 points\n",
    "fig = go.Figure(data=go.Scatter(x=X, y=[y.pdf(z) for z in X]))\n",
    "fig.update_layout(title=\"Probability Density Function of Convolution (x + s)\")\n",
    "fig.show()"
   ]
  },
  {
   "cell_type": "code",
   "execution_count": 11,
   "id": "3f0e1ddf",
   "metadata": {},
   "outputs": [],
   "source": [
    "# Evaluate PDF of y at each of 100 points\n",
    "pdf_y = [y.pdf(z) for z in X]"
   ]
  },
  {
   "cell_type": "code",
   "execution_count": 12,
   "id": "a126b8ee",
   "metadata": {
    "scrolled": true
   },
   "outputs": [
    {
     "data": {
      "text/plain": [
       "True"
      ]
     },
     "execution_count": 12,
     "metadata": {},
     "output_type": "execute_result"
    }
   ],
   "source": [
    "# Figure does show pdf is continous, also verify pdf is finite\n",
    "all(np.isfinite(pdf_y))  "
   ]
  },
  {
   "cell_type": "markdown",
   "id": "6c5b56a8",
   "metadata": {},
   "source": [
    "Given there are no discontinuities over the entire range -4 to 4 and values of the pdf are finite, we can conclude the pdf of the the convolution (x + s) is continuous."
   ]
  },
  {
   "cell_type": "markdown",
   "id": "27c38394",
   "metadata": {},
   "source": [
    "#### 3. Let $A$ be an m×n matrix. A matrix $A^−$ is a generalized inverse of $A$ if $AA^−A = A$. Such a generalized inverse can be shown to always exist. If $A$ is a matrix of zeros, what can we say about $A^-$?"
   ]
  },
  {
   "cell_type": "markdown",
   "id": "c3665d41",
   "metadata": {},
   "source": [
    "We know that $A^-$ will necessarily have same dimensions as $A$ (m x n) and multiplying it with $A$ will result in a matrix of zeros. "
   ]
  },
  {
   "cell_type": "markdown",
   "id": "119c8acb",
   "metadata": {},
   "source": [
    "#### 4. Econometricians spend a great deal of time writing down linear regressions relating an object “Why” to an object “Ex”, but sometimes use quite distinct notations to express this regression. Following our discussion in class, suggest a notation for each of the three following cases:"
   ]
  },
  {
   "cell_type": "markdown",
   "id": "c0fe9eb7",
   "metadata": {},
   "source": [
    "#### (a) “Why” is a scalar random variable, while “Ex” is a vector random variable;"
   ]
  },
  {
   "cell_type": "markdown",
   "id": "9215d35d",
   "metadata": {},
   "source": [
    "$$ Y = \\beta^T X + u $$"
   ]
  },
  {
   "cell_type": "markdown",
   "id": "7993770c",
   "metadata": {},
   "source": [
    "#### (b) “Why” is a single realization of a scalar random variable, while “Ex” is similarly a single realization;"
   ]
  },
  {
   "cell_type": "markdown",
   "id": "9ab7d8f0",
   "metadata": {},
   "source": [
    "$$ y = \\beta^T x + u $$"
   ]
  },
  {
   "cell_type": "markdown",
   "id": "5679f657",
   "metadata": {},
   "source": [
    "#### (c) Why” is a vector of N realizations, while “Ex” is similarly a matrix of realizations."
   ]
  },
  {
   "cell_type": "markdown",
   "id": "1cae4dd2",
   "metadata": {},
   "source": [
    "$$ Y = X \\beta + u $$"
   ]
  },
  {
   "cell_type": "markdown",
   "id": "eb2a905a",
   "metadata": {},
   "source": [
    "#### 5. Let A be an m×n matrix."
   ]
  },
  {
   "cell_type": "markdown",
   "id": "4e610606",
   "metadata": {},
   "source": [
    "#### (1) If $A$ is a matrix of zeros, what is $A^+$? "
   ]
  },
  {
   "cell_type": "markdown",
   "id": "0cae1c0f",
   "metadata": {},
   "source": [
    "1. $AA^+A = A$ implies that $AA^+$ must be a matrix of zeros because $A$ is a zero matrix, and any matrix multiplied by a zero matrix is a zero matrix.\n",
    "2. $A^+AA^+ = A^+$ implies that $A^+A$ must be a matrix of zeros.\n",
    "3. $(AA^+)^T = AA^+$ implies that $AA^+$ is symmetric. Since $AA^+$ is a zero matrix, it is symmetric.\n",
    "4. $(A^+A)^T = A^+A$ implies that $A^+A$ is symmetric. Since $A^+A$ is a zero matrix, it is symmetric.\n",
    "\n",
    "Given these Moore-Penrose inverse properties, $A^+$ must be a matrix of zeros."
   ]
  },
  {
   "cell_type": "markdown",
   "id": "4a5eb40b",
   "metadata": {},
   "source": [
    "#### (2) Show that if X has full column rank, then $X^+ = (X^TX)^{-1}X^T$ (this is sometimes called the “left inverse), and $X^+X = I$."
   ]
  },
  {
   "cell_type": "markdown",
   "id": "81601b5f-dc02-4407-986a-70ade7214fd1",
   "metadata": {},
   "source": [
    "Proof that $X^+ = (X^TX)^{-1}X^T$:\n",
    "\n",
    "Since $X$ has full column rank, $X^TX$ is positive definite and is invertible. \n",
    "We will show that if $(X^TX)^{-1}X^T$ satisfies the Moore-Penrose Inverse properties, then $X^+ = (X^TX)^{-1}X^T$.\n",
    "\n",
    "Let $ Y = (X^TX)^{-1}X^T $. Observe below that $Y$ satisfies the following 4 properties.\n",
    "\n",
    "1. $XYX = X$\n",
    "\\begin{align}\n",
    "     XYX = X(X^TX)^{-1}X^TX = XIX = X\n",
    "\\end{align}\n",
    "\n",
    "2. $YXY = Y$\n",
    "\\begin{align}\n",
    "     YXY & = (X^TX)^{-1}X^TX(X^TX)^{-1}X^T \\\\\n",
    "   & = (X^TX)^{-1}(X^TX)(X^TX)^{-1}X^T \\\\\n",
    "   & = (X^TX)^{-1}X^T = Y\n",
    "\\end{align}\n",
    "\n",
    "3. $(XY)^T = XY$\n",
    "\\begin{align}\n",
    "     (XY)^T & = (X(X^TX)^{-1}X^T)^T \\\\\n",
    "   & = (X^T)^T((X^TX)^{-1})^TX^T \\\\\n",
    "   & = X(X^TX)^{-T}X^T \\\\\n",
    "   & = X(X^TX)^{-1}X^T \\text{ (because $X^TX$ is symmetric)} \\\\\n",
    "   & = XY\n",
    "\\end{align}\n",
    "\n",
    "5. $(YX)^T = YX$\n",
    "\\begin{align}\n",
    "     (YX)^T &= ((X^TX)^{-1}X^TX)^T \\\\\n",
    "   & = X^T(X^T)^T((X^TX)^{-1})^T \\\\\n",
    "   & = X^TX(X^TX)^{-1} \\\\\n",
    "   & = (X^TX)^{-1}X^TX \\\\\n",
    "   & = YX\n",
    "\\end{align}\n",
    "\n",
    "Proof that $X^+X = I$:\n",
    "\\begin{align}\n",
    "     X^+X & = [(X^TX)^{-1}X^T]X \\\\\n",
    "     & = (X^TX)^{-1}(X^TX) \\\\\n",
    "     & = I\n",
    "\\end{align}"
   ]
  },
  {
   "cell_type": "markdown",
   "id": "2f13665b",
   "metadata": {},
   "source": [
    "#### (3) Use the result of (2) to solve for $b$ in the (matrix) form of the regression $y = Xb+u$ if $X^⊤u = 0$."
   ]
  },
  {
   "cell_type": "markdown",
   "id": "2994813f",
   "metadata": {},
   "source": [
    "\\begin{align}\n",
    "    y & = Xb + u \\\\\n",
    "    X^Ty & = X^TXb + X^Tu \\\\\n",
    "    X^Ty & = X^TXb \\text{ (because $X^Tu$ = 0)} \\\\\n",
    "    (X^TX)^{-1}X^Ty & = (X^TX)^{-1}X^TXb \\\\\n",
    "    (X^TX)^{-1}X^Ty & = Ib \\\\\n",
    "    \\implies b & = (X^TX)^{-1}X^Ty\n",
    "\\end{align}"
   ]
  },
  {
   "cell_type": "markdown",
   "id": "cef56c64",
   "metadata": {},
   "source": [
    "## 3. Convolutions"
   ]
  },
  {
   "cell_type": "markdown",
   "id": "ddbc1dc8",
   "metadata": {},
   "source": [
    "#### (1) As in the notebook, consider a discrete random variable s and a continuous random variable x. Prove that the convolution of s and x (or, informally, x + s) has a continuous distribution, as suggested by the figure at the end of the notebook, or establish that the figure is wrong or misleading."
   ]
  },
  {
   "cell_type": "markdown",
   "id": "f3881670",
   "metadata": {},
   "source": [
    "See exercise 2.2 "
   ]
  },
  {
   "cell_type": "markdown",
   "id": "0808e9cd",
   "metadata": {},
   "source": [
    "#### (2) The notebook develops a simple class ConvolvedContinuousAndDiscrete to allow for the creation and manipulations of (you guessed it) convolutions of a continuous rv with a discrete rv. Can you develop a similar class for convolutions of independent discrete random variables?"
   ]
  },
  {
   "cell_type": "code",
   "execution_count": 13,
   "id": "287f31af-de76-496e-be15-63bd3ec472e9",
   "metadata": {},
   "outputs": [
    {
     "data": {
      "image/png": "[encoded data removed]",
      "text/plain": [
       "<Figure size 640x480 with 1 Axes>"
      ]
     },
     "metadata": {},
     "output_type": "display_data"
    }
   ],
   "source": [
    "import numpy as np\n",
    "import matplotlib.pyplot as plt\n",
    "from scipy.stats import rv_discrete\n",
    "\n",
    "class ConvolvedDiscreteDiscrete:\n",
    "\n",
    "    def __init__(self, rv1, rv2):\n",
    "        self.rv1 = rv1\n",
    "        self.rv2 = rv2\n",
    "\n",
    "    def pmf(self, z):\n",
    "        pmf = 0\n",
    "        for k in self.rv1.xk:\n",
    "            for l in self.rv2.xk:\n",
    "                if k + l == z:\n",
    "                    pmf += self.rv1.pmf(k) * self.rv2.pmf(l)\n",
    "        return pmf\n",
    "\n",
    "    def plot_pmf(self, support_range):\n",
    "        pmf_values = [self.pmf(z) for z in support_range]\n",
    "        plt.stem(support_range, pmf_values)\n",
    "        plt.title('PMF of the Convolved Discrete Random Variables')\n",
    "        plt.xlabel('Value')\n",
    "        plt.ylabel('Probability')\n",
    "        plt.show()\n",
    "\n",
    "# Define two discrete random variables\n",
    "values1 = np.arange(0, 5)  # Possible values for rv1\n",
    "probabilities1 = np.full(5, 1/5)  # Uniform distribution for rv1\n",
    "\n",
    "values2 = np.arange(0, 6)  # Possible values for rv2\n",
    "probabilities2 = np.full(6, 1/6)  # Uniform distribution for rv2\n",
    "\n",
    "rv1 = rv_discrete(name='rv1', values=(values1, probabilities1))\n",
    "rv2 = rv_discrete(name='rv2', values=(values2, probabilities2))\n",
    "\n",
    "convolved_rv = ConvolvedDiscreteDiscrete(rv1, rv2)\n",
    "convolved_rv.plot_pmf(range(0, 11))"
   ]
  },
  {
   "cell_type": "markdown",
   "id": "b7a1a0c8",
   "metadata": {},
   "source": [
    "#### (3) Same as (2), but convolutions of independent continuous random variables? "
   ]
  },
  {
   "cell_type": "code",
   "execution_count": 14,
   "id": "f06e2e4d-bc9f-4487-aabe-9f64c674a5d8",
   "metadata": {},
   "outputs": [
    {
     "data": {
      "image/png": "[encoded data removed]",
      "text/plain": [
       "<Figure size 640x480 with 1 Axes>"
      ]
     },
     "metadata": {},
     "output_type": "display_data"
    }
   ],
   "source": [
    "import numpy as np\n",
    "import matplotlib.pyplot as plt\n",
    "from scipy.stats import norm\n",
    "from scipy.integrate import quad\n",
    "\n",
    "class ConvolvedContinuousContinuous:\n",
    "\n",
    "    def __init__(self, rv1, rv2):\n",
    "        self.rv1 = rv1\n",
    "        self.rv2 = rv2\n",
    "\n",
    "    def pdf(self, z):\n",
    "        # Calculate the PDF of the convolution at point z\n",
    "        def integrand(x):\n",
    "            return self.rv1.pdf(x) * self.rv2.pdf(z - x)\n",
    "\n",
    "        return quad(integrand, -np.inf, np.inf)[0]\n",
    "\n",
    "    def plot_pdf(self, support_range):\n",
    "        pdf_values = [self.pdf(z) for z in support_range]\n",
    "        plt.plot(support_range, pdf_values)\n",
    "        plt.title('PDF of the Convolved Continuous Random Variables')\n",
    "        plt.xlabel('Value')\n",
    "        plt.ylabel('Density')\n",
    "        plt.show()\n",
    "\n",
    "# Define two continuous random variables\n",
    "rv1 = norm(loc=0, scale=1)  # Standard normal distribution\n",
    "rv2 = norm(loc=0, scale=1)  # Standard normal distribution\n",
    "\n",
    "convolved_rv = ConvolvedContinuousContinuous(rv1, rv2)\n",
    "support_range = np.linspace(-10, 10, 200)\n",
    "convolved_rv.plot_pdf(support_range)"
   ]
  },
  {
   "cell_type": "code",
   "execution_count": 15,
   "id": "83a2ec35",
   "metadata": {},
   "outputs": [],
   "source": [
    "# Ei did the chunk above; double-check and we can delete the following parts?\n",
    "# define x and s\n",
    "\n",
    "x = iid.norm()\n",
    "s = iid.norm()"
   ]
  },
  {
   "cell_type": "code",
   "execution_count": 16,
   "id": "664be04f",
   "metadata": {},
   "outputs": [],
   "source": [
    "class ConvolvedIndependentContinuousRandomVariables:\n",
    "    \"\"\"Convolve (add) two independent continuous random variables x and y,\n",
    "       returning the resulting pdf.\"\"\"\n",
    "\n",
    "    def __init__(self, x, s):\n",
    "        self.continuous_rv1 = x\n",
    "        self.continuous_rv2 = s\n",
    "\n",
    "    def pdf(self, z):\n",
    "        result_pdf = 0\n",
    "        x = self.continuous_rv1\n",
    "        s = self.continuous_rv2\n",
    "\n",
    "        for i in range(len(x)):\n",
    "            for j in range(len(s)):\n",
    "                result_pdf += x.pdf(z - x[i]) * s.pdf(s[j])  \n",
    "\n",
    "        return result_pdf\n",
    "\n",
    "\n",
    "    def cdf(self, z): \n",
    "        result_cdf = 0\n",
    "        x = self.continuous_rv1\n",
    "        s = self.continuous_rv2\n",
    "\n",
    "## NEEDS TO BE FINISHED\n",
    "\n",
    "\n"
   ]
  },
  {
   "cell_type": "code",
   "execution_count": 17,
   "id": "31829640",
   "metadata": {},
   "outputs": [],
   "source": [
    "# Create an instance of ConvolvedIndependentContinuousRandomVariables\n",
    "convolved_continuous_rv = ConvolvedIndependentContinuousRandomVariables(x, s)"
   ]
  },
  {
   "cell_type": "markdown",
   "id": "b610af1a-c125-40bd-8218-7d980f85173b",
   "metadata": {},
   "source": [
    "## 4. General Weighted Linear Regressions"
   ]
  },
  {
   "cell_type": "markdown",
   "id": "c516bf58-306d-409f-aeac-e327b41f40f6",
   "metadata": {},
   "source": [
    "####  List the main regression estimators you encountered in the first half of the class. For each estimator, establish whether it belongs to the class of general weighted linear regressions $$ T'Y = T'X \\beta  + T'u $$ For the estimator you’ve listed, if it is a general weighted linear regression then what is the form of $T$? Is $T$ random? If the estimator is not in this class, show why."
   ]
  },
  {
   "cell_type": "markdown",
   "id": "4d0096b0-efad-4b42-89f6-4086303eadc9",
   "metadata": {},
   "source": [
    "##### Main regression estimators\n",
    "OLS,\n",
    "GLS,\n",
    "FGLS,\n",
    "MLE,\n",
    "2SLS,\n",
    "IV"
   ]
  },
  {
   "cell_type": "markdown",
   "id": "7989d12e-3042-487c-9c04-a9454cf71f96",
   "metadata": {},
   "source": [
    "OLS - Yes, OLS is a class of general weighted linear regressions. T would be the identity matrix. However,  since the identity matrix doesn't actually transform the data, some may not consider OLS to be a true general weighted linear regression. OLS assumes homoscedasticity and no autocorrelation in the errors, which does not require any weighting or transformation of the error structure.\n",
    "\n",
    "GLS - Yes, GLS is a class of general weighted linear regressions. T is not random, but it is also not necessarily unique. If the expected squared error given X equals (sigma)^2 * matrix omega(X),  then T is such that omega inverse = T * T' .\n",
    "\n",
    "FGLS - Yes, FGLS is a class og general weighted linear regressions. T is not random, but it is constructed from the matrix omega(X) which we consider to be a random variable.\n",
    "    \n",
    "MLE - Yes, MLE is a class of general weighted linear regressions. T is the identity matrix. However, as with OLS, some may not consider it to be a true general weighted linear regression model when applied to the linear regression model. In this scenario, MLE can coincide with OLS under the assumption of normally distributed errors. It does not inherently use a transformation matrix $T$, so T would be the identity matrix. However, when MLE is used in conjunction with models that assume heteroskedasticity or other structures on the variance-covariance matrix, it could be considered more of a typical general weighted linear regression.\n",
    "\n",
    "2SLS - Yes, 2SLS is a class of general weighted linear regressions. T would be the identity matrix. However, as with OLS, some may not consider this to be a true general weighted linear regression. 2SLS does not require the weighting of observations with a matrix $T$; it substitutes the endogenous variables with their predicted values from the first stage regression. T would have to be the identity matrix, so it wouldn't truly transform the data.\n",
    "\n",
    "IV - Yes, IV is a class of general weighted linear regressions. T would be the identity matrix. However, as with OLS, IV does not typically require the transformation of the error structure or apply weights to observations, so it would be reasonable to not consider this a true general weighted linear regression since the identity matrix doesn't really transform the data."
   ]
  },
  {
   "cell_type": "markdown",
   "id": "305a9b4b-c1e7-496f-b536-ffb01039b5a3",
   "metadata": {},
   "source": [
    "## 5. Simultaneous Equations"
   ]
  },
  {
   "cell_type": "markdown",
   "id": "54987e12-1fcd-4133-8eaa-3409bda81cf6",
   "metadata": {},
   "source": [
    "#### When we defined the general weighted regression, we didn’t assume anything about the dimension of the different objects except that they were `conformable.’ So: consider $$ y = X \\beta + u \\text{ with } ET'u = 0, $$ where $ y = [y_1, y_2, ..., y_k] $, so that if you had a sample of N observations realizations of y would be an N x k matrix."
   ]
  },
  {
   "cell_type": "markdown",
   "id": "c3d34e1c-491e-44d9-97a9-7b0c374808ec",
   "metadata": {},
   "source": [
    "#### (1) What does our assumption of conformability then imply about the dimensions of X, β, T, and u?"
   ]
  },
  {
   "cell_type": "markdown",
   "id": "00b274fc-8b43-4b8a-9d6d-0110240de78e",
   "metadata": {},
   "source": [
    "y = Xβ + u, with ET'u = 0\n",
    "\n",
    "Define r = the number of regressors including intercept\n",
    "\n",
    "y is N x k (given)\n",
    "\n",
    "X is N x r\n",
    "\n",
    "β is r x k\n",
    "\n",
    "T is N x N\n",
    "\n",
    "u is N x k"
   ]
  },
  {
   "cell_type": "markdown",
   "id": "696a8eef-ff09-4f3e-afa9-fbd089d18b33",
   "metadata": {},
   "source": [
    "#### (2) Could you use the estimator we developed in weighted_regression.ipynb to estimate this system of simultaneous equations?"
   ]
  },
  {
   "cell_type": "markdown",
   "id": "091c93e3-a8e9-4431-be21-6a1612a1e1bb",
   "metadata": {},
   "source": [
    "Yes, we could use it to estimate this system of simultaneous equations. The system of simultaneous equations has all the necessary elements."
   ]
  },
  {
   "cell_type": "markdown",
   "id": "69a5165f-8556-4f61-b715-ce3dda1a723a",
   "metadata": {},
   "source": [
    "#### (3) Extend the code in weighted_regression.ipynb to actually estimate β in the case with k = 3."
   ]
  },
  {
   "cell_type": "code",
   "execution_count": 14,
   "id": "fc5fb442-c627-45dc-b96a-7182db2b0fc2",
   "metadata": {},
   "outputs": [
    {
     "name": "stdout",
     "output_type": "stream",
     "text": [
      "Our coefficient estimates are:\n",
      "[0.492421   1.00247849 2.00594102]\n",
      "Covariance matrix:\n",
      "[[ 4.77729207e-05 -1.45050225e-05 -3.32137287e-05]\n",
      " [-1.45050225e-05  4.93567396e-04 -1.46332560e-04]\n",
      " [-3.32137287e-05 -1.46332560e-04  7.43860185e-05]]\n"
     ]
    }
   ],
   "source": [
    "# code adapted from weighted_regression.ipynb\n",
    "import numpy as np\n",
    "from scipy.stats import multivariate_normal\n",
    "\n",
    "k = 3 \n",
    "mu = [0]*k\n",
    "Sigma=[[1,0.5,0],\n",
    "       [0.5,2,0],\n",
    "       [0,0,3]]\n",
    "# define our random variables \n",
    "T_rv = multivariate_normal(mu,Sigma)\n",
    "u_rv = multivariate_normal(cov=0.2)\n",
    "\n",
    "# Construct sample\n",
    "beta = [1/2,1, 2]\n",
    "D = np.random.random(size=(3,3)) # Generate random lxK matrix, where k = 3\n",
    "N=1000 # Sample size\n",
    "# Sample from our random variables\n",
    "T = T_rv.rvs(N)\n",
    "u = u_rv.rvs(N)\n",
    "\n",
    "X = (T**3)@D  \n",
    "y = X@beta + u \n",
    "\n",
    "# Compute numerical solution\n",
    "from scipy.linalg import inv, sqrtm\n",
    "b = np.linalg.lstsq(T.T@X,T.T@y,rcond=None)[0] # lstsq returns several results\n",
    "e = y - X@b\n",
    "\n",
    "print(\"Our coefficient estimates are:\")\n",
    "print(b)\n",
    "\n",
    "TXplus = np.linalg.pinv(T.T@X) # Moore-Penrose pseudo-inverse\n",
    "# Covariance matrix of b\n",
    "vb = e.var()*TXplus@T.T@T@TXplus.T  # u is known to be homoskedastic\n",
    "\n",
    "print(\"Covariance matrix:\")\n",
    "print(vb)"
   ]
  },
  {
   "cell_type": "markdown",
   "id": "7d47d0f5-2fb7-420a-8987-cc71fc9ddbfd",
   "metadata": {},
   "source": [
    "#### (4) What additional assumptions are necessary to estimate the distribution of the estimator of beta?"
   ]
  },
  {
   "cell_type": "markdown",
   "id": "4ed2b1ab-9e7d-4320-bdf8-6a83b753065e",
   "metadata": {},
   "source": [
    "1. Linearity: The relationship between the independent variables and the dependent variable is linear. This is a key feature of the linear regression model.\n",
    "2. Independence: The observations are independent of each other. This means the error term of one observation is not correlated with the error term of another observation.\n",
    "3. Homoscedasticity: The variance of the error terms is constant across all levels of the independent variables (X). If the variance changes (heteroscedasticity), it can affect the efficiency of the estimator.\n",
    "4. Normality: The error terms (u) are normally distributed. This assumption is crucial when the sample size is small, as it allows us to make inferences about β using the t-distribution or z-distribution.\n",
    "5. No multicollinearity: The independent variables are not perfectly collinear, meaning that no independent variable is a perfect linear function of other independent variables."
   ]
  },
  {
   "cell_type": "markdown",
   "id": "2efc0413",
   "metadata": {},
   "source": [
    "## 6. SUR"
   ]
  },
  {
   "cell_type": "markdown",
   "id": "a2fc290c-c8ea-4425-914b-0e3b07cb3f31",
   "metadata": {},
   "source": [
    "#### Picking up from the discussion of simultaneous equations above, where y is N × k, and (3) y = Xβ + u. If X is N × l and cov(u|X) = Ω then this is a generalization of the assumption of homoskedasticity to a multivariate setting; the resulting structure is called a system of “Seemingly Unrelated Regressions” (SUR)."
   ]
  },
  {
   "cell_type": "markdown",
   "id": "d6e4b035",
   "metadata": {},
   "source": [
    "(1) The covariance matrix, Ω, shows the relationshp between error terms across regressions. If the covariance between two error terms (u1 and u2) is non-zero, then  observing a realization of y1 may impact the prediction of y2. The non-zero covariance suggests there are common variables included in the u of both models."
   ]
  },
  {
   "cell_type": "code",
   "execution_count": 15,
   "id": "90aa8a67",
   "metadata": {},
   "outputs": [
    {
     "name": "stdout",
     "output_type": "stream",
     "text": [
      "[[0.50165683 0.48771812 0.51481641]\n",
      " [0.98569583 1.00164566 1.00858089]\n",
      " [2.00016167 2.00175022 1.99831064]]\n",
      "[[ 2.22664479e-04 -6.19993229e-05  1.48854479e-06]\n",
      " [-6.19993229e-05  1.19055693e-04 -2.24174265e-07]\n",
      " [ 1.48854479e-06 -2.24174265e-07  6.49801086e-05]]\n"
     ]
    }
   ],
   "source": [
    "# (2) IN PROGRESS - Code adapted from weighted_regression.ipynb \n",
    "\n",
    "from scipy.stats import multivariate_normal\n",
    "from scipy.linalg import inv, sqrtm\n",
    "import numpy as np\n",
    "\n",
    "\n",
    "# Define variables \n",
    "k = 3 # Number of observables in T\n",
    "\n",
    "mu = [0]*k\n",
    "Sigma=[[1,0.5,0],\n",
    "       [0.5,2,0],\n",
    "       [0,0,3]]\n",
    "\n",
    "Omega=[[0.2,0.05,-0.1],\n",
    "       [0.05,0.2,0],\n",
    "       [-0.1,0,0.2]]     ## I thought this is what we need for a general cov matrix of u, but it makes u \n",
    "                            ### Nx3 instead of NX1 which causes an error generating y below. Stuck \n",
    "\n",
    "T_rv = multivariate_normal(mu,Sigma)\n",
    "u_rv = multivariate_normal(mu, Omega) \n",
    "\n",
    "beta = [1/2,1, 2]\n",
    "beta = np.array(beta).reshape(-1, 1) # Maybe reshape?\n",
    "\n",
    "N=1000 # Sample size\n",
    "\n",
    "# Transform random variables into a sample\n",
    "T = T_rv.rvs(N)\n",
    "u = u_rv.rvs(N) \n",
    "X = T  \n",
    "y = X@beta + u # @ operator for matrix multiplication\n",
    "\n",
    "\n",
    "# Solve numerically \n",
    "b = np.linalg.lstsq(T.T@X,T.T@y,rcond=None)[0] # lstsq returns several results\n",
    "\n",
    "e = y - X@b\n",
    "\n",
    "print(b)\n",
    "\n",
    "TXplus = np.linalg.pinv(T.T@X) # Moore-Penrose pseudo-inverse\n",
    "\n",
    "# UPDATE THIS - Covariance matrix of b\n",
    "vb = e.var()*TXplus@T.T@T@TXplus.T  # u is known to be HETEROskedastic\n",
    "\n",
    "print(vb)"
   ]
  },
  {
   "cell_type": "code",
   "execution_count": null,
   "id": "09c0177c-bcc2-4495-9db9-268cf7755eb9",
   "metadata": {},
   "outputs": [],
   "source": []
  }
 ],
 "metadata": {
  "kernelspec": {
   "display_name": "Python 3 (ipykernel)",
   "language": "python",
   "name": "python3"
  },
  "language_info": {
   "codemirror_mode": {
    "name": "ipython",
    "version": 3
   },
   "file_extension": ".py",
   "mimetype": "text/x-python",
   "name": "python",
   "nbconvert_exporter": "python",
   "pygments_lexer": "ipython3",
   "version": "3.9.15"
  }
 },
 "nbformat": 4,
 "nbformat_minor": 5
}
