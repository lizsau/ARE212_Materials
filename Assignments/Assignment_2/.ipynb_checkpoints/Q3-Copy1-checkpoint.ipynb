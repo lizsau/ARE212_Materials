{
 "cells": [
  {
   "cell_type": "code",
   "execution_count": null,
   "id": "44091c5b-e02a-4911-bda8-0bb00aa541b9",
   "metadata": {},
   "outputs": [],
   "source": [
    "## Q3. \"Plausibly Exogenous\""
   ]
  },
  {
   "cell_type": "code",
   "execution_count": 11,
   "id": "3d3e77ea-4ef6-4486-8c71-2509f167a01e",
   "metadata": {},
   "outputs": [],
   "source": [
    "### Data Generating Process Allowing for gamma different from 0"
   ]
  },
  {
   "cell_type": "code",
   "execution_count": 1,
   "id": "a6ed4802-23c9-4e1b-9919-4a1245fa95e2",
   "metadata": {},
   "outputs": [],
   "source": [
    "# Set parameters\n",
    "(beta, pi) = (2, 1)     \n",
    "sigma = {'u':1/2,'v':1/3,'z':0.7}"
   ]
  },
  {
   "cell_type": "code",
   "execution_count": 2,
   "id": "b711604d-81e3-4dd0-854a-6e8b73442e8f",
   "metadata": {},
   "outputs": [],
   "source": [
    "# Define linear dgp function\n",
    "from scipy.stats import distributions as iid\n",
    "\n",
    "def linear_dgp(N, gamma):\n",
    "    u = iid.norm(scale=sigma['u']).rvs(N)\n",
    "    v = iid.norm(scale=sigma['v']).rvs(N)\n",
    "    Z = iid.norm(scale=sigma['z']).rvs(N)\n",
    "   \n",
    "    X = Z*pi + v\n",
    "    y = X*beta + Z*gamma + u\n",
    "\n",
    "    df = pd.DataFrame({'y':y,'x':X,'z':Z,'Constant':1})\n",
    "\n",
    "    return df[['y']],df[['Constant','x']],df[['Constant','z']]"
   ]
  },
  {
   "cell_type": "code",
   "execution_count": 3,
   "id": "5dfad9a3-9733-4920-9f7e-b49629ff59b7",
   "metadata": {},
   "outputs": [
    {
     "name": "stdout",
     "output_type": "stream",
     "text": [
      "[2.10559107]\n"
     ]
    }
   ],
   "source": [
    "# Draw estimates for beta = 2 when gamma = 0.1\n",
    "import numpy as np\n",
    "import pandas as pd\n",
    "\n",
    "def draw_b(N, dgp, gamma):\n",
    "    \"\"\"\n",
    "    Generate a random variate $b$ from a sample of $N$ draws from a function dgp.\n",
    "    \"\"\"\n",
    "    y,X,Z =  dgp(N, gamma)\n",
    "    return np.linalg.solve(Z.T@X,Z.T@y) # Solve normal eqs for b\n",
    "\n",
    "b = draw_b(1000, linear_dgp, 0.1)[1]\n",
    "\n",
    "print(b)"
   ]
  },
  {
   "cell_type": "code",
   "execution_count": 4,
   "id": "d24436ba-3fcd-4757-8244-017bbaafa981",
   "metadata": {},
   "outputs": [
    {
     "data": {
      "image/png": "[encoded data removed]",
      "text/plain": [
       "<Figure size 640x480 with 1 Axes>"
      ]
     },
     "metadata": {},
     "output_type": "display_data"
    }
   ],
   "source": [
    "import numpy as np\n",
    "import matplotlib.pyplot as plt\n",
    "\n",
    "# Generate 10 equally spaced input points between 0 and 5\n",
    "gamma_vals = np.linspace(0, 0.5, 10)\n",
    "\n",
    "# Calculate output values using the function\n",
    "beta_hat = np.zeros(10)\n",
    "for g in range(10):\n",
    "    beta_hat[g] = draw_b(1000, linear_dgp, gamma_vals[g])[1]\n",
    "\n",
    "# Create a scatter plot\n",
    "plt.scatter(gamma_vals, beta_hat, color='b', label='Estimated Beta')\n",
    "plt.xlabel('Gamma')\n",
    "plt.ylabel('Beta Hat')\n",
    "plt.title('b(gamma) increases with gamma')\n",
    "plt.grid(True)\n",
    "\n",
    "# Show the plot\n",
    "plt.show()"
   ]
  },
  {
   "cell_type": "code",
   "execution_count": 5,
   "id": "4241f193-adf3-40e2-b43d-0148d18ff8e2",
   "metadata": {},
   "outputs": [],
   "source": [
    "# (2) Calculate a region A over which one might fail to reject (i.e.,\n",
    " #Accept) the null hypothesis that b(gamma) = b(0) at a conventional\n",
    " #level of significance. Discuss"
   ]
  },
  {
   "cell_type": "code",
   "execution_count": 6,
   "id": "44e60cef-a252-4770-a65c-e74d862fa756",
   "metadata": {},
   "outputs": [
    {
     "name": "stdout",
     "output_type": "stream",
     "text": [
      "[0.10277586]\n"
     ]
    }
   ],
   "source": [
    "import pandas as pd\n",
    "# First, let's estimate a gamma_hat from regressing y on X and Z\n",
    "def draw_gamma(N, dgp, gamma):\n",
    "    \"\"\"\n",
    "    Generate a random variate $gamma$ from a sample of $N$ draws from a function dgp.\n",
    "    \"\"\"\n",
    "    y,X,Z =  dgp(N, gamma)\n",
    "    tmp = pd.concat([X,Z.iloc[:, 1]], axis = 1) # tmp is a matrix with constants, X, and Z    \n",
    "   \n",
    "    return np.linalg.solve(tmp.T@tmp,tmp.T@y) # Solve normal eqs for b\n",
    "\n",
    "gamma_hat = draw_gamma(1000, linear_dgp, 0.1)[2]\n",
    "print(gamma_hat)"
   ]
  },
  {
   "cell_type": "code",
   "execution_count": null,
   "id": "d8da6f2b-bd59-468d-85f7-37cff09ec87e",
   "metadata": {},
   "outputs": [],
   "source": [
    "# Our estimate for gamma is close to the true parameter = 0.1"
   ]
  },
  {
   "cell_type": "code",
   "execution_count": null,
   "id": "28cf4926-b15c-41b6-9a32-7e99c3795630",
   "metadata": {},
   "outputs": [],
   "source": [
    "# Now, let's construct a 95% confidence interval centered at gamma_hat .... this thought is based on lecture\n",
    "# this week, but i'm not sure if it's the right way to proceed "
   ]
  },
  {
   "cell_type": "code",
   "execution_count": null,
   "id": "ce6e6ee9-700f-4334-89af-374dca182762",
   "metadata": {},
   "outputs": [],
   "source": [
    "# (3) Further modify the framework so that the covariance of Z and\n",
    "#X is equal to a parameter sigma_XZ. Calculate the set B of pairs (gamma, sigma_XZ) \n",
    "#such that one would fail to reject the same null hypothesis at the same level of significance. Discuss."
   ]
  },
  {
   "cell_type": "code",
   "execution_count": 7,
   "id": "d259a045-4455-4868-9d0b-e729642c559b",
   "metadata": {},
   "outputs": [],
   "source": [
    "# set parameters\n",
    "sigma = {'u':1/2,'v':1/3,'z':0.7}\n",
    "# Define modified linear dgp function\n",
    "from scipy.stats import distributions as iid\n",
    "import numpy as np\n",
    "\n",
    "def linear_dgp_cov(N, gamma, sigmaxz):\n",
    "    u = iid.norm(scale=sigma['u']).rvs(N)\n",
    "    means = np.array([1, 2])\n",
    "    cov_xz = np.array([[sigma['v'], sigmaxz], [sigmaxz, sigma['z']]])\n",
    "\n",
    "    [X, Z] = np.random.multivariate_normal(means, cov_xz, N)\n",
    "\n",
    "    y = X*beta + Z*gamma + u\n",
    "\n",
    "    df = pd.DataFrame({'y':y,'x':X,'z':Z,'Constant':1})\n",
    "\n",
    "    return df[['y']],df[['Constant','x']],df[['Constant','z']]\n",
    "\n",
    "# Modify draw_b\n",
    "def draw_b_cov(N, gamma, sigmaxz):\n",
    "    \"\"\"\n",
    "    Generate a random variate $b$ from a sample of $N$ draws from a function dgp.\n",
    "    \"\"\"\n",
    "    y,X,Z =  linear_dgp_cov(N, gamma, sigmaxz)\n",
    "    \n",
    "    print(np.cov(Z,X)[0][1])\n",
    "    \n",
    "    return np.linalg.solve(Z.T@X,Z.T@y) # Solve normal eqs for b"
   ]
  },
  {
   "cell_type": "code",
   "execution_count": 8,
   "id": "0e9812b1-6f0a-42ed-b09f-a2279cbfc98d",
   "metadata": {},
   "outputs": [],
   "source": [
    "sigma = {'u':1/2,'v':1/3,'z':0.7}\n",
    "\n",
    "# Define modified linear dgp function\n",
    "from scipy.stats import distributions as iid\n",
    "import numpy as np\n",
    "\n",
    "def linear_dgp_cov(N, gamma, sigma_xz):\n",
    "    u = iid.norm(scale=sigma['u']).rvs(N)\n",
    "    means = np.array([1, 2])\n",
    "    cov_xz = np.array([[sigma['v'], sigma_xz], [sigma_xz, sigma['z']]])\n",
    "\n",
    "    [X, Z] = np.random.multivariate_normal(means, cov_xz, N)\n",
    "\n",
    "    y = X*beta + Z*gamma + u\n",
    "\n",
    "    df = pd.DataFrame({'y':y,'x':X,'z':Z,'Constant':1})\n",
    "\n",
    "    return df[['y']],df[['Constant','x']],df[['Constant','z']]\n",
    "\n",
    "# Modify draw_b\n",
    "def draw_b_cov(N, gamma, sigma_xz):\n",
    "    \"\"\"\n",
    "    Generate a random variate $b$ from a sample of $N$ draws from a function dgp.\n",
    "    \"\"\"\n",
    "    y,X,Z =  linear_dgp_cov(N, gamma, sigma_xz)\n",
    "    \n",
    "    print(np.cov(Z,X)[0][1])\n",
    "    \n",
    "    return np.linalg.solve(Z.T@X,Z.T@y) # Solve normal eqs for b\n"
   ]
  },
  {
   "cell_type": "code",
   "execution_count": 9,
   "id": "81c39bfe-65f7-4fdf-b2fa-4e31ca3aafe1",
   "metadata": {},
   "outputs": [
    {
     "name": "stderr",
     "output_type": "stream",
     "text": [
      "/tmp/ipykernel_73/398764361.py:12: RuntimeWarning: covariance is not positive-semidefinite.\n",
      "  [X, Z] = np.random.multivariate_normal(means, cov_xz, N)\n"
     ]
    },
    {
     "ename": "ValueError",
     "evalue": "too many values to unpack (expected 2)",
     "output_type": "error",
     "traceback": [
      "\u001b[0;31m---------------------------------------------------------------------------\u001b[0m",
      "\u001b[0;31mValueError\u001b[0m                                Traceback (most recent call last)",
      "Cell \u001b[0;32mIn[9], line 1\u001b[0m\n\u001b[0;32m----> 1\u001b[0m b \u001b[38;5;241m=\u001b[39m \u001b[43mdraw_b_cov\u001b[49m\u001b[43m(\u001b[49m\u001b[38;5;241;43m1000\u001b[39;49m\u001b[43m,\u001b[49m\u001b[43m \u001b[49m\u001b[38;5;241;43m0.05\u001b[39;49m\u001b[43m,\u001b[49m\u001b[43m \u001b[49m\u001b[38;5;241;43m0.5\u001b[39;49m\u001b[43m)\u001b[49m[\u001b[38;5;241m1\u001b[39m]\n",
      "Cell \u001b[0;32mIn[8], line 25\u001b[0m, in \u001b[0;36mdraw_b_cov\u001b[0;34m(N, gamma, sigma_xz)\u001b[0m\n\u001b[1;32m     21\u001b[0m \u001b[38;5;28;01mdef\u001b[39;00m \u001b[38;5;21mdraw_b_cov\u001b[39m(N, gamma, sigma_xz):\n\u001b[1;32m     22\u001b[0m \u001b[38;5;250m    \u001b[39m\u001b[38;5;124;03m\"\"\"\u001b[39;00m\n\u001b[1;32m     23\u001b[0m \u001b[38;5;124;03m    Generate a random variate $b$ from a sample of $N$ draws from a function dgp.\u001b[39;00m\n\u001b[1;32m     24\u001b[0m \u001b[38;5;124;03m    \"\"\"\u001b[39;00m\n\u001b[0;32m---> 25\u001b[0m     y,X,Z \u001b[38;5;241m=\u001b[39m  \u001b[43mlinear_dgp_cov\u001b[49m\u001b[43m(\u001b[49m\u001b[43mN\u001b[49m\u001b[43m,\u001b[49m\u001b[43m \u001b[49m\u001b[43mgamma\u001b[49m\u001b[43m,\u001b[49m\u001b[43m \u001b[49m\u001b[43msigma_xz\u001b[49m\u001b[43m)\u001b[49m\n\u001b[1;32m     27\u001b[0m     \u001b[38;5;28mprint\u001b[39m(np\u001b[38;5;241m.\u001b[39mcov(Z,X)[\u001b[38;5;241m0\u001b[39m][\u001b[38;5;241m1\u001b[39m])\n\u001b[1;32m     29\u001b[0m     \u001b[38;5;28;01mreturn\u001b[39;00m np\u001b[38;5;241m.\u001b[39mlinalg\u001b[38;5;241m.\u001b[39msolve(Z\u001b[38;5;241m.\u001b[39mT\u001b[38;5;129m@X\u001b[39m,Z\u001b[38;5;241m.\u001b[39mT\u001b[38;5;129m@y\u001b[39m)\n",
      "Cell \u001b[0;32mIn[8], line 12\u001b[0m, in \u001b[0;36mlinear_dgp_cov\u001b[0;34m(N, gamma, sigma_xz)\u001b[0m\n\u001b[1;32m      9\u001b[0m means \u001b[38;5;241m=\u001b[39m np\u001b[38;5;241m.\u001b[39marray([\u001b[38;5;241m1\u001b[39m, \u001b[38;5;241m2\u001b[39m])\n\u001b[1;32m     10\u001b[0m cov_xz \u001b[38;5;241m=\u001b[39m np\u001b[38;5;241m.\u001b[39marray([[sigma[\u001b[38;5;124m'\u001b[39m\u001b[38;5;124mv\u001b[39m\u001b[38;5;124m'\u001b[39m], sigma_xz], [sigma_xz, sigma[\u001b[38;5;124m'\u001b[39m\u001b[38;5;124mz\u001b[39m\u001b[38;5;124m'\u001b[39m]]])\n\u001b[0;32m---> 12\u001b[0m [X, Z] \u001b[38;5;241m=\u001b[39m np\u001b[38;5;241m.\u001b[39mrandom\u001b[38;5;241m.\u001b[39mmultivariate_normal(means, cov_xz, N)\n\u001b[1;32m     14\u001b[0m y \u001b[38;5;241m=\u001b[39m X\u001b[38;5;241m*\u001b[39mbeta \u001b[38;5;241m+\u001b[39m Z\u001b[38;5;241m*\u001b[39mgamma \u001b[38;5;241m+\u001b[39m u\n\u001b[1;32m     16\u001b[0m df \u001b[38;5;241m=\u001b[39m pd\u001b[38;5;241m.\u001b[39mDataFrame({\u001b[38;5;124m'\u001b[39m\u001b[38;5;124my\u001b[39m\u001b[38;5;124m'\u001b[39m:y,\u001b[38;5;124m'\u001b[39m\u001b[38;5;124mx\u001b[39m\u001b[38;5;124m'\u001b[39m:X,\u001b[38;5;124m'\u001b[39m\u001b[38;5;124mz\u001b[39m\u001b[38;5;124m'\u001b[39m:Z,\u001b[38;5;124m'\u001b[39m\u001b[38;5;124mConstant\u001b[39m\u001b[38;5;124m'\u001b[39m:\u001b[38;5;241m1\u001b[39m})\n",
      "\u001b[0;31mValueError\u001b[0m: too many values to unpack (expected 2)"
     ]
    }
   ],
   "source": [
    "b = draw_b_cov(1000, 0.05, 0.5)[1]  # sigma_xz set to 0.5"
   ]
  },
  {
   "cell_type": "code",
   "execution_count": null,
   "id": "5d3cd8a4-20e3-4bbe-aac4-d2fbc6addd7c",
   "metadata": {},
   "outputs": [],
   "source": [
    "#The error I'm getting when I call linear_dgp_cov is that it expects 2 variables but it should have 3 i think"
   ]
  }
 ],
 "metadata": {
  "kernelspec": {
   "display_name": "Python 3 (ipykernel)",
   "language": "python",
   "name": "python3"
  },
  "language_info": {
   "codemirror_mode": {
    "name": "ipython",
    "version": 3
   },
   "file_extension": ".py",
   "mimetype": "text/x-python",
   "name": "python",
   "nbconvert_exporter": "python",
   "pygments_lexer": "ipython3",
   "version": "3.9.15"
  }
 },
 "nbformat": 4,
 "nbformat_minor": 5
}
