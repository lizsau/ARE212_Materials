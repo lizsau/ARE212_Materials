{
 "cells": [
  {
   "cell_type": "markdown",
   "id": "db4becb0-8831-44b1-9cd3-5fc25c7ef7df",
   "metadata": {},
   "source": [
    "### 3. Plausibly Exogenous"
   ]
  },
  {
   "cell_type": "markdown",
   "id": "44a3dce4-b0f5-4cc0-a218-8e88840a6069",
   "metadata": {},
   "source": [
    "The Wright Model: y = Xβ + u\n",
    "with a right-hand-side variable (price) that depends on the disturbance u.\n",
    "\n",
    "\n",
    "(1) We previously found that with some instrumental variables Z\n",
    "satisfying the moment condition E(u<sup>T</sup>.Z) = 0, it becomes possible to identify β. Explain in detail how this works, and exactly\n",
    "what assumptions are required."
   ]
  },
  {
   "cell_type": "markdown",
   "id": "4f3b66ce-0cb0-400a-8a21-7975590ba58b",
   "metadata": {},
   "source": [
    "Usually, we estimate the population parameter β using our regression parameter b in the following way:\n",
    "\n",
    "Population: <br>\n",
    "y= Xβ + u <br>\n",
    "β= X<sup>+</sup> y - X<sup>+</sup>u <br>\n",
    "\n",
    "When the Conditional Mean Expectation Assumption holds : E[u<sup>T</sup>|X]=0 <br>\n",
    "E[β]= b = X<sup>+</sup> y\n",
    "\n",
    "However, when E[u<sup>T</sup>|X]!=0, and strict exogeneity can longer be assumed as in the Wright Model above. We can address this endogeneity, by introducing instrumental variables Z into our model.\n",
    "\n",
    "Multiplying Z<sup>T</sup> to both sides of our population equation we get,\n",
    "Z<sup>T</sup> y= Z<sup>T</sup> Xβ + Z<sup>T</sup> u <br>\n",
    "Therefore, <br>\n",
    "\n",
    "β = E[Z<sup>T</sup>X]<sup>+</sup> E[Z<sup>T</sup>y]<br>\n",
    "\n",
    "The identifying assumptions required for this to hold true are:\n",
    "\n",
    "1) The orthogonality assumption: E(u<sup>T</sup>.Z) = 0 (The instruments do not directly affect y)  \n",
    "2) The relevance assumption: E[Z<sup>T</sup>X] has full column rank to be invertible \n",
    "    implying we cannot have more instruments than endogenous variables and that the instruments and endogenous variables cannot be perfectly collinear.\n"
   ]
  },
  {
   "cell_type": "code",
   "execution_count": null,
   "id": "ac51a16e-f405-4477-bb19-f0a139060c36",
   "metadata": {},
   "outputs": [],
   "source": []
  }
 ],
 "metadata": {
  "kernelspec": {
   "display_name": "Python 3 (ipykernel)",
   "language": "python",
   "name": "python3"
  },
  "language_info": {
   "codemirror_mode": {
    "name": "ipython",
    "version": 3
   },
   "file_extension": ".py",
   "mimetype": "text/x-python",
   "name": "python",
   "nbconvert_exporter": "python",
   "pygments_lexer": "ipython3",
   "version": "3.9.15"
  }
 },
 "nbformat": 4,
 "nbformat_minor": 5
}
