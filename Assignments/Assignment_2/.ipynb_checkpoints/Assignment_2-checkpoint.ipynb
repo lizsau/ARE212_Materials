{
 "cells": [
  {
   "cell_type": "markdown",
   "id": "1674da76-c0a0-4bf0-9a33-dff579f2868f",
   "metadata": {},
   "source": [
    "# Assignment 2 - Ei, Manavi, Katie, Omair, and Liz"
   ]
  },
  {
   "cell_type": "markdown",
   "id": "52f7b934-ea86-4195-bfe1-6e58eee81849",
   "metadata": {},
   "source": [
    "## 1. Exercises"
   ]
  },
  {
   "cell_type": "markdown",
   "id": "471f5924-cd6b-48c5-9b09-c56d734ec32c",
   "metadata": {},
   "source": [
    "#### 1. Evaluate the truth of following statement: In the linear regression y = Xβ + u the usual identifying assumption E(u|X) = 0 (call this an assumption of mean independence) implies E(h(X) · u) = 0 for any function h satisfying some regularity conditions related to measurability."
   ]
  },
  {
   "cell_type": "markdown",
   "id": "cd0e01a5-a1c1-4dfe-8fd2-2220421609ae",
   "metadata": {},
   "source": [
    "This is true because of the law of iterated expectations.\n",
    "$$ E(h(X) \\cdot u) = E(E(h(X) \\cdot u | X)) $$\n",
    "Since $$ E(u|X) = 0 $$ this becomes\n",
    "$$ E(E(h(X) \\cdot 0 | X)) $$\n",
    "$$ E(E(0 | X)) = 0 $$"
   ]
  },
  {
   "cell_type": "markdown",
   "id": "a25fc4b4-e7ba-46ca-8dc2-3dd842ca7d1d",
   "metadata": {},
   "source": [
    "#### 2. Suppose y, x and u are scalar random variables, with y and x observed but u unobserved. Consider the function h(x) = $x^3$; under standard assumptions this satisfies our concerns about measurability, so E(u|x) = 0 implies E(u$x^3$) = 0. Use this last condition to motivate a simple least squares estimator of the regression equation y = α + βx + u. How does this differ from the usual OLS estimator? Why might one prefer one to the other, and under what conditions?"
   ]
  },
  {
   "cell_type": "markdown",
   "id": "22f4db30-0c92-4004-9e4f-9b5052c570a2",
   "metadata": {},
   "source": [
    "First, multiply both sides of the regression equation by $x^3$ to obtain\n",
    "$$ y \\cdot x^3= α\\cdot x^3 + βx\\cdot x^3 + u\\cdot x^3 $$\n",
    "When $E(u|x)=0$, then $E(ux^3)=0$. So,\n",
    "$$ E(y \\cdot x^3)= E(α\\cdot x^3) + E(βx\\cdot x^3) + E(u\\cdot x^3) = α\\cdot E(x^3) + β\\cdot E(x^4) $$\n",
    "This is different from the usual OLS estimator because it doesn't contain an error term and relies on an assumption about the form of u.\n",
    "We might prefer this simple least squares estimator when we know something about u and can credibly claim $E(u\\cdot h(X))=0$. This estimator provides greater consistency (assuming the assumption about u is accurate). We would prefer normal OLS when we don't know anything about u."
   ]
  },
  {
   "cell_type": "markdown",
   "id": "5f90f2bc-55b1-4abf-bbfa-4716027c1466",
   "metadata": {},
   "source": [
    "#### 3. Sometimes we will encounter estimators (e.g., Maximum likelihood) that adopt an assumption of independence, rather than mean independence. In the current setting this might be expressed as something like $Pr(x < x ∩ u < u) = F(x)G(u)$ for some cumulative distribution functions F and G. Show that independence implies mean independence, but not the converse."
   ]
  },
  {
   "cell_type": "code",
   "execution_count": null,
   "id": "a2bb03c4-c785-487f-86c9-cbcec926c3aa",
   "metadata": {},
   "outputs": [],
   "source": []
  },
  {
   "cell_type": "code",
   "execution_count": null,
   "id": "c3584383-1bd1-4f98-ac62-476033328c95",
   "metadata": {},
   "outputs": [],
   "source": []
  },
  {
   "cell_type": "markdown",
   "id": "065dead7-a37c-4389-836d-032872487303",
   "metadata": {},
   "source": [
    "## 6. Angriest-Krueger (1991) Replication"
   ]
  },
  {
   "cell_type": "markdown",
   "id": "91626afa-33e8-4efd-aa5e-15bc87709169",
   "metadata": {},
   "source": [
    "You'll find data from a famous paper by Angrist and Krueger (1991) in the ARE212_Materials repository, along with a pdf of the paper. The paper uses information on quarter of birth as an instrument for (endogenous) education to measure returns to education. The first specification in the paper is given in their equations (1) and (2)."
   ]
  },
  {
   "cell_type": "markdown",
   "id": "57cd0f55-27b2-4d27-a6bc-ea1b33393a44",
   "metadata": {},
   "source": [
    "#### 1. What is the (implicit) identifying assumption? Comment on its \n",
    "plausibility\r"
   ]
  },
  {
   "cell_type": "code",
   "execution_count": null,
   "id": "9049189c-23c6-416e-ba4b-c323f9748e1e",
   "metadata": {},
   "outputs": [],
   "source": []
  },
  {
   "cell_type": "markdown",
   "id": "9417779e-9f1b-49c4-bd18-93e5fd9a5501",
   "metadata": {},
   "source": [
    "#### 2. Using their data, estimate (2), replicating the figures in their \n",
    "Table 5, using the conventional two-stage least squares IV esti\u0002mator (what they call TSLS)."
   ]
  },
  {
   "cell_type": "code",
   "execution_count": 11,
   "id": "761b0256-026e-42e1-b470-33fafebb8971",
   "metadata": {},
   "outputs": [],
   "source": [
    "import pandas as pd\n",
    "\n",
    "# read in dta file\n",
    "file_path = '~/ARE212_Materials/angrist-krueger91.dta'\n",
    "df = pd.read_stata(file_path)\n",
    "\n",
    "# quick summary of data\n",
    "print(df.describe)"
   ]
  },
  {
   "cell_type": "code",
   "execution_count": 14,
   "id": "34603701-1a03-4614-93e3-ef24021f200f",
   "metadata": {},
   "outputs": [
    {
     "name": "stdout",
     "output_type": "stream",
     "text": [
      "<bound method NDFrame.describe of          ageq  edu   logwage  married  state  qob  black  smsa   yob  region\n",
      "0       47.00   12  6.245846        1      1    1      1     1  1933     0.0\n",
      "1       46.25   12  5.847161        1     48    4      1     1  1933     0.0\n",
      "2       50.00   12  6.645516        1      2    1      1     1  1930     0.0\n",
      "3       47.00   16  6.706133        1     22    1      1     1  1933     0.0\n",
      "4       42.25   14  6.357876        1     42    4      1     1  1937     0.0\n",
      "...       ...  ...       ...      ...    ...  ...    ...   ...   ...     ...\n",
      "329504  42.50   10  4.583833        1     26    3      1     1  1937     4.0\n",
      "329505  42.00   12  5.784210        1     22    1      1     1  1938     4.0\n",
      "329506  41.00   12  5.707302        1     48    1      1     1  1939     4.0\n",
      "329507  47.25   12  5.952494        1     42    4      1     1  1932     4.0\n",
      "329508  48.50   13  6.047781        1     20    3      1     1  1931     4.0\n",
      "\n",
      "[329509 rows x 10 columns]>\n"
     ]
    }
   ],
   "source": [
    "# quick summary of data\n",
    "print(df.describe)"
   ]
  },
  {
   "cell_type": "code",
   "execution_count": null,
   "id": "69f1dacb-d4bb-4d24-8b18-894e2632f6e3",
   "metadata": {},
   "outputs": [],
   "source": []
  }
 ],
 "metadata": {
  "kernelspec": {
   "display_name": "Python 3 (ipykernel)",
   "language": "python",
   "name": "python3"
  },
  "language_info": {
   "codemirror_mode": {
    "name": "ipython",
    "version": 3
   },
   "file_extension": ".py",
   "mimetype": "text/x-python",
   "name": "python",
   "nbconvert_exporter": "python",
   "pygments_lexer": "ipython3",
   "version": "3.9.15"
  }
 },
 "nbformat": 4,
 "nbformat_minor": 5
}
