{
 "cells": [
  {
   "cell_type": "markdown",
   "id": "275cd01c",
   "metadata": {},
   "source": [
    "### 4. Weak Instruments"
   ]
  },
  {
   "cell_type": "markdown",
   "id": "10cfaf6a",
   "metadata": {},
   "source": [
    "(1) Construct a data-generating process dgp which takes as arguments (n, β, π) and returns a triple (y, x, Z) of n observations."
   ]
  },
  {
   "cell_type": "code",
   "execution_count": 2,
   "id": "446169e2",
   "metadata": {},
   "outputs": [],
   "source": [
    "import numpy as np\n",
    "import pandas as pd\n",
    "import statsmodels.api as sm\n",
    "from scipy.stats import t\n",
    "import matplotlib.pyplot as plt \n",
    "\n",
    "def dgp(n, beta, pi):\n",
    "    # Generate Z based on l (length of coefficient vector inputted for pi)\n",
    "    l = len(pi)\n",
    "    Z = np.random.randn(n, l)\n",
    "    \n",
    "    # Generate v (error term regressing x on Z)\n",
    "    v = np.random.randn(n)\n",
    "    \n",
    "    # Generate x\n",
    "    x = Z.dot(pi) + v\n",
    "    \n",
    "    # Generate u (error term for y)\n",
    "    u = np.random.randn(n)\n",
    "    \n",
    "    # Generate y\n",
    "    y = beta * x + u\n",
    "    \n",
    "    return y, x, Z"
   ]
  },
  {
   "cell_type": "markdown",
   "id": "de779b07",
   "metadata": {},
   "source": [
    "(2) Use the dgp function you’ve constructed to explore IV (2SLS) estimates of β as a function of π when l = 1 using a Monte Carlo approach, assuming homoskedastic errors."
   ]
  },
  {
   "cell_type": "code",
   "execution_count": 5,
   "id": "aa34b064",
   "metadata": {},
   "outputs": [
    {
     "name": "stdout",
     "output_type": "stream",
     "text": [
      "Shape of y: (1000,)\n",
      "Shape of x: (1000,)\n",
      "Shape of Z: (1000, 1)\n"
     ]
    }
   ],
   "source": [
    "# Run dgp function to test\n",
    "y, x, Z = dgp(1000, 2, np.array([0.75]))\n",
    "\n",
    "# Print the shapes of generated arrays\n",
    "print(\"Shape of y:\", y.shape)\n",
    "print(\"Shape of x:\", x.shape)\n",
    "print(\"Shape of Z:\", Z.shape)"
   ]
  },
  {
   "cell_type": "markdown",
   "id": "10f9dc7b",
   "metadata": {},
   "source": [
    "(a) Write a function two_sls which takes as arguments (y, x, Z) and returns two-stage least squares estimates of β and the standard error of the estimate."
   ]
  },
  {
   "cell_type": "code",
   "execution_count": 6,
   "id": "cbf2f19a",
   "metadata": {},
   "outputs": [
    {
     "name": "stdout",
     "output_type": "stream",
     "text": [
      "Estimated coefficient (beta_hat): 2.0326869702886734\n",
      "Standard error of the estimate (SE): 0.10120952935421171\n"
     ]
    }
   ],
   "source": [
    "def two_sls(y, x, Z):\n",
    "    # First stage regression\n",
    "    first_stage_model = sm.OLS(x, Z).fit()\n",
    "    # Store fitted values\n",
    "    x_hat = first_stage_model.predict()\n",
    "\n",
    "    # Second stage regression\n",
    "    second_stage_model = sm.OLS(y, sm.add_constant(x_hat)).fit()\n",
    "\n",
    "    # Pull coefficient estimate of beta hat and standard error\n",
    "    beta_hat = second_stage_model.params[1]\n",
    "    se = second_stage_model.bse[1]\n",
    "\n",
    "    return beta_hat, se\n",
    "\n",
    "# Set the seed for reproducibility\n",
    "np.random.seed(1)\n",
    "\n",
    "# Example usage\n",
    "beta_hat, se = two_sls(y, x, Z)\n",
    "\n",
    "# Print estimated coefficient and standard error\n",
    "print(\"Estimated coefficient (beta_hat):\", beta_hat)\n",
    "print(\"Standard error of the estimate (SE):\", se)\n",
    "\n",
    "# note that SEs are off -->estimated thing rather observed variable --> \n",
    "# blows up SEs "
   ]
  },
  {
   "cell_type": "markdown",
   "id": "c4b53ac3",
   "metadata": {},
   "source": [
    "b) Taking β = π = 1, use repeated draws from dgp to check the bias, and precision of the two_sls estimator, as well as the size and power of a t-test of the hypothesis that β = 0. Discuss. Does a 95% confidence interval (based on your 2SLS estimator) correctly cover 95% of your Monte Carlo draws?"
   ]
  },
  {
   "cell_type": "code",
   "execution_count": 11,
   "id": "a8d1f478",
   "metadata": {},
   "outputs": [],
   "source": [
    "def monte_carlo_simulation(n_simulations, n, beta, pi):\n",
    "    # Store draws in results list\n",
    "    results = []\n",
    "    for i in range(n_simulations):\n",
    "        # Run simulation\n",
    "        y, x, Z = dgp(n, beta, pi)\n",
    "        \n",
    "        # Pull beta_hat and se for each draw\n",
    "        beta_hat, se = two_sls(y, x, Z)\n",
    "        \n",
    "        # calculate t-stat and p-value\n",
    "        t_stat = (beta_hat - 0) / se\n",
    "        p_value = 2 * (1 - t.cdf(abs(t_stat), df=n-2))\n",
    "        # reject_null = p_value < 0.05\n",
    "        reject_null = 1 if p_value < 0.05 else 0\n",
    "        results.append({'beta_hat': beta_hat, 'se': se, 't-stat': t_stat,\n",
    "                        'p-value': p_value, 'reject_null': reject_null})\n",
    "        \n",
    "    return pd.DataFrame(results)\n",
    "\n",
    "# Define Parameters\n",
    "# Re-run dgp function assuming β = π = 1\n",
    "n_simulations = 1000\n",
    "n = 1000\n",
    "beta = 1\n",
    "pi = np.array([1])\n",
    "\n",
    "# Set the seed for reproducibility\n",
    "np.random.seed(1)\n",
    "\n",
    "# Run Monte Carlo simulation\n",
    "simulation_results = monte_carlo_simulation(n_simulations, n, beta, pi)"
   ]
  },
  {
   "cell_type": "code",
   "execution_count": 12,
   "id": "6bd21a2e",
   "metadata": {},
   "outputs": [],
   "source": [
    "# Calculate bias and precision of 2SLS estimator\n",
    "# bias: E[beta_hat] - beta \n",
    "bias = simulation_results['beta_hat'].mean() - beta\n",
    "# precision: sqrt [var(beta_hat)/n]\n",
    "precision = simulation_results['beta_hat'].std()/np.sqrt(len(simulation_results['beta_hat']))\n",
    "\n",
    "# Calculate size and power of t-test\n",
    "size = simulation_results['reject_null'].mean()\n",
    "power = 1 - size\n",
    "\n",
    "# todo: check , maybe it rounds?"
   ]
  },
  {
   "cell_type": "code",
   "execution_count": 13,
   "id": "c43e0625",
   "metadata": {},
   "outputs": [],
   "source": [
    "# Calculate coverage probability of 95% confidence interval\n",
    "ci_coverage = simulation_results[(simulation_results['beta_hat'] - 1.96 * simulation_results['se'] < beta) &\n",
    "                                  (simulation_results['beta_hat'] + 1.96 * simulation_results['se'] > beta)].shape[0] / n_simulations\n"
   ]
  },
  {
   "cell_type": "code",
   "execution_count": 15,
   "id": "165f5daf",
   "metadata": {},
   "outputs": [
    {
     "name": "stdout",
     "output_type": "stream",
     "text": [
      "Bias of 2SLS estimator: -0.0013769816865324414\n",
      "Precision of 2SLS estimator: 0.000989867802182021\n",
      "Size of t-test: 1.0\n",
      "Power of t-test: 0.0\n",
      "Coverage probability of 95% CI: 0.994\n"
     ]
    }
   ],
   "source": [
    "print(\"Bias of 2SLS estimator:\", bias)\n",
    "print(\"Precision of 2SLS estimator:\", precision)\n",
    "print(\"Size of t-test:\", size)\n",
    "print(\"Power of t-test:\", power)\n",
    "print(\"Coverage probability of 95% CI:\", ci_coverage)"
   ]
  },
  {
   "cell_type": "markdown",
   "id": "9a85d111",
   "metadata": {},
   "source": [
    "We observe very low bias, suggesting that the estimator is performing well in estimating the true parameter value. \n",
    "\n",
    "As we find above, weak instruments can lead to overstatement of the significance of estimated effects. Despite the inflated SEs, the t-statistics may still suggest statistical significance due to the large sample size. \n",
    "\n",
    "Yes, the 95% confidence intervals constructed from the 2SLS estimator cover over 95% of my Monte Carlo draws."
   ]
  },
  {
   "cell_type": "markdown",
   "id": "77d0d149",
   "metadata": {},
   "source": [
    "(c) Taking β = 1, but allowing π ∈ [0, 1] again evaluate the bias and precision of the estimator, and the size and power of a t-test. The Z instrument is “weak” when π is “close” to zero. Comment on how a weak instrument affects two- stage least squares estimators."
   ]
  },
  {
   "cell_type": "code",
   "execution_count": 31,
   "id": "2b017216",
   "metadata": {},
   "outputs": [
    {
     "name": "stdout",
     "output_type": "stream",
     "text": [
      "Random value of pi between 0 and 1 (as array): [0.26143982]\n"
     ]
    }
   ],
   "source": [
    "# Re-Define Parameters\n",
    "# Re-run dgp function assuming β = 1 and allowing π ∈ [0, 1]\n",
    "# For each draw the value of pi is different?\n",
    "n_simulations = 1000\n",
    "n = 1000\n",
    "beta = 1\n",
    "# Create random value in between 0 and 1 \n",
    "pi = np.array([np.random.uniform(0, 1)])\n",
    "\n",
    "# Set the seed for reproducibility\n",
    "np.random.seed(1)\n",
    "\n",
    "print(\"Random value of pi between 0 and 1 (as array):\", pi)"
   ]
  },
  {
   "cell_type": "code",
   "execution_count": 32,
   "id": "4280251f",
   "metadata": {},
   "outputs": [
    {
     "ename": "TypeError",
     "evalue": "only integer scalar arrays can be converted to a scalar index",
     "output_type": "error",
     "traceback": [
      "\u001b[0;31m---------------------------------------------------------------------------\u001b[0m",
      "\u001b[0;31mTypeError\u001b[0m                                 Traceback (most recent call last)",
      "Cell \u001b[0;32mIn[32], line 2\u001b[0m\n\u001b[1;32m      1\u001b[0m \u001b[38;5;66;03m# Run Monte Carlo simulation\u001b[39;00m\n\u001b[0;32m----> 2\u001b[0m simulation_results \u001b[38;5;241m=\u001b[39m monte_carlo_simulation(n_simulations, n, beta, pi)\n\u001b[1;32m      4\u001b[0m \u001b[38;5;66;03m# Calculate bias and precision of 2SLS estimator\u001b[39;00m\n\u001b[1;32m      5\u001b[0m \u001b[38;5;66;03m# bias: E[beta_hat] - beta \u001b[39;00m\n\u001b[1;32m      6\u001b[0m bias \u001b[38;5;241m=\u001b[39m simulation_results[\u001b[38;5;124m'\u001b[39m\u001b[38;5;124mbeta_hat\u001b[39m\u001b[38;5;124m'\u001b[39m]\u001b[38;5;241m.\u001b[39mmean() \u001b[38;5;241m-\u001b[39m beta\n",
      "Cell \u001b[0;32mIn[16], line 8\u001b[0m, in \u001b[0;36mmonte_carlo_simulation\u001b[0;34m(n_simulations, n, beta, pi_range)\u001b[0m\n\u001b[1;32m      6\u001b[0m pi \u001b[38;5;241m=\u001b[39m np\u001b[38;5;241m.\u001b[39marray([pi_value])\n\u001b[1;32m      7\u001b[0m \u001b[38;5;28;01mfor\u001b[39;00m _ \u001b[38;5;129;01min\u001b[39;00m \u001b[38;5;28mrange\u001b[39m(n_simulations):\n\u001b[0;32m----> 8\u001b[0m     y, x, Z \u001b[38;5;241m=\u001b[39m dgp(n, beta, pi)\n\u001b[1;32m      9\u001b[0m     beta_hat, se \u001b[38;5;241m=\u001b[39m two_sls(y, x, Z)\n\u001b[1;32m     10\u001b[0m     t_stat \u001b[38;5;241m=\u001b[39m (beta_hat \u001b[38;5;241m-\u001b[39m \u001b[38;5;241m0\u001b[39m) \u001b[38;5;241m/\u001b[39m se\n",
      "Cell \u001b[0;32mIn[21], line 3\u001b[0m, in \u001b[0;36mdgp\u001b[0;34m(n, beta, l)\u001b[0m\n\u001b[1;32m      1\u001b[0m \u001b[38;5;28;01mdef\u001b[39;00m \u001b[38;5;21mdgp\u001b[39m(n, beta, l):\n\u001b[1;32m      2\u001b[0m     \u001b[38;5;66;03m# Generate Z based on the sequence {1, 1/2, 1/4, 1/8, ...}\u001b[39;00m\n\u001b[0;32m----> 3\u001b[0m     sequence \u001b[38;5;241m=\u001b[39m np\u001b[38;5;241m.\u001b[39marray([\u001b[38;5;241m1\u001b[39m \u001b[38;5;241m/\u001b[39m \u001b[38;5;241m2\u001b[39m\u001b[38;5;241m*\u001b[39m\u001b[38;5;241m*\u001b[39mi \u001b[38;5;28;01mfor\u001b[39;00m i \u001b[38;5;129;01min\u001b[39;00m \u001b[38;5;28mrange\u001b[39m(\u001b[38;5;241m1\u001b[39m, l\u001b[38;5;241m+\u001b[39m\u001b[38;5;241m1\u001b[39m)])\n\u001b[1;32m      4\u001b[0m     Z \u001b[38;5;241m=\u001b[39m np\u001b[38;5;241m.\u001b[39mrandom\u001b[38;5;241m.\u001b[39mrandn(n, l)\n\u001b[1;32m      5\u001b[0m     \u001b[38;5;28;01mfor\u001b[39;00m i \u001b[38;5;129;01min\u001b[39;00m \u001b[38;5;28mrange\u001b[39m(l):\n",
      "\u001b[0;31mTypeError\u001b[0m: only integer scalar arrays can be converted to a scalar index"
     ]
    }
   ],
   "source": [
    "# Run Monte Carlo simulation\n",
    "simulation_results = monte_carlo_simulation(n_simulations, n, beta, pi)\n",
    "\n",
    "# Calculate bias and precision of 2SLS estimator\n",
    "# bias: E[beta_hat] - beta \n",
    "bias = simulation_results['beta_hat'].mean() - beta\n",
    "# precision: sqrt [var(beta_hat)/n]\n",
    "precision = simulation_results['beta_hat'].std()/np.sqrt(len(simulation_results['beta_hat']))\n",
    "\n",
    "# Calculate size and power of t-test\n",
    "size = simulation_results['reject_null'].mean()\n",
    "power = 1 - size\n",
    "\n",
    "print(\"Bias of 2SLS estimator:\", bias)\n",
    "print(\"Precision of 2SLS estimator:\", precision)\n",
    "print(\"Size of t-test:\", size)\n",
    "print(\"Power of t-test:\", power)"
   ]
  },
  {
   "cell_type": "markdown",
   "id": "2659ea44",
   "metadata": {},
   "source": [
    "When pi is \"close\" to zero, Z is considered a weak instrument. This can lead to biased inference in undrstanding the relationship between x and y through inflated standard errors."
   ]
  },
  {
   "cell_type": "code",
   "execution_count": 33,
   "id": "7d02c598",
   "metadata": {},
   "outputs": [
    {
     "ename": "TypeError",
     "evalue": "only integer scalar arrays can be converted to a scalar index",
     "output_type": "error",
     "traceback": [
      "\u001b[0;31m---------------------------------------------------------------------------\u001b[0m",
      "\u001b[0;31mTypeError\u001b[0m                                 Traceback (most recent call last)",
      "Cell \u001b[0;32mIn[33], line 21\u001b[0m\n\u001b[1;32m     18\u001b[0m pi_range \u001b[38;5;241m=\u001b[39m np\u001b[38;5;241m.\u001b[39mrandom\u001b[38;5;241m.\u001b[39muniform(\u001b[38;5;241m0\u001b[39m, \u001b[38;5;241m1\u001b[39m, size\u001b[38;5;241m=\u001b[39m\u001b[38;5;241m1000\u001b[39m)  \u001b[38;5;66;03m# Generating 1000 random values for pi\u001b[39;00m\n\u001b[1;32m     20\u001b[0m \u001b[38;5;66;03m# Run the simulation\u001b[39;00m\n\u001b[0;32m---> 21\u001b[0m simulation_results \u001b[38;5;241m=\u001b[39m monte_carlo_simulation(n_simulations, n, beta, pi_range)\n",
      "Cell \u001b[0;32mIn[33], line 6\u001b[0m, in \u001b[0;36mmonte_carlo_simulation\u001b[0;34m(n_simulations, n, beta, pi_range)\u001b[0m\n\u001b[1;32m      4\u001b[0m pi \u001b[38;5;241m=\u001b[39m np\u001b[38;5;241m.\u001b[39marray([pi_value])\n\u001b[1;32m      5\u001b[0m \u001b[38;5;28;01mfor\u001b[39;00m _ \u001b[38;5;129;01min\u001b[39;00m \u001b[38;5;28mrange\u001b[39m(n_simulations):\n\u001b[0;32m----> 6\u001b[0m     y, x, Z \u001b[38;5;241m=\u001b[39m dgp(n, beta, pi)\n\u001b[1;32m      7\u001b[0m     beta_hat, se \u001b[38;5;241m=\u001b[39m two_sls(y, x, Z)\n\u001b[1;32m      8\u001b[0m     t_stat \u001b[38;5;241m=\u001b[39m (beta_hat \u001b[38;5;241m-\u001b[39m \u001b[38;5;241m0\u001b[39m) \u001b[38;5;241m/\u001b[39m se\n",
      "Cell \u001b[0;32mIn[21], line 3\u001b[0m, in \u001b[0;36mdgp\u001b[0;34m(n, beta, l)\u001b[0m\n\u001b[1;32m      1\u001b[0m \u001b[38;5;28;01mdef\u001b[39;00m \u001b[38;5;21mdgp\u001b[39m(n, beta, l):\n\u001b[1;32m      2\u001b[0m     \u001b[38;5;66;03m# Generate Z based on the sequence {1, 1/2, 1/4, 1/8, ...}\u001b[39;00m\n\u001b[0;32m----> 3\u001b[0m     sequence \u001b[38;5;241m=\u001b[39m np\u001b[38;5;241m.\u001b[39marray([\u001b[38;5;241m1\u001b[39m \u001b[38;5;241m/\u001b[39m \u001b[38;5;241m2\u001b[39m\u001b[38;5;241m*\u001b[39m\u001b[38;5;241m*\u001b[39mi \u001b[38;5;28;01mfor\u001b[39;00m i \u001b[38;5;129;01min\u001b[39;00m \u001b[38;5;28mrange\u001b[39m(\u001b[38;5;241m1\u001b[39m, l\u001b[38;5;241m+\u001b[39m\u001b[38;5;241m1\u001b[39m)])\n\u001b[1;32m      4\u001b[0m     Z \u001b[38;5;241m=\u001b[39m np\u001b[38;5;241m.\u001b[39mrandom\u001b[38;5;241m.\u001b[39mrandn(n, l)\n\u001b[1;32m      5\u001b[0m     \u001b[38;5;28;01mfor\u001b[39;00m i \u001b[38;5;129;01min\u001b[39;00m \u001b[38;5;28mrange\u001b[39m(l):\n",
      "\u001b[0;31mTypeError\u001b[0m: only integer scalar arrays can be converted to a scalar index"
     ]
    }
   ],
   "source": [
    "def monte_carlo_simulation(n_simulations, n, beta, pi_range):\n",
    "    results = []\n",
    "    for pi_value in pi_range:\n",
    "        pi = np.array([pi_value])\n",
    "        for _ in range(n_simulations):\n",
    "            y, x, Z = dgp(n, beta, pi)\n",
    "            beta_hat, se = two_sls(y, x, Z)\n",
    "            t_stat = (beta_hat - 0) / se\n",
    "            p_value = 2 * (1 - t.cdf(abs(t_stat), df=n-2))\n",
    "            reject_null = 1 if p_value < 0.05 else 0\n",
    "            results.append({'pi': pi_value, 'beta_hat': beta_hat})\n",
    "    return pd.DataFrame(results)\n",
    "\n",
    "# Parameters\n",
    "n_simulations = 1000\n",
    "n = 1000\n",
    "beta = 1\n",
    "pi_range = np.random.uniform(0, 1, size=1000)  # Generating 1000 random values for pi\n",
    "\n",
    "# Run the simulation\n",
    "simulation_results = monte_carlo_simulation(n_simulations, n, beta, pi_range)"
   ]
  },
  {
   "cell_type": "code",
   "execution_count": 34,
   "id": "3848afbe",
   "metadata": {},
   "outputs": [
    {
     "data": {
      "image/png": "[encoded data removed]",
      "text/plain": [
       "<Figure size 1000x600 with 1 Axes>"
      ]
     },
     "metadata": {},
     "output_type": "display_data"
    }
   ],
   "source": [
    "import matplotlib.pyplot as plt \n",
    "\n",
    "# Plot the results\n",
    "plt.figure(figsize=(10, 6))\n",
    "plt.scatter(simulation_results['pi'], simulation_results['beta_hat'], alpha=0.5)\n",
    "plt.axhline(y=beta, color='r', linestyle='--', label='True Beta')\n",
    "plt.xlabel('pi')\n",
    "plt.ylabel('beta_hat')\n",
    "plt.title('Relationship between pi and beta_hat')\n",
    "plt.legend()\n",
    "plt.grid(True)\n",
    "plt.show()"
   ]
  },
  {
   "cell_type": "markdown",
   "id": "e692a01b",
   "metadata": {},
   "source": [
    "(3) Now consider another “weak” instruments problem. Consider the sequence {1,1/2,1/4,1/8,...}. Let l = 1,2,3,..., and for a particular value of l let the vector of parameters πl consist of the first l elements of the sequence. Thus, your dgp should now return Z we can treat as an n × l matrix, with successive columns of Z increasingly “weak” instruments."
   ]
  },
  {
   "cell_type": "code",
   "execution_count": 1,
   "id": "b9763c23",
   "metadata": {},
   "outputs": [
    {
     "ename": "NameError",
     "evalue": "name 'np' is not defined",
     "output_type": "error",
     "traceback": [
      "\u001b[0;31m---------------------------------------------------------------------------\u001b[0m",
      "\u001b[0;31mNameError\u001b[0m                                 Traceback (most recent call last)",
      "Cell \u001b[0;32mIn[1], line 2\u001b[0m\n\u001b[1;32m      1\u001b[0m l \u001b[38;5;241m=\u001b[39m \u001b[38;5;241m5\u001b[39m\n\u001b[0;32m----> 2\u001b[0m sequence \u001b[38;5;241m=\u001b[39m np\u001b[38;5;241m.\u001b[39marray([\u001b[38;5;241m1\u001b[39m \u001b[38;5;241m/\u001b[39m \u001b[38;5;241m2\u001b[39m\u001b[38;5;241m*\u001b[39m\u001b[38;5;241m*\u001b[39mi \u001b[38;5;28;01mfor\u001b[39;00m i \u001b[38;5;129;01min\u001b[39;00m \u001b[38;5;28mrange\u001b[39m(l)])\n\u001b[1;32m      3\u001b[0m sequence\n",
      "\u001b[0;31mNameError\u001b[0m: name 'np' is not defined"
     ]
    }
   ],
   "source": [
    "l = 5\n",
    "sequence = np.array([1 / 2**i for i in range(l)])\n",
    "sequence"
   ]
  },
  {
   "cell_type": "code",
   "execution_count": 3,
   "id": "48544067",
   "metadata": {},
   "outputs": [],
   "source": [
    "def dgp(n, beta, l):\n",
    "    # Define the sequence\n",
    "    sequence = np.array([1 / (2**i) for i in range(1, l + 1)])\n",
    "    \n",
    "    # Generate Z based on the input l / sequence denoted above\n",
    "    Z = np.zeros((n, l))\n",
    "    \n",
    "    for i in range(l):\n",
    "        Z[:, i] = np.random.randn(n) * sequence[i]\n",
    "    \n",
    "    # Generate v (error term regressing x on Z)\n",
    "    v = np.random.randn(n)\n",
    "    \n",
    "    # Generate x\n",
    "    x = Z.sum(axis=1) + v\n",
    "    \n",
    "    # Generate u (error term for y)\n",
    "    u = np.random.randn(n)\n",
    "    \n",
    "    # Generate y\n",
    "    y = beta * x + u\n",
    "    \n",
    "    return y, x, Z"
   ]
  },
  {
   "cell_type": "code",
   "execution_count": 4,
   "id": "d2111622",
   "metadata": {},
   "outputs": [],
   "source": [
    "# Example usage:\n",
    "n = 1000\n",
    "beta = 2\n",
    "l = 10 \n",
    "y, x, Z = dgp(n, beta, l)"
   ]
  },
  {
   "cell_type": "code",
   "execution_count": null,
   "id": "2cd57e92",
   "metadata": {},
   "outputs": [],
   "source": []
  }
 ],
 "metadata": {
  "kernelspec": {
   "display_name": "Python 3 (ipykernel)",
   "language": "python",
   "name": "python3"
  },
  "language_info": {
   "codemirror_mode": {
    "name": "ipython",
    "version": 3
   },
   "file_extension": ".py",
   "mimetype": "text/x-python",
   "name": "python",
   "nbconvert_exporter": "python",
   "pygments_lexer": "ipython3",
   "version": "3.11.4"
  }
 },
 "nbformat": 4,
 "nbformat_minor": 5
}
