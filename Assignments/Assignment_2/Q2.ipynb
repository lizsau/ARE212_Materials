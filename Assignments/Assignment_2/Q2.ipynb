{
 "cells": [
  {
   "cell_type": "markdown",
   "id": "4f071524-de39-4b3c-b3a1-20c148072023",
   "metadata": {},
   "source": [
    "## 2. Wright (1928)"
   ]
  },
  {
   "cell_type": "markdown",
   "id": "674668e8-6560-4cc2-b561-25dab2a2bbe8",
   "metadata": {},
   "source": [
    "#### 1. Consider the canonical demand and supply model in which quantity supplied is a function of price and a set of “supply shifters”; quantity demanded is a function of price and set of “demand shifters”; and market clearing implies that at some price quantity demanded is equal to quantity supplied.\n",
    "#### Consider the following questions:\n",
    "#### (1) **(Control)** What is the expected demand if we ***set*** the price $p = p_0$?"
   ]
  },
  {
   "cell_type": "markdown",
   "id": "66dc2d42-6436-429c-bb77-20344c4b295f",
   "metadata": {},
   "source": [
    "Let \n",
    "$$ q_D = D(p, u) $$\n",
    "$$ q_S = S(p, v) $$\n",
    "where $u$ and $v$ are exogeneous shocks that affect demand and supply, respectively.\n",
    "\n",
    "Note that $p$, $q_D$, and $q_S$ are endogeneous.\n",
    "\n",
    "If we ***set*** the price $p = p_0$,\n",
    "* The price is no longer random;\n",
    "* Since $u$ is exogeneous to the model (external factor), setting the price (internal mechanism) does not affect the distribution of $u$.\n",
    "* Note that $u$ and $v$ are still random since neither is affected by setting the price.\n",
    "\n",
    "The expected demand if we ***set*** the price $p = p_0$ is:\n",
    "$$ \\mathbb{E}(q_D(p_0)) = \\int q_D(p_0, u) dF_u(u) $$"
   ]
  },
  {
   "cell_type": "markdown",
   "id": "7a767e38-cdea-49db-a17a-8eb46df27a77",
   "metadata": {},
   "source": [
    "#### (2) **(Condition)** What is the expected demand if we ***observe*** the price $p = p_0$?"
   ]
  },
  {
   "cell_type": "markdown",
   "id": "2a44023f-bff7-47c3-bef4-e0ff392ec6d6",
   "metadata": {},
   "source": [
    "If we ***observe*** the price $p = p_0$,\n",
    "* The observed price is an equilibrium outcome of supply and demand, which are both influenced by $u$ and $v$.\n",
    "* In other words, the exogeneous shocks $u$ and $v$ influence the price $p$ and the quantity $q$ through demand and supply curves.\n",
    "* If we observe a higher price (and assuming $q_D$ and $q_S$ are monotonically increasing in $u$ and $v$, respectively,\n",
    "    * Since a higher demand for any given supply level would increase prices, the exogeneous shock that affects demand, $u$, is likely to be higher.\n",
    "    * Since a lower supply for any given demand level would increase prices, the exogeneous shock taht affects supply, $v$, is likely to be lower.\n",
    " \n",
    "The expected demand if we ***observe*** the price $p = p_0$ is:\n",
    "$$ \\mathbb{E}(q^*|p=p_0) = \\mathbb{E}[q^*(u,v)|q_D(p_0,u) =  q_S(p_0, v)] $$"
   ]
  },
  {
   "cell_type": "markdown",
   "id": "31ada813-0bb5-40fa-8d95-a0ba6c8d4928",
   "metadata": {},
   "source": [
    "#### (2) **(Counterfactural)** What **would** demand be if we **were** to ***change*** the price to $p_1$, *ceteris paribus*?"
   ]
  },
  {
   "cell_type": "markdown",
   "id": "c7d2402f-195e-4346-8693-6ed057e5e381",
   "metadata": {},
   "source": [
    "Let $(p_0, q_0)$ be initial equilibrium price and quantity outcomes due to $u_0$ and $v_0$ shocks.\n",
    "Note that $u_0$ and $v_0$ are no longer random here as they are specific values that correspond to the observed equilibrium.\n",
    "\n",
    "If we **were** to ***change*** (say, increase WLOG), the price to $p_1$, *ceteris paribus*,\n",
    "* The quantity demand will decrease, holding other factors fixed.\n",
    "* That is, since $u$ and $v$ are no longer random here, we're only moving along the demand curve for a change in price.\n",
    "\n",
    "The change in demand is:\n",
    "$$ \\triangle = q_D(p_1, u_0) - q_D(p_0,u_0) $$\n",
    "which is negative for $p_1 > p_0$."
   ]
  },
  {
   "cell_type": "code",
   "execution_count": null,
   "id": "d41aa9a2-e54d-47b6-a314-70ac24255200",
   "metadata": {},
   "outputs": [],
   "source": []
  }
 ],
 "metadata": {
  "kernelspec": {
   "display_name": "Python 3 (ipykernel)",
   "language": "python",
   "name": "python3"
  },
  "language_info": {
   "codemirror_mode": {
    "name": "ipython",
    "version": 3
   },
   "file_extension": ".py",
   "mimetype": "text/x-python",
   "name": "python",
   "nbconvert_exporter": "python",
   "pygments_lexer": "ipython3",
   "version": "3.9.15"
  }
 },
 "nbformat": 4,
 "nbformat_minor": 5
}
