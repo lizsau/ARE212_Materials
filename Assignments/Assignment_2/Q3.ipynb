{
 "cells": [
  {
   "cell_type": "code",
   "execution_count": null,
   "id": "44091c5b-e02a-4911-bda8-0bb00aa541b9",
   "metadata": {},
   "outputs": [],
   "source": [
    "## Q3. \"Plausibly Exogenous\""
   ]
  },
  {
   "cell_type": "code",
   "execution_count": null,
   "id": "54bedb5d-fa1a-47ab-9e5f-8b3208b0025c",
   "metadata": {},
   "outputs": [],
   "source": [
    "### 1. How can instrumental variables Z help identify Beta in the cannonical Wright 1934 model? "
   ]
  },
  {
   "cell_type": "code",
   "execution_count": null,
   "id": "b41125ba-eb63-43e2-9c7a-14257ac0f2f1",
   "metadata": {},
   "outputs": [],
   "source": [
    "Say we have identified an instrument Z that satisfies \"E(u'Z) = 0.\" "
   ]
  },
  {
   "cell_type": "code",
   "execution_count": null,
   "id": "b071cde8-33e8-4089-b850-44a0f2ae24b2",
   "metadata": {},
   "outputs": [],
   "source": [
    " Modify the framework we developed for exploring the Wright (1934) model so that the data generating process \n",
    " allows for = 0, and explore how estimator b(gamma) varies with gamma."
   ]
  },
  {
   "cell_type": "code",
   "execution_count": null,
   "id": "3d3e77ea-4ef6-4486-8c71-2509f167a01e",
   "metadata": {},
   "outputs": [],
   "source": [
    "### Data Generating Process Allowing for gamma different from 0"
   ]
  },
  {
   "cell_type": "code",
   "execution_count": 16,
   "id": "b711604d-81e3-4dd0-854a-6e8b73442e8f",
   "metadata": {},
   "outputs": [],
   "source": [
    "from scipy.stats import distributions as iid\n",
    "\n",
    "def linear_dgp(N,beta,gamma,pi,sigma_u,sigma_v):\n",
    "    u = iid.norm(scale=sigma_u).rvs(N)\n",
    "    v = iid.norm(scale=sigma_v).rvs(N)\n",
    "    Z = iid.norm().rvs(N)\n",
    "\n",
    "    X = Z*pi + v\n",
    "    y = X*beta + Z*gamma + u\n",
    "\n",
    "    df = pd.DataFrame({'y':y,'x':X,'z':Z,'Constant':1})\n",
    "\n",
    "    return df[['y']],df[['Constant','x']],df[['Constant','z']]"
   ]
  },
  {
   "cell_type": "code",
   "execution_count": 22,
   "id": "798531af-c098-4f71-a68b-3c89c17addbf",
   "metadata": {},
   "outputs": [
    {
     "ename": "ValueError",
     "evalue": "operands could not be broadcast together with shapes (10000,) (2,2) ",
     "output_type": "error",
     "traceback": [
      "\u001b[0;31m---------------------------------------------------------------------------\u001b[0m",
      "\u001b[0;31mValueError\u001b[0m                                Traceback (most recent call last)",
      "Cell \u001b[0;32mIn[22], line 24\u001b[0m\n\u001b[1;32m     20\u001b[0m     y,X,Z \u001b[38;5;241m=\u001b[39m  linear_dgp(N,beta,gamma,pi,sigma_u,sigma_v)\n\u001b[1;32m     22\u001b[0m     \u001b[38;5;28;01mreturn\u001b[39;00m np\u001b[38;5;241m.\u001b[39mlinalg\u001b[38;5;241m.\u001b[39msolve(Z\u001b[38;5;241m.\u001b[39mT\u001b[38;5;129m@X\u001b[39m,Z\u001b[38;5;241m.\u001b[39mT\u001b[38;5;129m@y\u001b[39m) \u001b[38;5;66;03m# Solve normal eqs\u001b[39;00m\n\u001b[0;32m---> 24\u001b[0m b \u001b[38;5;241m=\u001b[39m \u001b[43mdraw_b\u001b[49m\u001b[43m(\u001b[49m\u001b[38;5;241;43m10000\u001b[39;49m\u001b[43m,\u001b[49m\u001b[43mbeta\u001b[49m\u001b[43m,\u001b[49m\u001b[43m \u001b[49m\u001b[43mgamma\u001b[49m\u001b[43m,\u001b[49m\u001b[43m \u001b[49m\u001b[43mpi\u001b[49m\u001b[43m,\u001b[49m\u001b[43m \u001b[49m\u001b[43msigma\u001b[49m\u001b[43m[\u001b[49m\u001b[38;5;124;43m'\u001b[39;49m\u001b[38;5;124;43mu\u001b[39;49m\u001b[38;5;124;43m'\u001b[39;49m\u001b[43m]\u001b[49m\u001b[43m,\u001b[49m\u001b[43m \u001b[49m\u001b[43msigma\u001b[49m\u001b[43m[\u001b[49m\u001b[38;5;124;43m'\u001b[39;49m\u001b[38;5;124;43mv\u001b[39;49m\u001b[38;5;124;43m'\u001b[39;49m\u001b[43m]\u001b[49m\u001b[43m)\u001b[49m\n\u001b[1;32m     26\u001b[0m \u001b[38;5;28mprint\u001b[39m(b)\n",
      "Cell \u001b[0;32mIn[22], line 20\u001b[0m, in \u001b[0;36mdraw_b\u001b[0;34m(N, beta, gamma, pi, sigma_u, sigma_v)\u001b[0m\n\u001b[1;32m     16\u001b[0m \u001b[38;5;28;01mdef\u001b[39;00m \u001b[38;5;21mdraw_b\u001b[39m(N,beta,gamma,pi,sigma_u,sigma_v):\n\u001b[1;32m     17\u001b[0m \u001b[38;5;250m    \u001b[39m\u001b[38;5;124;03m\"\"\"\u001b[39;00m\n\u001b[1;32m     18\u001b[0m \u001b[38;5;124;03m    Generate a random variate $b$ from a sample of $N$ draws from a function linear_dgp.\u001b[39;00m\n\u001b[1;32m     19\u001b[0m \u001b[38;5;124;03m    \"\"\"\u001b[39;00m\n\u001b[0;32m---> 20\u001b[0m     y,X,Z \u001b[38;5;241m=\u001b[39m  \u001b[43mlinear_dgp\u001b[49m\u001b[43m(\u001b[49m\u001b[43mN\u001b[49m\u001b[43m,\u001b[49m\u001b[43mbeta\u001b[49m\u001b[43m,\u001b[49m\u001b[43mgamma\u001b[49m\u001b[43m,\u001b[49m\u001b[43mpi\u001b[49m\u001b[43m,\u001b[49m\u001b[43msigma_u\u001b[49m\u001b[43m,\u001b[49m\u001b[43msigma_v\u001b[49m\u001b[43m)\u001b[49m\n\u001b[1;32m     22\u001b[0m     \u001b[38;5;28;01mreturn\u001b[39;00m np\u001b[38;5;241m.\u001b[39mlinalg\u001b[38;5;241m.\u001b[39msolve(Z\u001b[38;5;241m.\u001b[39mT\u001b[38;5;129m@X\u001b[39m,Z\u001b[38;5;241m.\u001b[39mT\u001b[38;5;129m@y\u001b[39m)\n",
      "Cell \u001b[0;32mIn[16], line 8\u001b[0m, in \u001b[0;36mlinear_dgp\u001b[0;34m(N, beta, gamma, pi, sigma_u, sigma_v)\u001b[0m\n\u001b[1;32m      5\u001b[0m v \u001b[38;5;241m=\u001b[39m iid\u001b[38;5;241m.\u001b[39mnorm(scale\u001b[38;5;241m=\u001b[39msigma_v)\u001b[38;5;241m.\u001b[39mrvs(N)\n\u001b[1;32m      6\u001b[0m Z \u001b[38;5;241m=\u001b[39m iid\u001b[38;5;241m.\u001b[39mnorm()\u001b[38;5;241m.\u001b[39mrvs(N)\n\u001b[0;32m----> 8\u001b[0m X \u001b[38;5;241m=\u001b[39m \u001b[43mZ\u001b[49m\u001b[38;5;241;43m*\u001b[39;49m\u001b[43mpi\u001b[49m \u001b[38;5;241m+\u001b[39m v\n\u001b[1;32m      9\u001b[0m y \u001b[38;5;241m=\u001b[39m X\u001b[38;5;241m*\u001b[39mbeta \u001b[38;5;241m+\u001b[39m Z\u001b[38;5;241m*\u001b[39mgamma \u001b[38;5;241m+\u001b[39m u\n\u001b[1;32m     11\u001b[0m df \u001b[38;5;241m=\u001b[39m pd\u001b[38;5;241m.\u001b[39mDataFrame({\u001b[38;5;124m'\u001b[39m\u001b[38;5;124my\u001b[39m\u001b[38;5;124m'\u001b[39m:y,\u001b[38;5;124m'\u001b[39m\u001b[38;5;124mx\u001b[39m\u001b[38;5;124m'\u001b[39m:X,\u001b[38;5;124m'\u001b[39m\u001b[38;5;124mz\u001b[39m\u001b[38;5;124m'\u001b[39m:Z,\u001b[38;5;124m'\u001b[39m\u001b[38;5;124mConstant\u001b[39m\u001b[38;5;124m'\u001b[39m:\u001b[38;5;241m1\u001b[39m})\n",
      "\u001b[0;31mValueError\u001b[0m: operands could not be broadcast together with shapes (10000,) (2,2) "
     ]
    }
   ],
   "source": [
    "import numpy as np\n",
    "\n",
    "# Structural parameters;\n",
    "(alpha,beta, gamma) = (-1,2, 0.05)     \n",
    "sigma = {'u':1/2,'v':1/3}\n",
    "mu = {'u':2,'v':-1}\n",
    "\n",
    "# u,v assumed independent\n",
    "u = iid.norm(loc=mu['u'], scale=sigma['u'])  # Demand shocks\n",
    "v = iid.norm(loc=mu['v'], scale=sigma['v'])  # Supply shocks\n",
    "\n",
    "# Reduced form coefficients\n",
    "pi = [[-beta/(alpha - beta), -1/(alpha - beta)],\n",
    "     [ alpha/(alpha - beta), 1/(alpha - beta)]]\n",
    "\n",
    "def draw_b(N,beta,gamma,pi,sigma_u,sigma_v):\n",
    "    \"\"\"\n",
    "    Generate a random variate $b$ from a sample of $N$ draws from a function linear_dgp.\n",
    "    \"\"\"\n",
    "    y,X,Z =  linear_dgp(N,beta,gamma,pi,sigma_u,sigma_v)\n",
    "\n",
    "    return np.linalg.solve(Z.T@X,Z.T@y) # Solve normal eqs\n",
    "\n",
    "b = draw_b(10000,beta, gamma, pi, sigma['u'], sigma['v'])\n",
    "\n",
    "print(b)"
   ]
  },
  {
   "cell_type": "code",
   "execution_count": 15,
   "id": "f8bc9a07-9cc8-4829-ab3c-ae8367ec02de",
   "metadata": {},
   "outputs": [
    {
     "ename": "TypeError",
     "evalue": "linear_dgp() missing 5 required positional arguments: 'beta', 'gamma', 'pi', 'sigma_u', and 'sigma_v'",
     "output_type": "error",
     "traceback": [
      "\u001b[0;31m---------------------------------------------------------------------------\u001b[0m",
      "\u001b[0;31mTypeError\u001b[0m                                 Traceback (most recent call last)",
      "Cell \u001b[0;32mIn[15], line 3\u001b[0m\n\u001b[1;32m      1\u001b[0m \u001b[38;5;28;01mfrom\u001b[39;00m \u001b[38;5;21;01mmatplotlib\u001b[39;00m \u001b[38;5;28;01mimport\u001b[39;00m pyplot \u001b[38;5;28;01mas\u001b[39;00m plt\n\u001b[0;32m----> 3\u001b[0m B \u001b[38;5;241m=\u001b[39m pd\u001b[38;5;241m.\u001b[39mDataFrame([draw_b(\u001b[38;5;241m100\u001b[39m,\u001b[38;5;28;01mlambda\u001b[39;00m N: linear_dgp(N,\u001b[38;5;241m1\u001b[39m,\u001b[38;5;241m0\u001b[39m,\u001b[38;5;241m.01\u001b[39m,\u001b[38;5;241m1\u001b[39m,\u001b[38;5;241m1\u001b[39m))[\u001b[38;5;241m1\u001b[39m] \u001b[38;5;28;01mfor\u001b[39;00m i \u001b[38;5;129;01min\u001b[39;00m \u001b[38;5;28mrange\u001b[39m(\u001b[38;5;241m1000\u001b[39m)])\n\u001b[1;32m      4\u001b[0m B\u001b[38;5;241m.\u001b[39mhist(bins\u001b[38;5;241m=\u001b[39m\u001b[38;5;28mint\u001b[39m(np\u001b[38;5;241m.\u001b[39mceil(np\u001b[38;5;241m.\u001b[39msqrt(B\u001b[38;5;241m.\u001b[39mshape[\u001b[38;5;241m0\u001b[39m]))))\n",
      "Cell \u001b[0;32mIn[15], line 3\u001b[0m, in \u001b[0;36m<listcomp>\u001b[0;34m(.0)\u001b[0m\n\u001b[1;32m      1\u001b[0m \u001b[38;5;28;01mfrom\u001b[39;00m \u001b[38;5;21;01mmatplotlib\u001b[39;00m \u001b[38;5;28;01mimport\u001b[39;00m pyplot \u001b[38;5;28;01mas\u001b[39;00m plt\n\u001b[0;32m----> 3\u001b[0m B \u001b[38;5;241m=\u001b[39m pd\u001b[38;5;241m.\u001b[39mDataFrame([\u001b[43mdraw_b\u001b[49m\u001b[43m(\u001b[49m\u001b[38;5;241;43m100\u001b[39;49m\u001b[43m,\u001b[49m\u001b[38;5;28;43;01mlambda\u001b[39;49;00m\u001b[43m \u001b[49m\u001b[43mN\u001b[49m\u001b[43m:\u001b[49m\u001b[43m \u001b[49m\u001b[43mlinear_dgp\u001b[49m\u001b[43m(\u001b[49m\u001b[43mN\u001b[49m\u001b[43m,\u001b[49m\u001b[38;5;241;43m1\u001b[39;49m\u001b[43m,\u001b[49m\u001b[38;5;241;43m0\u001b[39;49m\u001b[43m,\u001b[49m\u001b[38;5;241;43m.01\u001b[39;49m\u001b[43m,\u001b[49m\u001b[38;5;241;43m1\u001b[39;49m\u001b[43m,\u001b[49m\u001b[38;5;241;43m1\u001b[39;49m\u001b[43m)\u001b[49m\u001b[43m)\u001b[49m[\u001b[38;5;241m1\u001b[39m] \u001b[38;5;28;01mfor\u001b[39;00m i \u001b[38;5;129;01min\u001b[39;00m \u001b[38;5;28mrange\u001b[39m(\u001b[38;5;241m1000\u001b[39m)])\n\u001b[1;32m      4\u001b[0m B\u001b[38;5;241m.\u001b[39mhist(bins\u001b[38;5;241m=\u001b[39m\u001b[38;5;28mint\u001b[39m(np\u001b[38;5;241m.\u001b[39mceil(np\u001b[38;5;241m.\u001b[39msqrt(B\u001b[38;5;241m.\u001b[39mshape[\u001b[38;5;241m0\u001b[39m]))))\n",
      "Cell \u001b[0;32mIn[12], line 7\u001b[0m, in \u001b[0;36mdraw_b\u001b[0;34m(N, dgp)\u001b[0m\n\u001b[1;32m      3\u001b[0m \u001b[38;5;28;01mdef\u001b[39;00m \u001b[38;5;21mdraw_b\u001b[39m(N,dgp):\n\u001b[1;32m      4\u001b[0m \u001b[38;5;250m    \u001b[39m\u001b[38;5;124;03m\"\"\"\u001b[39;00m\n\u001b[1;32m      5\u001b[0m \u001b[38;5;124;03m    Generate a random variate $b$ from a sample of $N$ draws from a function linear_dgp.\u001b[39;00m\n\u001b[1;32m      6\u001b[0m \u001b[38;5;124;03m    \"\"\"\u001b[39;00m\n\u001b[0;32m----> 7\u001b[0m     y,X,Z \u001b[38;5;241m=\u001b[39m  \u001b[43mlinear_dgp\u001b[49m\u001b[43m(\u001b[49m\u001b[43mN\u001b[49m\u001b[43m)\u001b[49m\n\u001b[1;32m      9\u001b[0m     \u001b[38;5;28;01mreturn\u001b[39;00m np\u001b[38;5;241m.\u001b[39mlinalg\u001b[38;5;241m.\u001b[39msolve(Z\u001b[38;5;241m.\u001b[39mT\u001b[38;5;129m@X\u001b[39m,Z\u001b[38;5;241m.\u001b[39mT\u001b[38;5;129m@y\u001b[39m)\n",
      "\u001b[0;31mTypeError\u001b[0m: linear_dgp() missing 5 required positional arguments: 'beta', 'gamma', 'pi', 'sigma_u', and 'sigma_v'"
     ]
    }
   ],
   "source": []
  }
 ],
 "metadata": {
  "kernelspec": {
   "display_name": "Python 3 (ipykernel)",
   "language": "python",
   "name": "python3"
  },
  "language_info": {
   "codemirror_mode": {
    "name": "ipython",
    "version": 3
   },
   "file_extension": ".py",
   "mimetype": "text/x-python",
   "name": "python",
   "nbconvert_exporter": "python",
   "pygments_lexer": "ipython3",
   "version": "3.9.15"
  }
 },
 "nbformat": 4,
 "nbformat_minor": 5
}
