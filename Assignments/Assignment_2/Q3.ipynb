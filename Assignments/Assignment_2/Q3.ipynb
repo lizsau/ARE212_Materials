{
 "cells": [
  {
   "cell_type": "code",
   "execution_count": null,
   "id": "44091c5b-e02a-4911-bda8-0bb00aa541b9",
   "metadata": {},
   "outputs": [],
   "source": [
    "## Q3. \"Plausibly Exogenous\""
   ]
  },
  {
   "cell_type": "code",
   "execution_count": null,
   "id": "54bedb5d-fa1a-47ab-9e5f-8b3208b0025c",
   "metadata": {},
   "outputs": [],
   "source": [
    "### 1. How can instrumental variables Z help identify Beta in the cannonical Wright 1934 model? "
   ]
  },
  {
   "cell_type": "code",
   "execution_count": null,
   "id": "b41125ba-eb63-43e2-9c7a-14257ac0f2f1",
   "metadata": {},
   "outputs": [],
   "source": [
    "Say we have identified an instrument Z that satisfies \"E(u'Z) = 0.\" "
   ]
  },
  {
   "cell_type": "code",
   "execution_count": null,
   "id": "3d3e77ea-4ef6-4486-8c71-2509f167a01e",
   "metadata": {},
   "outputs": [],
   "source": []
  }
 ],
 "metadata": {
  "kernelspec": {
   "display_name": "Python 3 (ipykernel)",
   "language": "python",
   "name": "python3"
  },
  "language_info": {
   "codemirror_mode": {
    "name": "ipython",
    "version": 3
   },
   "file_extension": ".py",
   "mimetype": "text/x-python",
   "name": "python",
   "nbconvert_exporter": "python",
   "pygments_lexer": "ipython3",
   "version": "3.9.15"
  }
 },
 "nbformat": 4,
 "nbformat_minor": 5
}
