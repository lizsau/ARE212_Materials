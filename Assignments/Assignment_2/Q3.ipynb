{
 "cells": [
  {
   "cell_type": "code",
   "execution_count": null,
   "id": "44091c5b-e02a-4911-bda8-0bb00aa541b9",
   "metadata": {},
   "outputs": [],
   "source": [
    "## Q3. \"Plausibly Exogenous\""
   ]
  },
  {
   "cell_type": "markdown",
   "id": "8d789bd8",
   "metadata": {},
   "source": [
    "## Manavi's Part"
   ]
  },
  {
   "cell_type": "markdown",
   "id": "0fa354cf",
   "metadata": {},
   "source": [
    "The Wright Model: y = Xβ + u with a right-hand-side variable (price) that depends on the disturbance u.\n",
    "\n",
    "(1) We previously found that with some instrumental variables Z satisfying the moment condition E(uT.Z) = 0, it becomes possible to identify β. Explain in detail how this works, and exactly what assumptions are required."
   ]
  },
  {
   "cell_type": "markdown",
   "id": "a896f6d9",
   "metadata": {},
   "source": [
    "Usually, we estimate the population parameter β using our regression parameter b in the following way:\n",
    "\n",
    "Population: <br>\n",
    "y= Xβ + u <br>\n",
    "β= X<sup>+</sup> y - X<sup>+</sup>u <br>\n",
    "\n",
    "When the Conditional Mean Expectation Assumption holds : E[u<sup>T</sup>|X]=0 <br>\n",
    "E[β]= b = X<sup>+</sup> y\n",
    "\n",
    "However, when E[u<sup>T</sup>|X]!=0, and strict exogeneity can longer be assumed as in the Wright Model above. We can address this endogeneity, by introducing instrumental variables Z into our model.\n",
    "\n",
    "Multiplying Z<sup>T</sup> to both sides of our population equation we get,\n",
    "Z<sup>T</sup> y= Z<sup>T</sup> Xβ + Z<sup>T</sup> u <br>\n",
    "Therefore, <br>\n",
    "\n",
    "β = E[Z<sup>T</sup>X]<sup>+</sup> E[Z<sup>T</sup>y]<br>\n",
    "\n",
    "The identifying assumptions required for this to hold true are:\n",
    "\n",
    "1) The orthogonality assumption: E(u<sup>T</sup>.Z) = 0 (The instruments do not directly affect y)  \n",
    "2) The relevance assumption: E[Z<sup>T</sup>X] has full column rank to be invertible \n",
    "    implying we cannot have more instruments than endogenous variables and that the instruments and endogenous variables cannot be perfectly collinear.\n",
    "\n"
   ]
  },
  {
   "cell_type": "markdown",
   "id": "3237ee0e",
   "metadata": {},
   "source": [
    "## Katie's Part"
   ]
  },
  {
   "cell_type": "code",
   "execution_count": null,
   "id": "54bedb5d-fa1a-47ab-9e5f-8b3208b0025c",
   "metadata": {},
   "outputs": [],
   "source": [
    "### 1. How can instrumental variables Z help identify Beta in the cannonical Wright 1934 model? "
   ]
  },
  {
   "cell_type": "code",
   "execution_count": null,
   "id": "b071cde8-33e8-4089-b850-44a0f2ae24b2",
   "metadata": {},
   "outputs": [],
   "source": [
    " Modify the framework we developed for exploring the Wright (1934) model so that the data generating process \n",
    " allows for = 0, and explore how estimator b(gamma) varies with gamma."
   ]
  },
  {
   "cell_type": "code",
   "execution_count": null,
   "id": "3d3e77ea-4ef6-4486-8c71-2509f167a01e",
   "metadata": {},
   "outputs": [],
   "source": [
    "### Data Generating Process Allowing for gamma different from 0"
   ]
  },
  {
   "cell_type": "code",
   "execution_count": 3,
   "id": "a6ed4802-23c9-4e1b-9919-4a1245fa95e2",
   "metadata": {},
   "outputs": [],
   "source": [
    "# Set parameters\n",
    "(beta, pi) = (2, 1)     \n",
    "sigma = {'u':1/2,'v':1/3,'z':0.7}"
   ]
  },
  {
   "cell_type": "code",
   "execution_count": 7,
   "id": "a774dbb1-2c54-4046-b342-0e00265ec17b",
   "metadata": {},
   "outputs": [
    {
     "ename": "NameError",
     "evalue": "name 'numpy' is not defined",
     "output_type": "error",
     "traceback": [
      "\u001b[0;31m---------------------------------------------------------------------------\u001b[0m",
      "\u001b[0;31mNameError\u001b[0m                                 Traceback (most recent call last)",
      "Cell \u001b[0;32mIn[7], line 1\u001b[0m\n\u001b[0;32m----> 1\u001b[0m \u001b[43mnumpy\u001b[49m\u001b[38;5;241m.\u001b[39mcov(X, Z)\n",
      "\u001b[0;31mNameError\u001b[0m: name 'numpy' is not defined"
     ]
    }
   ],
   "source": []
  },
  {
   "cell_type": "code",
   "execution_count": 5,
   "id": "b711604d-81e3-4dd0-854a-6e8b73442e8f",
   "metadata": {},
   "outputs": [],
   "source": [
    "# Define linear dgp function\n",
    "from scipy.stats import distributions as iid\n",
    "\n",
    "def linear_dgp(N, gamma):\n",
    "    u = iid.norm(scale=sigma['u']).rvs(N)\n",
    "    v = iid.norm(scale=sigma['v']).rvs(N)\n",
    "    Z = iid.norm(scale=sigma['z']).rvs(N)\n",
    "   \n",
    "    X = Z*pi + v\n",
    "    y = X*beta + Z*gamma + u\n",
    "\n",
    "    df = pd.DataFrame({'y':y,'x':X,'z':Z,'Constant':1})\n",
    "\n",
    "    return df[['y']],df[['Constant','x']],df[['Constant','z']]"
   ]
  },
  {
   "cell_type": "code",
   "execution_count": 30,
   "id": "5dfad9a3-9733-4920-9f7e-b49629ff59b7",
   "metadata": {},
   "outputs": [
    {
     "name": "stdout",
     "output_type": "stream",
     "text": [
      "[2.106481]\n"
     ]
    }
   ],
   "source": [
    "# Draw estimates for beta = 2 when gamma = 0.1\n",
    "import numpy as np\n",
    "import pandas as pd\n",
    "\n",
    "def draw_b(N, dgp, gamma):\n",
    "    \"\"\"\n",
    "    Generate a random variate $b$ from a sample of $N$ draws from a function dgp.\n",
    "    \"\"\"\n",
    "    y,X,Z =  dgp(N, gamma)\n",
    "\n",
    "    return np.linalg.solve(Z.T@X,Z.T@y) # Solve normal eqs for b\n",
    "\n",
    "b = draw_b(10000, linear_dgp, 0.1)[1] # gamma equal to 0.1\n",
    "\n",
    "print(b)"
   ]
  },
  {
   "cell_type": "code",
   "execution_count": 149,
   "id": "d24436ba-3fcd-4757-8244-017bbaafa981",
   "metadata": {},
   "outputs": [
    {
     "data": {
      "image/png": "[encoded data removed]",
      "text/plain": [
       "<Figure size 640x480 with 1 Axes>"
      ]
     },
     "metadata": {},
     "output_type": "display_data"
    }
   ],
   "source": [
    "import numpy as np\n",
    "import matplotlib.pyplot as plt\n",
    "\n",
    "# Generate 10 equally spaced input points between 0 and 5\n",
    "gamma_vals = np.linspace(0, 0.5, 10)\n",
    "\n",
    "# Calculate output values using the function\n",
    "beta_hat = np.zeros(10)\n",
    "for g in range(10):\n",
    "    beta_hat[g] = draw_b(1000, linear_dgp, gamma_vals[g])[1]\n",
    "\n",
    "# Create a scatter plot\n",
    "plt.scatter(gamma_vals, beta_hat, color='b', label='Estimated Beta')\n",
    "plt.xlabel('Gamma')\n",
    "plt.ylabel('Beta Hat')\n",
    "plt.title('b(gamma) increases with gamma')\n",
    "plt.grid(True)\n",
    "\n",
    "# Show the plot\n",
    "plt.show()"
   ]
  },
  {
   "cell_type": "code",
   "execution_count": null,
   "id": "4241f193-adf3-40e2-b43d-0148d18ff8e2",
   "metadata": {},
   "outputs": [],
   "source": [
    "Calculate a region A over which one might fail to reject (i.e.,\n",
    " Accept) the null hypothesis that b(gamma) = b(0) at a conventional\n",
    " level of significance. Discuss"
   ]
  },
  {
   "cell_type": "code",
   "execution_count": null,
   "id": "44e60cef-a252-4770-a65c-e74d862fa756",
   "metadata": {},
   "outputs": [],
   "source": [
    "** is this a t test? \n",
    "\n",
    "Consider the region A where one would fail to reject that b(gamma) = b(0) at the 5% level.\n",
    "We are looking for the \n",
    "\n",
    "** compare to whether b = beta = 2, or that the two are the same?"
   ]
  },
  {
   "cell_type": "code",
   "execution_count": null,
   "id": "ce6e6ee9-700f-4334-89af-374dca182762",
   "metadata": {},
   "outputs": [],
   "source": [
    "Further modify the framework so that the covariance of Z and\n",
    "X is equal to a parameter sigma_XZ. Calculate the set B of pairs (gamma, sigma_XZ) \n",
    "such that one would fail to reject the same null hypothesis at the same level of significance. Discuss."
   ]
  },
  {
   "cell_type": "code",
   "execution_count": null,
   "id": "0e9812b1-6f0a-42ed-b09f-a2279cbfc98d",
   "metadata": {},
   "outputs": [],
   "source": [
    "# Define modified linear dgp function\n",
    "from scipy.stats import distributions as iid\n",
    "\n",
    "def linear_dgp(N, gamma, sigma_xz):\n",
    "    u = iid.norm(scale=sigma['u']).rvs(N)\n",
    "    cov_xz = np.array([[sigma['v'], sigma_xz], [sigma_xz], sigma['z']])\n",
    "   \n",
    "    X = Z*pi # add v here like normal, is covariance of x and z just equal to the variance of v? \n",
    "    y = X*beta + Z*gamma + u\n",
    "\n",
    "    df = pd.DataFrame({'y':y,'x':X,'z':Z,'Constant':1})\n",
    "\n",
    "    return df[['y']],df[['Constant','x']],df[['Constant','z']]"
   ]
  }
 ],
 "metadata": {
  "kernelspec": {
   "display_name": "Python 3 (ipykernel)",
   "language": "python",
   "name": "python3"
  },
  "language_info": {
   "codemirror_mode": {
    "name": "ipython",
    "version": 3
   },
   "file_extension": ".py",
   "mimetype": "text/x-python",
   "name": "python",
   "nbconvert_exporter": "python",
   "pygments_lexer": "ipython3",
   "version": "3.9.15"
  }
 },
 "nbformat": 4,
 "nbformat_minor": 5
}
