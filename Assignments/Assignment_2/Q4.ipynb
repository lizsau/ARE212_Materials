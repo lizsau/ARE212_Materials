{
 "cells": [
  {
   "cell_type": "markdown",
   "id": "275cd01c",
   "metadata": {},
   "source": [
    "### 4. Weak Instruments"
   ]
  },
  {
   "cell_type": "markdown",
   "id": "10cfaf6a",
   "metadata": {},
   "source": [
    "(1) Construct a data-generating process dgp which takes as arguments (n, β, π) and returns a triple (y, x, Z) of n observations."
   ]
  },
  {
   "cell_type": "code",
   "execution_count": 1,
   "id": "446169e2",
   "metadata": {},
   "outputs": [],
   "source": [
    "import numpy as np\n",
    "import pandas as pd\n",
    "import statsmodels.api as sm\n",
    "from scipy.stats import t\n",
    "\n",
    "def dgp(n, beta, pi):\n",
    "    # Generate Z based on l\n",
    "    l = len(pi)\n",
    "    Z = np.random.randn(n, l)\n",
    "    \n",
    "    # Generate v (error term regressing x on Z)\n",
    "    v = np.random.randn(n)\n",
    "    \n",
    "    # Generate x\n",
    "    x = Z.dot(pi) + v\n",
    "    \n",
    "    # Generate u (error term for y)\n",
    "    u = np.random.randn(n)\n",
    "    \n",
    "    # Generate y\n",
    "    y = beta * x + u\n",
    "    \n",
    "    return y, x, Z"
   ]
  },
  {
   "cell_type": "markdown",
   "id": "de779b07",
   "metadata": {},
   "source": [
    "(2) Use the dgp function you’ve constructed to explore IV (2SLS) estimates of β as a function of π when l = 1 using a Monte Carlo approach, assuming homoskedastic errors."
   ]
  },
  {
   "cell_type": "code",
   "execution_count": 2,
   "id": "aa34b064",
   "metadata": {},
   "outputs": [
    {
     "name": "stdout",
     "output_type": "stream",
     "text": [
      "Shape of y: (1000,)\n",
      "Shape of x: (1000,)\n",
      "Shape of Z: (1000, 1)\n"
     ]
    }
   ],
   "source": [
    "# Run dgp function\n",
    "y, x, Z = dgp(1000, 2, np.array([0.75]))\n",
    "\n",
    "# Print the shapes of generated arrays\n",
    "print(\"Shape of y:\", y.shape)\n",
    "print(\"Shape of x:\", x.shape)\n",
    "print(\"Shape of Z:\", Z.shape)"
   ]
  },
  {
   "cell_type": "markdown",
   "id": "10f9dc7b",
   "metadata": {},
   "source": [
    "(a) Write a function two_sls which takes as arguments (y, x, Z) and returns two-stage least squares estimates of β and the standard error of the estimate."
   ]
  },
  {
   "cell_type": "code",
   "execution_count": 3,
   "id": "cbf2f19a",
   "metadata": {},
   "outputs": [
    {
     "name": "stdout",
     "output_type": "stream",
     "text": [
      "Estimated coefficient (beta_hat): 1.972241455311981\n",
      "Standard error of the estimate (SE): 0.08955323010380124\n"
     ]
    }
   ],
   "source": [
    "def two_sls(y, x, Z):\n",
    "    # First stage regression\n",
    "    first_stage_model = sm.OLS(x, Z).fit()\n",
    "    x_hat = first_stage_model.predict()\n",
    "\n",
    "    # Second stage regression\n",
    "    second_stage_model = sm.OLS(y, sm.add_constant(x_hat)).fit()\n",
    "\n",
    "    # Pull coefficient estimate of beta hat and standard error\n",
    "    beta_hat = second_stage_model.params[1]\n",
    "    se = second_stage_model.bse[1]\n",
    "\n",
    "    return beta_hat, se\n",
    "\n",
    "# Example usage\n",
    "beta_hat, se = two_sls(y, x, Z)\n",
    "\n",
    "# Print estimated coefficient and standard error\n",
    "print(\"Estimated coefficient (beta_hat):\", beta_hat)\n",
    "print(\"Standard error of the estimate (SE):\", se)"
   ]
  },
  {
   "cell_type": "markdown",
   "id": "c4b53ac3",
   "metadata": {},
   "source": [
    "b) Taking β = π = 1, use repeated draws from dgp to check the bias, and precision of the two_sls estimator, as well as the size and power of a t-test of the hypothesis that β = 0. Discuss. Does a 95% confidence interval (based on your 2SLS estimator) correctly cover 95% of your Monte Carlo draws?"
   ]
  },
  {
   "cell_type": "code",
   "execution_count": 4,
   "id": "a8d1f478",
   "metadata": {},
   "outputs": [],
   "source": [
    "def monte_carlo_simulation(n_simulations, n, beta, pi):\n",
    "    results = []\n",
    "    for i in range(n_simulations):\n",
    "        y, x, Z = dgp(n, beta, pi)\n",
    "        beta_hat, se = two_sls(y, x, Z)\n",
    "        t_stat = (beta_hat - 0) / se\n",
    "        p_value = 2 * (1 - t.cdf(abs(t_stat), df=n-2))\n",
    "        reject_null = p_value < 0.05\n",
    "        results.append({'beta_hat': beta_hat, 'se': se, 't-stat': t_stat,\n",
    "                        'p-value': p_value, 'reject_null': reject_null})\n",
    "    return pd.DataFrame(results)\n",
    "\n",
    "# Define Parameters\n",
    "# Re-run dgp function assuming β = π = 1\n",
    "n_simulations = 1000\n",
    "n = 1000\n",
    "beta = 1\n",
    "pi = np.array([1])\n",
    "\n",
    "# Set the seed for reproducibility\n",
    "np.random.seed(1)\n",
    "\n",
    "# Run Monte Carlo simulation\n",
    "simulation_results = monte_carlo_simulation(n_simulations, n, beta, pi)"
   ]
  },
  {
   "cell_type": "code",
   "execution_count": 5,
   "id": "d3855747",
   "metadata": {},
   "outputs": [
    {
     "data": {
      "text/html": [
       "<div>\n",
       "<style scoped>\n",
       "    .dataframe tbody tr th:only-of-type {\n",
       "        vertical-align: middle;\n",
       "    }\n",
       "\n",
       "    .dataframe tbody tr th {\n",
       "        vertical-align: top;\n",
       "    }\n",
       "\n",
       "    .dataframe thead th {\n",
       "        text-align: right;\n",
       "    }\n",
       "</style>\n",
       "<table border=\"1\" class=\"dataframe\">\n",
       "  <thead>\n",
       "    <tr style=\"text-align: right;\">\n",
       "      <th></th>\n",
       "      <th>beta_hat</th>\n",
       "      <th>se</th>\n",
       "      <th>t-stat</th>\n",
       "      <th>p-value</th>\n",
       "      <th>reject_null</th>\n",
       "    </tr>\n",
       "  </thead>\n",
       "  <tbody>\n",
       "    <tr>\n",
       "      <th>0</th>\n",
       "      <td>1.026443</td>\n",
       "      <td>0.044461</td>\n",
       "      <td>23.086315</td>\n",
       "      <td>0.0</td>\n",
       "      <td>True</td>\n",
       "    </tr>\n",
       "    <tr>\n",
       "      <th>1</th>\n",
       "      <td>1.000057</td>\n",
       "      <td>0.043718</td>\n",
       "      <td>22.875281</td>\n",
       "      <td>0.0</td>\n",
       "      <td>True</td>\n",
       "    </tr>\n",
       "    <tr>\n",
       "      <th>2</th>\n",
       "      <td>0.991407</td>\n",
       "      <td>0.043028</td>\n",
       "      <td>23.040745</td>\n",
       "      <td>0.0</td>\n",
       "      <td>True</td>\n",
       "    </tr>\n",
       "    <tr>\n",
       "      <th>3</th>\n",
       "      <td>1.027853</td>\n",
       "      <td>0.043937</td>\n",
       "      <td>23.394009</td>\n",
       "      <td>0.0</td>\n",
       "      <td>True</td>\n",
       "    </tr>\n",
       "    <tr>\n",
       "      <th>4</th>\n",
       "      <td>1.035288</td>\n",
       "      <td>0.043327</td>\n",
       "      <td>23.894684</td>\n",
       "      <td>0.0</td>\n",
       "      <td>True</td>\n",
       "    </tr>\n",
       "    <tr>\n",
       "      <th>...</th>\n",
       "      <td>...</td>\n",
       "      <td>...</td>\n",
       "      <td>...</td>\n",
       "      <td>...</td>\n",
       "      <td>...</td>\n",
       "    </tr>\n",
       "    <tr>\n",
       "      <th>995</th>\n",
       "      <td>0.957924</td>\n",
       "      <td>0.049534</td>\n",
       "      <td>19.338579</td>\n",
       "      <td>0.0</td>\n",
       "      <td>True</td>\n",
       "    </tr>\n",
       "    <tr>\n",
       "      <th>996</th>\n",
       "      <td>1.036001</td>\n",
       "      <td>0.045830</td>\n",
       "      <td>22.605256</td>\n",
       "      <td>0.0</td>\n",
       "      <td>True</td>\n",
       "    </tr>\n",
       "    <tr>\n",
       "      <th>997</th>\n",
       "      <td>0.988438</td>\n",
       "      <td>0.045057</td>\n",
       "      <td>21.937321</td>\n",
       "      <td>0.0</td>\n",
       "      <td>True</td>\n",
       "    </tr>\n",
       "    <tr>\n",
       "      <th>998</th>\n",
       "      <td>0.949725</td>\n",
       "      <td>0.043970</td>\n",
       "      <td>21.599196</td>\n",
       "      <td>0.0</td>\n",
       "      <td>True</td>\n",
       "    </tr>\n",
       "    <tr>\n",
       "      <th>999</th>\n",
       "      <td>1.047803</td>\n",
       "      <td>0.046200</td>\n",
       "      <td>22.679747</td>\n",
       "      <td>0.0</td>\n",
       "      <td>True</td>\n",
       "    </tr>\n",
       "  </tbody>\n",
       "</table>\n",
       "<p>1000 rows × 5 columns</p>\n",
       "</div>"
      ],
      "text/plain": [
       "     beta_hat        se     t-stat  p-value  reject_null\n",
       "0    1.026443  0.044461  23.086315      0.0         True\n",
       "1    1.000057  0.043718  22.875281      0.0         True\n",
       "2    0.991407  0.043028  23.040745      0.0         True\n",
       "3    1.027853  0.043937  23.394009      0.0         True\n",
       "4    1.035288  0.043327  23.894684      0.0         True\n",
       "..        ...       ...        ...      ...          ...\n",
       "995  0.957924  0.049534  19.338579      0.0         True\n",
       "996  1.036001  0.045830  22.605256      0.0         True\n",
       "997  0.988438  0.045057  21.937321      0.0         True\n",
       "998  0.949725  0.043970  21.599196      0.0         True\n",
       "999  1.047803  0.046200  22.679747      0.0         True\n",
       "\n",
       "[1000 rows x 5 columns]"
      ]
     },
     "execution_count": 5,
     "metadata": {},
     "output_type": "execute_result"
    }
   ],
   "source": [
    "# Run Monte Carlo simulation\n",
    "simulation_results = monte_carlo_simulation(n_simulations, n, beta, pi)\n",
    "\n",
    "simulation_results"
   ]
  },
  {
   "cell_type": "code",
   "execution_count": 6,
   "id": "6bd21a2e",
   "metadata": {},
   "outputs": [],
   "source": [
    "# Calculate bias and precision of 2SLS estimator\n",
    "bias = simulation_results['beta_hat'].mean() - beta\n",
    "precision = simulation_results['beta_hat'].std()\n",
    "\n",
    "# Calculate size and power of t-test\n",
    "size = simulation_results['reject_null'].mean()\n",
    "power = 1 - size"
   ]
  },
  {
   "cell_type": "code",
   "execution_count": 7,
   "id": "c43e0625",
   "metadata": {},
   "outputs": [],
   "source": [
    "# Calculate coverage probability of 95% confidence interval\n",
    "# ci_coverage = simulation_results[(simulation_results['beta_hat'] - 1.96 * simulation_results['se'] <\n",
    "  #                                beta) & (simulation_results['beta_hat'] + 1.96 * simulation_results['se'] >\n",
    "   #                                        beta)].shape[0] / n_simulations"
   ]
  },
  {
   "cell_type": "code",
   "execution_count": 8,
   "id": "165f5daf",
   "metadata": {},
   "outputs": [
    {
     "name": "stdout",
     "output_type": "stream",
     "text": [
      "Bias of 2SLS estimator: -0.0004221876004478764\n",
      "Precision of 2SLS estimator: 0.03239630990874789\n",
      "Size of t-test: 1.0\n",
      "Power of t-test: 0.0\n"
     ]
    },
    {
     "ename": "NameError",
     "evalue": "name 'ci_coverage' is not defined",
     "output_type": "error",
     "traceback": [
      "\u001b[0;31m---------------------------------------------------------------------------\u001b[0m",
      "\u001b[0;31mNameError\u001b[0m                                 Traceback (most recent call last)",
      "Cell \u001b[0;32mIn[8], line 5\u001b[0m\n\u001b[1;32m      3\u001b[0m \u001b[38;5;28mprint\u001b[39m(\u001b[38;5;124m\"\u001b[39m\u001b[38;5;124mSize of t-test:\u001b[39m\u001b[38;5;124m\"\u001b[39m, size)\n\u001b[1;32m      4\u001b[0m \u001b[38;5;28mprint\u001b[39m(\u001b[38;5;124m\"\u001b[39m\u001b[38;5;124mPower of t-test:\u001b[39m\u001b[38;5;124m\"\u001b[39m, power)\n\u001b[0;32m----> 5\u001b[0m \u001b[38;5;28mprint\u001b[39m(\u001b[38;5;124m\"\u001b[39m\u001b[38;5;124mCoverage probability of 95\u001b[39m\u001b[38;5;124m%\u001b[39m\u001b[38;5;124m CI:\u001b[39m\u001b[38;5;124m\"\u001b[39m, ci_coverage)\n",
      "\u001b[0;31mNameError\u001b[0m: name 'ci_coverage' is not defined"
     ]
    }
   ],
   "source": [
    "print(\"Bias of 2SLS estimator:\", bias)\n",
    "print(\"Precision of 2SLS estimator:\", precision)\n",
    "print(\"Size of t-test:\", size)\n",
    "print(\"Power of t-test:\", power)\n",
    "print(\"Coverage probability of 95% CI:\", ci_coverage)"
   ]
  },
  {
   "cell_type": "markdown",
   "id": "9a85d111",
   "metadata": {},
   "source": [
    "Yes, the 95% confidence intervals constructed from the 2SLS estimator cover over 95% of my Monte Carlo draws."
   ]
  },
  {
   "cell_type": "markdown",
   "id": "77d0d149",
   "metadata": {},
   "source": [
    "(c) Taking β = 1, but allowing π ∈ [0, 1] again evaluate the bias and precision of the estimator, and the size and power of a t-test. The Z instrument is “weak” when π is “close” to zero. Comment on how a weak instrument affects two- stage least squares estimators."
   ]
  },
  {
   "cell_type": "code",
   "execution_count": 18,
   "id": "2b017216",
   "metadata": {},
   "outputs": [
    {
     "name": "stdout",
     "output_type": "stream",
     "text": [
      "Random value of pi between 0 and 1 (as array): [0.27400217]\n"
     ]
    }
   ],
   "source": [
    "# Re-Define Parameters\n",
    "# Re-run dgp function assuming β = 1 and allowing π ∈ [0, 1]\n",
    "# For each draw the value of pi is different?\n",
    "n_simulations = 1000\n",
    "n = 1000\n",
    "beta = 1\n",
    "# Create random value in between 0 and 1 \n",
    "pi = np.array([np.random.uniform(0, 1)])\n",
    "\n",
    "# Set the seed for reproducibility\n",
    "np.random.seed(1)\n",
    "\n",
    "print(\"Random value of pi between 0 and 1 (as array):\", pi)"
   ]
  },
  {
   "cell_type": "code",
   "execution_count": 19,
   "id": "4280251f",
   "metadata": {},
   "outputs": [],
   "source": [
    "# Run Monte Carlo simulation\n",
    "simulation_results = monte_carlo_simulation(n_simulations, n, beta, pi)"
   ]
  },
  {
   "cell_type": "markdown",
   "id": "2659ea44",
   "metadata": {},
   "source": [
    "When pi is \"close\" to zero, Z is considered a weak instrument. This can lead to biased inference in undrstanding the relationship between x and y through inflated standard errors."
   ]
  }
 ],
 "metadata": {
  "kernelspec": {
   "display_name": "Python 3 (ipykernel)",
   "language": "python",
   "name": "python3"
  },
  "language_info": {
   "codemirror_mode": {
    "name": "ipython",
    "version": 3
   },
   "file_extension": ".py",
   "mimetype": "text/x-python",
   "name": "python",
   "nbconvert_exporter": "python",
   "pygments_lexer": "ipython3",
   "version": "3.9.15"
  }
 },
 "nbformat": 4,
 "nbformat_minor": 5
}
