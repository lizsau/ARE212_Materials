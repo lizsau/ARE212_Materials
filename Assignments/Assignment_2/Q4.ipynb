{
 "cells": [
  {
   "cell_type": "markdown",
   "id": "275cd01c",
   "metadata": {},
   "source": [
    "4. Weak Instruments"
   ]
  },
  {
   "cell_type": "markdown",
   "id": "10cfaf6a",
   "metadata": {},
   "source": [
    "(1) Construct a data-generating process dgp which takes as arguments (n, β, π) and returns a triple (y, x, Z) of n observations."
   ]
  },
  {
   "cell_type": "code",
   "execution_count": 5,
   "id": "446169e2",
   "metadata": {},
   "outputs": [],
   "source": [
    "import numpy as np\n",
    "\n",
    "def dgp(n, beta, pi):\n",
    "    # Generate Z based on l\n",
    "    l = len(pi)\n",
    "    Z = np.random.randn(n, l)\n",
    "    \n",
    "    # Generate v (error term for x)\n",
    "    v = np.random.randn(n)\n",
    "    \n",
    "    # Generate x\n",
    "    x = Z.dot(pi) + v\n",
    "    \n",
    "    # Generate u (error term for y)\n",
    "    u = np.random.randn(n)\n",
    "    \n",
    "    # Generate y\n",
    "    y = beta * x + u\n",
    "    \n",
    "    return y, x, Z"
   ]
  },
  {
   "cell_type": "markdown",
   "id": "de779b07",
   "metadata": {},
   "source": [
    "(2) Use the dgp function you’ve constructed to explore IV (2SLS) estimates of β as a function of π when l = 1 using a Monte Carlo approach, assuming homoskedastic errors."
   ]
  },
  {
   "cell_type": "markdown",
   "id": "10f9dc7b",
   "metadata": {},
   "source": [
    "(a) Write a function two_sls which takes as arguments (y, x, Z) and returns two-stage least squares estimates of β and the standard error of the estimate."
   ]
  },
  {
   "cell_type": "code",
   "execution_count": 6,
   "id": "cbf2f19a",
   "metadata": {},
   "outputs": [],
   "source": [
    "from scipy.stats import linregress\n",
    "\n",
    "def two_sls(y, x, Z):\n",
    "    # First stage regression: x on Z\n",
    "    pi_hat = np.linalg.lstsq(Z, x, rcond=None)[0]\n",
    "    \n",
    "    # Second stage regression: y on fitted values\n",
    "    x_hat = Z.dot(pi_hat)\n",
    "    beta_hat, _, _, _, stderr = linregress(x_hat, y)\n",
    "    \n",
    "    return beta_hat, stderr"
   ]
  },
  {
   "cell_type": "markdown",
   "id": "c4b53ac3",
   "metadata": {},
   "source": [
    "b) Taking β = π = 1, use repeated draws from dgp to check the bias, and precision of the two_sls estimator, as well as the size and power of a t-test of the hypothesis that β = 0. Discuss. Does a 95% confidence interval (based on your 2SLS estimator) correctly cover 95% of your Monte Carlo draws?"
   ]
  },
  {
   "cell_type": "code",
   "execution_count": null,
   "id": "a8d1f478",
   "metadata": {},
   "outputs": [],
   "source": []
  }
 ],
 "metadata": {
  "kernelspec": {
   "display_name": "Python 3 (ipykernel)",
   "language": "python",
   "name": "python3"
  },
  "language_info": {
   "codemirror_mode": {
    "name": "ipython",
    "version": 3
   },
   "file_extension": ".py",
   "mimetype": "text/x-python",
   "name": "python",
   "nbconvert_exporter": "python",
   "pygments_lexer": "ipython3",
   "version": "3.11.4"
  }
 },
 "nbformat": 4,
 "nbformat_minor": 5
}
