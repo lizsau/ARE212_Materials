{
 "cells": [
  {
   "cell_type": "markdown",
   "id": "1674da76-c0a0-4bf0-9a33-dff579f2868f",
   "metadata": {},
   "source": [
    "# Assignment 2 - Ei, Manavi, Katie, Omair, and Liz"
   ]
  },
  {
   "cell_type": "markdown",
   "id": "52f7b934-ea86-4195-bfe1-6e58eee81849",
   "metadata": {},
   "source": [
    "## 1. Exercises\n",
    "Liz worked on 1 and 2 already (check exercises notebook)"
   ]
  },
  {
   "cell_type": "markdown",
   "id": "b978e848-f661-4a41-8b24-cc88bbe2ec74",
   "metadata": {},
   "source": [
    "## 2. Wright (1928)"
   ]
  },
  {
   "cell_type": "markdown",
   "id": "2dbf3fca-4b92-4139-8d35-d715d7408617",
   "metadata": {},
   "source": [
    "## 3. Plausibly Exogenous"
   ]
  },
  {
   "cell_type": "markdown",
   "id": "7004ad33-d0a5-40b6-89d2-90b98060ca5e",
   "metadata": {},
   "source": [
    "## 4. Weak Instruments"
   ]
  },
  {
   "cell_type": "markdown",
   "id": "2fb58306-2e36-494b-a848-f8f362c49b2e",
   "metadata": {},
   "source": [
    "## 5. A Simple Approach to Inference with Weak Instruments\n"
   ]
  },
  {
   "cell_type": "markdown",
   "id": "9c353f3c-704c-476b-9d45-3e781aeb8297",
   "metadata": {},
   "source": [
    "## 6.  Angrist-Krueger (1991) Replication\n",
    "Liz has started to work on"
   ]
  },
  {
   "cell_type": "code",
   "execution_count": null,
   "id": "d42a71ec-0b3e-4286-8f4d-6ba473cc2334",
   "metadata": {},
   "outputs": [],
   "source": []
  }
 ],
 "metadata": {
  "kernelspec": {
   "display_name": "Python 3 (ipykernel)",
   "language": "python",
   "name": "python3"
  },
  "language_info": {
   "codemirror_mode": {
    "name": "ipython",
    "version": 3
   },
   "file_extension": ".py",
   "mimetype": "text/x-python",
   "name": "python",
   "nbconvert_exporter": "python",
   "pygments_lexer": "ipython3",
   "version": "3.9.15"
  }
 },
 "nbformat": 4,
 "nbformat_minor": 5
}
