{
 "cells": [
  {
   "cell_type": "markdown",
   "id": "d4eab06a-c286-4aba-aac3-393b1acd73e9",
   "metadata": {},
   "source": [
    "## 6. Angrist-Krueger (1991) Replication"
   ]
  },
  {
   "cell_type": "markdown",
   "id": "d2e86b0e-e9a7-4336-91ea-83f7ce079c06",
   "metadata": {},
   "source": [
    "You'll find data from a famous paper by Angrist and Krueger (1991) in the ARE212_Materials repository, along with a pdf of the paper. The paper uses information on quarter of birth as an instrument for (endogenous) education to measure returns to education. The first specification in the paper is given in their equations (1) and (2)."
   ]
  },
  {
   "cell_type": "markdown",
   "id": "bae7a208-0ace-47b6-8406-f36e9a031d9a",
   "metadata": {},
   "source": [
    "#### 1. What is the (implicit) identifying assumption? Comment on its plausibility."
   ]
  },
  {
   "cell_type": "raw",
   "id": "58a46c6f-7845-4a0c-982b-235b52e01dee",
   "metadata": {},
   "source": [
    "The authors are trying to estimate a causal effect of years of education on returns to education (wages). Since this relation is endogenous, they use quarters of birth (season of birth) as instruments for years of education, a link formed by the existence of compulsory schooling laws, that mandate the age until which an individual has to remain in school. \n",
    "\n",
    "The implicit identifying assumption here is that the fraction of students who want to drop out prior to the legal dropout age is independent of the season of birth and so the observed seasonal pattern in education is only due to the fact that compulsory schooling constrains some students born later in the year to stay in school longer.\n",
    "\n",
    "The authors try to establish the plausibility of this assumption in two ways. They do not find a similar seasonal pattern in education for college graduates who do not face equivalent laws. They also analzye the enrolment rates for two age cohorts across states with varying age restrictions in the law and find evidence of lower enrolment of the older cohort in states with lower age restrictions. They also explore the relationship between earnings and season of birth for a smaller sample of college graduates to establish no direct link between the two. \n",
    "\n",
    "However, there is a possibility, albeit small, that there are underlying unobservable factors that may affect both the season in which one is born and one's attitude towards staying in school regardless of compulsory schooling laws. If we assume parents' education or socio-economic status or demographic characteristics can influence a child's decision to stay in school or dropout, and these factors also influence family planning to the extent of which season a child is born in, then the identifying assumption of exogeneity between the instrument and the structural model error term is violated."
   ]
  },
  {
   "cell_type": "markdown",
   "id": "7bcd18d6-762b-4305-b7bc-387715172df5",
   "metadata": {},
   "source": [
    "#### 2. Using their data, estimate (2), replicating the figures in their Table 5, using the conventional two-stage least squares IV estimator (what they call TSLS)."
   ]
  },
  {
   "cell_type": "code",
   "execution_count": 5,
   "id": "42fd3e45-043d-419e-bfe9-1bb98f845152",
   "metadata": {},
   "outputs": [
    {
     "name": "stdout",
     "output_type": "stream",
     "text": [
      "<bound method NDFrame.head of          ageq  edu   logwage  married  state  qob  black  smsa   yob  region\n",
      "0       47.00   12  6.245846        1      1    1      1     1  1933     0.0\n",
      "1       46.25   12  5.847161        1     48    4      1     1  1933     0.0\n",
      "2       50.00   12  6.645516        1      2    1      1     1  1930     0.0\n",
      "3       47.00   16  6.706133        1     22    1      1     1  1933     0.0\n",
      "4       42.25   14  6.357876        1     42    4      1     1  1937     0.0\n",
      "...       ...  ...       ...      ...    ...  ...    ...   ...   ...     ...\n",
      "329504  42.50   10  4.583833        1     26    3      1     1  1937     4.0\n",
      "329505  42.00   12  5.784210        1     22    1      1     1  1938     4.0\n",
      "329506  41.00   12  5.707302        1     48    1      1     1  1939     4.0\n",
      "329507  47.25   12  5.952494        1     42    4      1     1  1932     4.0\n",
      "329508  48.50   13  6.047781        1     20    3      1     1  1931     4.0\n",
      "\n",
      "[329509 rows x 10 columns]>\n"
     ]
    }
   ],
   "source": [
    "import pandas as pd\n",
    "%matplotlib inline\n",
    "import numpy as np\n",
    "from scipy.stats import multivariate_normal\n",
    "from scipy.linalg import inv, sqrtm\n",
    "import numpy as np\n",
    "import statsmodels.api as sm\n",
    "\n",
    "import warnings\n",
    "# Ignore FutureWarning messages\n",
    "warnings.filterwarnings(\"ignore\", category=FutureWarning)\n",
    "\n",
    "# read in dta file\n",
    "file_path = '~/ARE212_Materials/angrist-krueger91.dta'\n",
    "df = pd.read_stata(file_path)\n",
    "\n",
    "# quick look at data\n",
    "print(df.head)\n",
    "\n",
    "#print(df.dtypes)"
   ]
  },
  {
   "cell_type": "code",
   "execution_count": 6,
   "id": "9145d4b8-eb45-498b-894b-874715613154",
   "metadata": {},
   "outputs": [],
   "source": [
    "# Creating all required variables ( instruments and exogenous dummy variables)\n",
    "\n",
    "# Dropping one value in each variable to create the interaction\n",
    "df['yearminus_1'] = df['yob'].iloc[1:]\n",
    "df['qobminus_1'] = df['qob'].iloc[1:]\n",
    "df['stateminus_1'] = df['state'].iloc[1:]\n",
    "\n",
    "df['year_quar'] = df['yearminus_1'].astype(str) + df['qobminus_1'].astype(str)\n",
    "df['quar_state']=df['qobminus_1'].astype(str) + df['stateminus_1'].astype(str)\n",
    "\n",
    "# Creating age_squared variable\n",
    "df['age_sq'] = df['ageq']**2\n",
    "\n",
    "# Creating dummy variables for year of birth, region , state \n",
    "dummy_var_yob = pd.get_dummies(df['yob'], prefix='yob', drop_first=True)\n",
    "dummy_var_region = pd.get_dummies(df['region'], prefix='region', drop_first=True)\n",
    "dummy_var_state = pd.get_dummies(df['state'], prefix='state', drop_first=True)\n",
    "\n",
    "# Creating dummy variables for interaction terms used as instruments\n",
    "# Since we have already dropped one category in each of the interaction terms, we don't need to drop them now\n",
    "dummy_var_year_quar= pd.get_dummies(df['year_quar'], prefix='year_quar')\n",
    "dummy_var_quar_state= pd.get_dummies(df['quar_state'], prefix='quar_state')\n",
    "\n",
    "dummy_var_yob = dummy_var_yob.astype(int)\n",
    "dummy_var_region = dummy_var_region.astype(int)\n",
    "dummy_var_state =dummy_var_state.astype(int)\n",
    "dummy_var_year_quar =dummy_var_year_quar.astype(int)\n",
    "dummy_var_quar_state =dummy_var_quar_state.astype(int)\n",
    "\n",
    "# concatenate the original DataFrame with the dummy variables\n",
    "df = pd.concat([df, dummy_var_yob, dummy_var_region, dummy_var_state, dummy_var_year_quar, dummy_var_quar_state], axis=1)\n",
    "\n",
    "#variable_list = df.columns.tolist()\n",
    "#print(variable_list)\n"
   ]
  },
  {
   "cell_type": "code",
   "execution_count": 7,
   "id": "4e076486-7995-4344-9672-3b0046cdba92",
   "metadata": {},
   "outputs": [],
   "source": [
    "# Creating variables for the OLS regressions in Table 5\n",
    "\n",
    "y = df.logwage\n",
    "\n",
    "X1= pd.concat([df.filter(regex='^yob_'), df[['edu']]], axis=1)\n",
    "X3= pd.concat([df.filter(regex='^yob_'), df[['edu', 'ageq', 'age_sq']]], axis=1)\n",
    "X5= pd.concat([df.filter(regex='^yob_'),df.filter(regex='^region_'), df[['edu','black','smsa','married']]], axis=1)\n",
    "X7= pd.concat([df.filter(regex='^yob_'),df.filter(regex='^region_'), df[['edu','black','smsa','married', 'ageq', 'age_sq']]], axis=1)\n",
    "\n",
    "X1 = sm.add_constant(X1)\n",
    "X3 = sm.add_constant(X3)\n",
    "X5 = sm.add_constant(X5)\n",
    "X7 = sm.add_constant(X7)\n"
   ]
  },
  {
   "cell_type": "code",
   "execution_count": 8,
   "id": "e7911015-9b50-4049-97d3-f925eb3dbe03",
   "metadata": {},
   "outputs": [
    {
     "name": "stdout",
     "output_type": "stream",
     "text": [
      "\u001b[1mColumn 1\u001b[0m\n",
      "Coefficient for education: 0.07108104579762815\n",
      "Standard Error for education: 0.00033900670348043735\n",
      "\u001b[1mColumn 3\u001b[0m\n",
      "Coefficient for education: 0.07107366320153127\n",
      "Standard Error for education: 0.0003390582736823968\n",
      "\u001b[1mColumn 5\u001b[0m\n",
      "Coefficient for education: 0.06324573304217775\n",
      "Standard Error for education: 0.0003392620665417615\n",
      "\u001b[1mColumn 7\u001b[0m\n",
      "Coefficient for education: 0.06323780159470427\n",
      "Standard Error for education: 0.00033931099501583134\n"
     ]
    }
   ],
   "source": [
    "# Column 1\n",
    "model = sm.OLS(y, X1)\n",
    "results1 = model.fit()\n",
    "coefficient_edu1 = results1.params[10]  \n",
    "std_error_edu1 = results1.bse[10]       \n",
    "# Print the results\n",
    "print(\"\\033[1mColumn 1\\033[0m\")\n",
    "print(f\"Coefficient for education: {coefficient_edu1}\")\n",
    "print(f\"Standard Error for education: {std_error_edu1}\")\n",
    "\n",
    "# Column 3\n",
    "model = sm.OLS(y, X3)\n",
    "results3 = model.fit()\n",
    "coefficient_edu3 = results3.params[10]  \n",
    "std_error_edu3 = results3.bse[10]       \n",
    "# Print the results\n",
    "print(\"\\033[1mColumn 3\\033[0m\")\n",
    "print(f\"Coefficient for education: {coefficient_edu3}\")\n",
    "print(f\"Standard Error for education: {std_error_edu3}\")\n",
    "\n",
    "# Column 5\n",
    "model = sm.OLS(y, X5)\n",
    "results5 = model.fit()\n",
    "coefficient_edu5 = results5.params[18]  \n",
    "std_error_edu5 = results5.bse[18]       \n",
    "# Print the results\n",
    "print(\"\\033[1mColumn 5\\033[0m\")\n",
    "print(f\"Coefficient for education: {coefficient_edu5}\")\n",
    "print(f\"Standard Error for education: {std_error_edu5}\")\n",
    "\n",
    "\n",
    "# Column 7\n",
    "model = sm.OLS(y, X7)\n",
    "results7 = model.fit()\n",
    "coefficient_edu7 = results7.params[18]  \n",
    "std_error_edu7 = results7.bse[18] \n",
    "print(\"\\033[1mColumn 7\\033[0m\")\n",
    "print(f\"Coefficient for education: {coefficient_edu7}\")\n",
    "print(f\"Standard Error for education: {std_error_edu7}\")\n",
    "\n"
   ]
  },
  {
   "cell_type": "code",
   "execution_count": 9,
   "id": "f61f8415-7c14-4ef5-824f-3aa0f697bbdc",
   "metadata": {},
   "outputs": [
    {
     "name": "stdout",
     "output_type": "stream",
     "text": [
      "\u001b[1mColumn 2\u001b[0m\n",
      "Coefficient for education: 0.08893913575068293\n",
      "Standard Error for education: 0.016106444216455348\n",
      "\u001b[1mColumn 4\u001b[0m\n",
      "Coefficient for education: 0.07543764164546103\n",
      "Standard Error for education: 0.028950083149776568\n",
      "\u001b[1mColumn 6\u001b[0m\n",
      "Coefficient for education: 0.08045819961701267\n",
      "Standard Error for education: 0.0163840558007965\n",
      "\u001b[1mColumn 8\u001b[0m\n",
      "Coefficient for education: 0.059661724325873015\n",
      "Standard Error for education: 0.02898415838271307\n"
     ]
    }
   ],
   "source": [
    "# Creating variables for TSLS regression: Table 5\n",
    "\n",
    "# Get the columns that match the regex\n",
    "yob_columns = df.filter(regex='^yob_').columns.tolist()\n",
    "qob_yob_columns = df.filter(regex='^year_quar_').columns.tolist()\n",
    "region_columns = df.filter(regex='^region_').columns.tolist()\n",
    "\n",
    "exog_vars1 = sm.add_constant(df[['edu'] + yob_columns])\n",
    "exog_vars2= sm.add_constant(df[['edu','ageq', 'age_sq'] + yob_columns])\n",
    "exog_vars3= sm.add_constant(df[['edu','black','smsa','married'] + yob_columns + region_columns])\n",
    "exog_vars4= sm.add_constant(df[['edu','black','smsa','married', 'ageq', 'age_sq'] + yob_columns + region_columns])\n",
    "\n",
    "instrument1 = sm.add_constant(df[qob_yob_columns + yob_columns])\n",
    "instrument2 = sm.add_constant(df[['ageq', 'age_sq'] + qob_yob_columns + yob_columns])\n",
    "instrument3 = sm.add_constant(df[['black','smsa','married'] + qob_yob_columns + yob_columns + region_columns])\n",
    "instrument4 = sm.add_constant(df[['black','smsa','married', 'ageq', 'age_sq'] + qob_yob_columns + yob_columns + region_columns])\n",
    "\n",
    "# Table 5: TSLS Regressions \n",
    "\n",
    "from statsmodels.sandbox.regression.gmm import IV2SLS\n",
    "import statsmodels.api as sm\n",
    "\n",
    "# column 2\n",
    "resultsIV = IV2SLS(y,\n",
    "                  exog_vars1,\n",
    "                  instrument1).fit()\n",
    "\n",
    "coff_edu = resultsIV.params[1]  \n",
    "sd_edu = resultsIV.bse[1] \n",
    "print(\"\\033[1mColumn 2\\033[0m\")\n",
    "print(f\"Coefficient for education: {coff_edu}\")\n",
    "print(f\"Standard Error for education: {sd_edu}\")\n",
    "#print(resultIV.summary())\n",
    "\n",
    "# column 4\n",
    "resultsIV = IV2SLS(y,\n",
    "                  exog_vars2,\n",
    "                  instrument2).fit()\n",
    "coff_edu = resultsIV.params[1]  \n",
    "sd_edu = resultsIV.bse[1] \n",
    "print(\"\\033[1mColumn 4\\033[0m\")\n",
    "print(f\"Coefficient for education: {coff_edu}\")\n",
    "print(f\"Standard Error for education: {sd_edu}\")\n",
    "#print(resultsIV.summary())\n",
    "\n",
    "# column 6\n",
    "resultsIV = IV2SLS(y,\n",
    "                  exog_vars3,\n",
    "                  instrument3).fit()\n",
    "coff_edu = resultsIV.params[1]  \n",
    "sd_edu = resultsIV.bse[1] \n",
    "print(\"\\033[1mColumn 6\\033[0m\")\n",
    "print(f\"Coefficient for education: {coff_edu}\")\n",
    "print(f\"Standard Error for education: {sd_edu}\")\n",
    "#print(resultIV.summary())\n",
    "\n",
    "# column 8\n",
    "resultsIV = IV2SLS(y,\n",
    "                  exog_vars4,\n",
    "                  instrument4).fit()\n",
    "coff_edu = resultsIV.params[1]  \n",
    "sd_edu = resultsIV.bse[1] \n",
    "print(\"\\033[1mColumn 8\\033[0m\")\n",
    "print(f\"Coefficient for education: {coff_edu}\")\n",
    "print(f\"Standard Error for education: {sd_edu}\")\n",
    "#print(resultIV.summary())"
   ]
  },
  {
   "cell_type": "markdown",
   "id": "6e31fbf0-c4bf-40d0-93a1-024dea3ebac9",
   "metadata": {},
   "source": [
    "#### 3. Repeat (2), but for the specification reported in their Table 7 (which has many more instruments). Summarize what the above exercises tell us about returns to education."
   ]
  },
  {
   "cell_type": "code",
   "execution_count": null,
   "id": "7727464d-fedc-410c-bc08-f19ee7ae8112",
   "metadata": {},
   "outputs": [],
   "source": [
    "# OLS Regressions: Table 7\n",
    "state_columns = df.filter(regex='^state_').columns.tolist()\n",
    "quar_state_columns = df.filter(regex='^quar_state_').columns.tolist()\n",
    "\n",
    "X_1= sm.add_constant(df[['edu'] + yob_columns + state_columns])\n",
    "X_2= sm.add_constant(df[['edu','ageq', 'age_sq'] + yob_columns + state_columns])\n",
    "X_3= sm.add_constant(df[['edu','black','smsa','married'] + yob_columns + region_columns + state_columns])\n",
    "X_4= sm.add_constant(df[['edu','black','smsa','married', 'ageq', 'age_sq'] + yob_columns + region_columns + state_columns])\n"
   ]
  },
  {
   "cell_type": "code",
   "execution_count": null,
   "id": "a19f270d-70ca-47cd-99e1-dff6cf6dca20",
   "metadata": {},
   "outputs": [],
   "source": [
    "# Table 7: OLS Regressions \n",
    "\n",
    "# Column 1: OLS\n",
    "model = sm.OLS(y, X_1)\n",
    "results = model.fit()\n",
    "coff_edu = results.params[1]  \n",
    "sd_edu = results.bse[1] \n",
    "# Print the results\n",
    "print(\"\\033[1mColumn 1\\033[0m\")\n",
    "print(f\"Coefficient for education: {coff_edu}\")\n",
    "print(f\"Standard Error for education: {sd_edu}\")\n",
    "print(results.summary())"
   ]
  },
  {
   "cell_type": "code",
   "execution_count": null,
   "id": "ed22a581-232d-48d3-9244-9873d44cd71c",
   "metadata": {},
   "outputs": [],
   "source": [
    "\n",
    "# Column 3: OLS\n",
    "model = sm.OLS(y, X2)\n",
    "results = model.fit()\n",
    "coff_edu = results.params[10]  \n",
    "sd_edu = results.bse[10]       \n",
    "# Print the results\n",
    "print(\"\\033[1mColumn 3\\033[0m\")\n",
    "print(f\"Coefficient for education: {coff_edu}\")\n",
    "print(f\"Standard Error for education: {sd_edu}\")\n",
    "\n",
    "\n",
    "# Column 5: OLS\n",
    "model = sm.OLS(y, X3)\n",
    "results = model.fit()\n",
    "coff_edu = results.params[10]  \n",
    "sd_edu = results.bse[10]       \n",
    "# Print the results\n",
    "print(\"\\033[1mColumn 5\\033[0m\")\n",
    "print(f\"Coefficient for education: {coff_edu}\")\n",
    "print(f\"Standard Error for education: {sd_edu}\")\n",
    "\n",
    "\n",
    "# Column 7:OLS\n",
    "model = sm.OLS(y, X4)\n",
    "results = model.fit()\n",
    "coff_edu = results.params[10]  \n",
    "sd_edu = results.bse[10]       \n",
    "# Print the results\n",
    "print(\"\\033[1mColumn 7\\033[0m\")\n",
    "print(f\"Coefficient for education: {coff_edu}\")\n",
    "print(f\"Standard Error for education: {sd_edu}\")"
   ]
  },
  {
   "cell_type": "code",
   "execution_count": null,
   "id": "a8abd193-3160-4160-bf8d-e4e37ed3ae95",
   "metadata": {},
   "outputs": [],
   "source": [
    "\n",
    "instrument1 = sm.add_constant(df[qob_yob_columns + quar_state_columns+ yob_columns + state_columns])\n",
    "instrument2 = sm.add_constant(df[['ageq', 'age_sq'] + qob_yob_columns + quar_state_columns+ yob_columns + state_columns])\n",
    "instrument3 = sm.add_constant(df[['black','smsa','married'] + qob_yob_columns + quar_state_columns+ yob_columns + region_columns + state_columns])\n",
    "instrument4 = sm.add_constant(df[['black','smsa','married', 'ageq', 'age_sq'] + qob_yob_columns + quar_state_columns+ yob_columns + region_columns + state_columns])\n"
   ]
  },
  {
   "cell_type": "code",
   "execution_count": null,
   "id": "ca4a9d15-90a1-4ec6-9c52-2d19aeb2af02",
   "metadata": {},
   "outputs": [],
   "source": [
    "# Table 7: TSLS Regressions \n",
    "\n",
    "# Column 2: TSLS\n",
    "resultsIV = IV2SLS(y,\n",
    "                  X1,\n",
    "                  instrument1).fit()\n",
    "\n",
    "coff_edu = resultsIV.params[1]  \n",
    "sd_edu = resultsIV.bse[1] \n",
    "print(\"\\033[1mColumn 2\\033[0m\")\n",
    "print(f\"Coefficient for education: {coff_edu}\")\n",
    "print(f\"Standard Error for education: {sd_edu}\")\n",
    "\n",
    "\n",
    "# Column 4: TSLS\n",
    "resultsIV = IV2SLS(y,\n",
    "                  X2,\n",
    "                  instrument2).fit()\n",
    "coff_edu = resultsIV.params[1]  \n",
    "sd_edu = resultsIV.bse[1] \n",
    "print(\"\\033[1mColumn 4\\033[0m\")\n",
    "print(f\"Coefficient for education: {coff_edu}\")\n",
    "print(f\"Standard Error for education: {sd_edu}\")\n",
    "\n",
    "# Column 6: TSLS\n",
    "resultsIV = IV2SLS(y,\n",
    "                  X3,\n",
    "                  instrument3).fit()\n",
    "coff_edu = resultsIV.params[1]  \n",
    "sd_edu = resultsIV.bse[1] \n",
    "print(\"\\033[1mColumn 6\\033[0m\")\n",
    "print(f\"Coefficient for education: {coff_edu}\")\n",
    "print(f\"Standard Error for education: {sd_edu}\")\n",
    "\n",
    "# Column 8: TSLS\n",
    "resultsIV = IV2SLS(y,\n",
    "                  X4,\n",
    "                  instrument4).fit()\n",
    "coff_edu = resultsIV.params[1]  \n",
    "sd_edu = resultsIV.bse[1] \n",
    "print(\"\\033[1mColumn 8\\033[0m\")\n",
    "print(f\"Coefficient for education: {coff_edu}\")\n",
    "print(f\"Standard Error for education: {sd_edu}\")\n"
   ]
  },
  {
   "cell_type": "markdown",
   "id": "216cdc60-f8ad-4a5c-a94a-1f973276c363",
   "metadata": {},
   "source": [
    "#### (4) Adapt your implementation of the Chernozhukov and C. Hansen estimator to estimate the key parameter ρ,first for the Table 5 specification, then the Table 7 specification. How does your point estimate compare?"
   ]
  },
  {
   "cell_type": "code",
   "execution_count": null,
   "id": "4e04ab7b-9d39-4c1f-8a1e-e5e0e54d2639",
   "metadata": {},
   "outputs": [],
   "source": []
  },
  {
   "cell_type": "code",
   "execution_count": null,
   "id": "520c7473-8f7f-4104-9f51-55aab2c423b4",
   "metadata": {},
   "outputs": [],
   "source": []
  },
  {
   "cell_type": "code",
   "execution_count": null,
   "id": "09f1f05c-41d5-49ae-afe6-ad9785f3fccc",
   "metadata": {},
   "outputs": [],
   "source": []
  },
  {
   "cell_type": "code",
   "execution_count": null,
   "id": "61bc2793-30ea-4e33-8982-b8412298321d",
   "metadata": {},
   "outputs": [],
   "source": []
  },
  {
   "cell_type": "code",
   "execution_count": null,
   "id": "af59ae9f-75a6-413d-8aec-e53dc01986be",
   "metadata": {},
   "outputs": [],
   "source": []
  },
  {
   "cell_type": "markdown",
   "id": "5c2942b3-3660-44a7-9efb-51d073a1721d",
   "metadata": {},
   "source": [
    "#### (5) Same as (4), but construct 95% confidence intervals using both 2SLS and your new estimator. How do these compare? Which estimator do you prefer, and why?"
   ]
  },
  {
   "cell_type": "code",
   "execution_count": null,
   "id": "73ea7dc5-d80e-412d-ba4b-21e87d2abf36",
   "metadata": {},
   "outputs": [],
   "source": []
  }
 ],
 "metadata": {
  "kernelspec": {
   "display_name": "Python 3 (ipykernel)",
   "language": "python",
   "name": "python3"
  },
  "language_info": {
   "codemirror_mode": {
    "name": "ipython",
    "version": 3
   },
   "file_extension": ".py",
   "mimetype": "text/x-python",
   "name": "python",
   "nbconvert_exporter": "python",
   "pygments_lexer": "ipython3",
   "version": "3.9.15"
  }
 },
 "nbformat": 4,
 "nbformat_minor": 5
}
