{
 "cells": [
  {
   "cell_type": "markdown",
   "id": "d4eab06a-c286-4aba-aac3-393b1acd73e9",
   "metadata": {},
   "source": [
    "## 6. Angriest-Krueger (1991) Replication"
   ]
  },
  {
   "cell_type": "markdown",
   "id": "d2e86b0e-e9a7-4336-91ea-83f7ce079c06",
   "metadata": {},
   "source": [
    "You'll find data from a famous paper by Angrist and Krueger (1991) in the ARE212_Materials repository, along with a pdf of the paper. The paper uses information on quarter of birth as an instrument for (endogenous) education to measure returns to education. The first specification in the paper is given in their equations (1) and (2)."
   ]
  },
  {
   "cell_type": "markdown",
   "id": "bae7a208-0ace-47b6-8406-f36e9a031d9a",
   "metadata": {},
   "source": [
    "#### 1. What is the (implicit) identifying assumption? Comment on its plausibility."
   ]
  },
  {
   "cell_type": "code",
   "execution_count": null,
   "id": "439520b3-169e-4f1e-83a2-72b7cec910f2",
   "metadata": {},
   "outputs": [],
   "source": []
  },
  {
   "cell_type": "markdown",
   "id": "7bcd18d6-762b-4305-b7bc-387715172df5",
   "metadata": {},
   "source": [
    "#### 2. Using their data, estimate (2), replicating the figures in their Table 5, using the conventional two-stage least squares IV esti\u0002mator (what they call TSLS)."
   ]
  },
  {
   "cell_type": "code",
   "execution_count": 3,
   "id": "42fd3e45-043d-419e-bfe9-1bb98f845152",
   "metadata": {},
   "outputs": [
    {
     "name": "stdout",
     "output_type": "stream",
     "text": [
      "<bound method NDFrame.describe of          ageq  edu   logwage  married  state  qob  black  smsa   yob  region\n",
      "0       47.00   12  6.245846        1      1    1      1     1  1933     0.0\n",
      "1       46.25   12  5.847161        1     48    4      1     1  1933     0.0\n",
      "2       50.00   12  6.645516        1      2    1      1     1  1930     0.0\n",
      "3       47.00   16  6.706133        1     22    1      1     1  1933     0.0\n",
      "4       42.25   14  6.357876        1     42    4      1     1  1937     0.0\n",
      "...       ...  ...       ...      ...    ...  ...    ...   ...   ...     ...\n",
      "329504  42.50   10  4.583833        1     26    3      1     1  1937     4.0\n",
      "329505  42.00   12  5.784210        1     22    1      1     1  1938     4.0\n",
      "329506  41.00   12  5.707302        1     48    1      1     1  1939     4.0\n",
      "329507  47.25   12  5.952494        1     42    4      1     1  1932     4.0\n",
      "329508  48.50   13  6.047781        1     20    3      1     1  1931     4.0\n",
      "\n",
      "[329509 rows x 10 columns]>\n"
     ]
    }
   ],
   "source": [
    "import pandas as pd\n",
    "\n",
    "# read in dta file\n",
    "file_path = '~/ARE212_Materials/angrist-krueger91.dta'\n",
    "df = pd.read_stata(file_path)\n",
    "\n",
    "# quick summary of data\n",
    "print(df.describe)"
   ]
  },
  {
   "cell_type": "code",
   "execution_count": null,
   "id": "1c97ce34-dbce-4b20-8920-0e253b485476",
   "metadata": {},
   "outputs": [],
   "source": []
  }
 ],
 "metadata": {
  "kernelspec": {
   "display_name": "Python 3 (ipykernel)",
   "language": "python",
   "name": "python3"
  },
  "language_info": {
   "codemirror_mode": {
    "name": "ipython",
    "version": 3
   },
   "file_extension": ".py",
   "mimetype": "text/x-python",
   "name": "python",
   "nbconvert_exporter": "python",
   "pygments_lexer": "ipython3",
   "version": "3.9.15"
  }
 },
 "nbformat": 4,
 "nbformat_minor": 5
}
