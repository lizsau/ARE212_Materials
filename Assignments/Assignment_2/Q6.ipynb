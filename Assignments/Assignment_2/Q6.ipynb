{
 "cells": [
  {
   "cell_type": "markdown",
   "id": "d4eab06a-c286-4aba-aac3-393b1acd73e9",
   "metadata": {},
   "source": [
    "## 6. Angriest-Krueger (1991) Replication"
   ]
  },
  {
   "cell_type": "markdown",
   "id": "d2e86b0e-e9a7-4336-91ea-83f7ce079c06",
   "metadata": {},
   "source": [
    "You'll find data from a famous paper by Angrist and Krueger (1991) in the ARE212_Materials repository, along with a pdf of the paper. The paper uses information on quarter of birth as an instrument for (endogenous) education to measure returns to education. The first specification in the paper is given in their equations (1) and (2)."
   ]
  },
  {
   "cell_type": "markdown",
   "id": "bae7a208-0ace-47b6-8406-f36e9a031d9a",
   "metadata": {},
   "source": [
    "#### 1. What is the (implicit) identifying assumption? Comment on its plausibility."
   ]
  },
  {
   "cell_type": "code",
   "execution_count": null,
   "id": "439520b3-169e-4f1e-83a2-72b7cec910f2",
   "metadata": {},
   "outputs": [],
   "source": []
  },
  {
   "cell_type": "markdown",
   "id": "7bcd18d6-762b-4305-b7bc-387715172df5",
   "metadata": {},
   "source": [
    "#### 2. Using their data, estimate (2), replicating the figures in their Table 5, using the conventional two-stage least squares IV estimator (what they call TSLS)."
   ]
  },
  {
   "cell_type": "code",
   "execution_count": 73,
   "id": "42fd3e45-043d-419e-bfe9-1bb98f845152",
   "metadata": {},
   "outputs": [
    {
     "name": "stdout",
     "output_type": "stream",
     "text": [
      "<bound method NDFrame.head of          ageq  edu   logwage  married  state  qob  black  smsa   yob  region\n",
      "0       47.00   12  6.245846        1      1    1      1     1  1933     0.0\n",
      "1       46.25   12  5.847161        1     48    4      1     1  1933     0.0\n",
      "2       50.00   12  6.645516        1      2    1      1     1  1930     0.0\n",
      "3       47.00   16  6.706133        1     22    1      1     1  1933     0.0\n",
      "4       42.25   14  6.357876        1     42    4      1     1  1937     0.0\n",
      "...       ...  ...       ...      ...    ...  ...    ...   ...   ...     ...\n",
      "329504  42.50   10  4.583833        1     26    3      1     1  1937     4.0\n",
      "329505  42.00   12  5.784210        1     22    1      1     1  1938     4.0\n",
      "329506  41.00   12  5.707302        1     48    1      1     1  1939     4.0\n",
      "329507  47.25   12  5.952494        1     42    4      1     1  1932     4.0\n",
      "329508  48.50   13  6.047781        1     20    3      1     1  1931     4.0\n",
      "\n",
      "[329509 rows x 10 columns]>\n"
     ]
    }
   ],
   "source": [
    "import pandas as pd\n",
    "%matplotlib inline\n",
    "import numpy as np\n",
    "from scipy.stats import multivariate_normal\n",
    "from scipy.linalg import inv, sqrtm\n",
    "import numpy as np\n",
    "\n",
    "# read in dta file\n",
    "file_path = '~/ARE212_Materials/angrist-krueger91.dta'\n",
    "df = pd.read_stata(file_path)\n",
    "\n",
    "# quick look at data\n",
    "print(df.head)"
   ]
  },
  {
   "cell_type": "code",
   "execution_count": 86,
   "id": "1c97ce34-dbce-4b20-8920-0e253b485476",
   "metadata": {},
   "outputs": [
    {
     "ename": "KeyError",
     "evalue": "\"['dummy_var_yob'] not in index\"",
     "output_type": "error",
     "traceback": [
      "\u001b[0;31m---------------------------------------------------------------------------\u001b[0m",
      "\u001b[0;31mKeyError\u001b[0m                                  Traceback (most recent call last)",
      "Cell \u001b[0;32mIn[86], line 20\u001b[0m\n\u001b[1;32m     18\u001b[0m df[\u001b[38;5;124m'\u001b[39m\u001b[38;5;124mintercept\u001b[39m\u001b[38;5;124m'\u001b[39m] \u001b[38;5;241m=\u001b[39m \u001b[38;5;241m1\u001b[39m\n\u001b[1;32m     19\u001b[0m y \u001b[38;5;241m=\u001b[39m df\u001b[38;5;241m.\u001b[39mlogwage\n\u001b[0;32m---> 20\u001b[0m X \u001b[38;5;241m=\u001b[39m \u001b[43mdf\u001b[49m\u001b[43m[\u001b[49m\u001b[43m[\u001b[49m\u001b[38;5;124;43m'\u001b[39;49m\u001b[38;5;124;43mintercept\u001b[39;49m\u001b[38;5;124;43m'\u001b[39;49m\u001b[43m,\u001b[49m\u001b[43m \u001b[49m\u001b[38;5;124;43m'\u001b[39;49m\u001b[38;5;124;43medu\u001b[39;49m\u001b[38;5;124;43m'\u001b[39;49m\u001b[43m,\u001b[49m\u001b[43m \u001b[49m\u001b[38;5;124;43m'\u001b[39;49m\u001b[38;5;124;43mdummy_var_yob\u001b[39;49m\u001b[38;5;124;43m'\u001b[39;49m\u001b[43m]\u001b[49m\u001b[43m]\u001b[49m\n\u001b[1;32m     21\u001b[0m instrument \u001b[38;5;241m=\u001b[39m df[\u001b[38;5;124m'\u001b[39m\u001b[38;5;124mqob_yob_int\u001b[39m\u001b[38;5;124m'\u001b[39m]\n",
      "File \u001b[0;32m/srv/conda/lib/python3.9/site-packages/pandas/core/frame.py:4096\u001b[0m, in \u001b[0;36mDataFrame.__getitem__\u001b[0;34m(self, key)\u001b[0m\n\u001b[1;32m   4094\u001b[0m     \u001b[38;5;28;01mif\u001b[39;00m is_iterator(key):\n\u001b[1;32m   4095\u001b[0m         key \u001b[38;5;241m=\u001b[39m \u001b[38;5;28mlist\u001b[39m(key)\n\u001b[0;32m-> 4096\u001b[0m     indexer \u001b[38;5;241m=\u001b[39m \u001b[38;5;28;43mself\u001b[39;49m\u001b[38;5;241;43m.\u001b[39;49m\u001b[43mcolumns\u001b[49m\u001b[38;5;241;43m.\u001b[39;49m\u001b[43m_get_indexer_strict\u001b[49m\u001b[43m(\u001b[49m\u001b[43mkey\u001b[49m\u001b[43m,\u001b[49m\u001b[43m \u001b[49m\u001b[38;5;124;43m\"\u001b[39;49m\u001b[38;5;124;43mcolumns\u001b[39;49m\u001b[38;5;124;43m\"\u001b[39;49m\u001b[43m)\u001b[49m[\u001b[38;5;241m1\u001b[39m]\n\u001b[1;32m   4098\u001b[0m \u001b[38;5;66;03m# take() does not accept boolean indexers\u001b[39;00m\n\u001b[1;32m   4099\u001b[0m \u001b[38;5;28;01mif\u001b[39;00m \u001b[38;5;28mgetattr\u001b[39m(indexer, \u001b[38;5;124m\"\u001b[39m\u001b[38;5;124mdtype\u001b[39m\u001b[38;5;124m\"\u001b[39m, \u001b[38;5;28;01mNone\u001b[39;00m) \u001b[38;5;241m==\u001b[39m \u001b[38;5;28mbool\u001b[39m:\n",
      "File \u001b[0;32m/srv/conda/lib/python3.9/site-packages/pandas/core/indexes/base.py:6200\u001b[0m, in \u001b[0;36mIndex._get_indexer_strict\u001b[0;34m(self, key, axis_name)\u001b[0m\n\u001b[1;32m   6197\u001b[0m \u001b[38;5;28;01melse\u001b[39;00m:\n\u001b[1;32m   6198\u001b[0m     keyarr, indexer, new_indexer \u001b[38;5;241m=\u001b[39m \u001b[38;5;28mself\u001b[39m\u001b[38;5;241m.\u001b[39m_reindex_non_unique(keyarr)\n\u001b[0;32m-> 6200\u001b[0m \u001b[38;5;28;43mself\u001b[39;49m\u001b[38;5;241;43m.\u001b[39;49m\u001b[43m_raise_if_missing\u001b[49m\u001b[43m(\u001b[49m\u001b[43mkeyarr\u001b[49m\u001b[43m,\u001b[49m\u001b[43m \u001b[49m\u001b[43mindexer\u001b[49m\u001b[43m,\u001b[49m\u001b[43m \u001b[49m\u001b[43maxis_name\u001b[49m\u001b[43m)\u001b[49m\n\u001b[1;32m   6202\u001b[0m keyarr \u001b[38;5;241m=\u001b[39m \u001b[38;5;28mself\u001b[39m\u001b[38;5;241m.\u001b[39mtake(indexer)\n\u001b[1;32m   6203\u001b[0m \u001b[38;5;28;01mif\u001b[39;00m \u001b[38;5;28misinstance\u001b[39m(key, Index):\n\u001b[1;32m   6204\u001b[0m     \u001b[38;5;66;03m# GH 42790 - Preserve name from an Index\u001b[39;00m\n",
      "File \u001b[0;32m/srv/conda/lib/python3.9/site-packages/pandas/core/indexes/base.py:6252\u001b[0m, in \u001b[0;36mIndex._raise_if_missing\u001b[0;34m(self, key, indexer, axis_name)\u001b[0m\n\u001b[1;32m   6249\u001b[0m     \u001b[38;5;28;01mraise\u001b[39;00m \u001b[38;5;167;01mKeyError\u001b[39;00m(\u001b[38;5;124mf\u001b[39m\u001b[38;5;124m\"\u001b[39m\u001b[38;5;124mNone of [\u001b[39m\u001b[38;5;132;01m{\u001b[39;00mkey\u001b[38;5;132;01m}\u001b[39;00m\u001b[38;5;124m] are in the [\u001b[39m\u001b[38;5;132;01m{\u001b[39;00maxis_name\u001b[38;5;132;01m}\u001b[39;00m\u001b[38;5;124m]\u001b[39m\u001b[38;5;124m\"\u001b[39m)\n\u001b[1;32m   6251\u001b[0m not_found \u001b[38;5;241m=\u001b[39m \u001b[38;5;28mlist\u001b[39m(ensure_index(key)[missing_mask\u001b[38;5;241m.\u001b[39mnonzero()[\u001b[38;5;241m0\u001b[39m]]\u001b[38;5;241m.\u001b[39munique())\n\u001b[0;32m-> 6252\u001b[0m \u001b[38;5;28;01mraise\u001b[39;00m \u001b[38;5;167;01mKeyError\u001b[39;00m(\u001b[38;5;124mf\u001b[39m\u001b[38;5;124m\"\u001b[39m\u001b[38;5;132;01m{\u001b[39;00mnot_found\u001b[38;5;132;01m}\u001b[39;00m\u001b[38;5;124m not in index\u001b[39m\u001b[38;5;124m\"\u001b[39m)\n",
      "\u001b[0;31mKeyError\u001b[0m: \"['dummy_var_yob'] not in index\""
     ]
    }
   ],
   "source": [
    "#create instrumental variable\n",
    "qob_yob_int = df.qob*df.yob\n",
    "df = pd.concat([df, qob_yob_int], axis=1)\n",
    "\n",
    "# set up dummy variables\n",
    "dummy_var_qobyob = pd.get_dummies(df['qob_yob_int'], prefix='qob_yob_int')\n",
    "dummy_var_yob = pd.get_dummies(df['yob'], prefix='yob')\n",
    "dummy_var_region = pd.get_dummies(df['region'], prefix='region')\n",
    "\n",
    "# concatenate the original DataFrame with the dummy variables\n",
    "df = pd.concat([df, dummy_var_qobyob, dummy_var_yob, dummy_var_region], axis=1)\n",
    "\n",
    "# create new data frame with only men 30-39.\n",
    "df_tab5 = df[(df['ageq'] >= 30) & (df['ageq'] <= 39)]\n",
    "df_tab5 = df_tab5.reset_index(drop=True)\n",
    "\n",
    "# define variables\n",
    "df['intercept'] = 1\n",
    "y = df.logwage\n",
    "X = df[['intercept', 'edu', 'dummy_var_yob']]\n",
    "instrument = df['qob_yob_int']"
   ]
  },
  {
   "cell_type": "code",
   "execution_count": 55,
   "id": "950dcfd2-3bcb-4b18-8171-c3351d880953",
   "metadata": {},
   "outputs": [
    {
     "name": "stdout",
     "output_type": "stream",
     "text": [
      "[-5.24445623e-13 -7.26036770e-15  1.00000000e+00]\n",
      "[1.02294476e-15 3.76948760e-17 1.82206443e-16]\n"
     ]
    }
   ],
   "source": [
    "# regression\n",
    "b = np.linalg.solve(X.T@X,X.T@y)\n",
    "\n",
    "e = y - X@b\n",
    "\n",
    "vb = e.var()*inv(X.T@X)\n",
    "\n",
    "print(b)\n",
    "print(np.sqrt(np.diag(vb)))\n"
   ]
  },
  {
   "cell_type": "code",
   "execution_count": 64,
   "id": "3fdf39a0-788f-4d63-9c30-bbda26d5b995",
   "metadata": {},
   "outputs": [
    {
     "name": "stdout",
     "output_type": "stream",
     "text": [
      "                            OLS Regression Results                            \n",
      "==============================================================================\n",
      "Dep. Variable:                logwage   R-squared:                       1.000\n",
      "Model:                            OLS   Adj. R-squared:                  1.000\n",
      "Method:                 Least Squares   F-statistic:                 8.256e+33\n",
      "Date:                Sat, 30 Mar 2024   Prob (F-statistic):               0.00\n",
      "Time:                        17:12:05   Log-Likelihood:             1.0548e+07\n",
      "No. Observations:              329509   AIC:                        -2.110e+07\n",
      "Df Residuals:                  329506   BIC:                        -2.110e+07\n",
      "Df Model:                           2                                         \n",
      "Covariance Type:            nonrobust                                         \n",
      "==============================================================================\n",
      "                 coef    std err          t      P>|t|      [0.025      0.975]\n",
      "------------------------------------------------------------------------------\n",
      "intercept  -1.674e-14   4.65e-17   -359.872      0.000   -1.68e-14   -1.66e-14\n",
      "edu         8.432e-16   1.71e-18    492.041      0.000     8.4e-16    8.47e-16\n",
      "logwage        1.0000   8.28e-18   1.21e+17      0.000       1.000       1.000\n",
      "==============================================================================\n",
      "Omnibus:                    11425.315   Durbin-Watson:                   1.456\n",
      "Prob(Omnibus):                  0.000   Jarque-Bera (JB):            22227.538\n",
      "Skew:                           0.261   Prob(JB):                         0.00\n",
      "Kurtosis:                       4.160   Cond. No.                         129.\n",
      "==============================================================================\n",
      "\n",
      "Notes:\n",
      "[1] Standard Errors assume that the covariance matrix of the errors is correctly specified.\n"
     ]
    }
   ],
   "source": [
    "#### vague attempt at setting up reg\n",
    "model = sm.OLS(y, X).fit()\n",
    "\n",
    "# Print the regression summary\n",
    "results = model.summary(alpha=0.05)\n",
    "print(results)"
   ]
  },
  {
   "cell_type": "code",
   "execution_count": null,
   "id": "d33f790a-860a-4157-9013-f03b7ca7fcf3",
   "metadata": {},
   "outputs": [],
   "source": []
  }
 ],
 "metadata": {
  "kernelspec": {
   "display_name": "Python 3 (ipykernel)",
   "language": "python",
   "name": "python3"
  },
  "language_info": {
   "codemirror_mode": {
    "name": "ipython",
    "version": 3
   },
   "file_extension": ".py",
   "mimetype": "text/x-python",
   "name": "python",
   "nbconvert_exporter": "python",
   "pygments_lexer": "ipython3",
   "version": "3.9.15"
  }
 },
 "nbformat": 4,
 "nbformat_minor": 5
}
