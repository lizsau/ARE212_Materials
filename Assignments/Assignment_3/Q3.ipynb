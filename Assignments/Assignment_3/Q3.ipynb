{
 "cells": [
  {
   "cell_type": "markdown",
   "id": "ece36afa-25f3-410c-849c-49226663a898",
   "metadata": {},
   "source": [
    "## 2. Breusch-Pagan Extended"
   ]
  },
  {
   "cell_type": "markdown",
   "id": "6bf3091a-80df-4abf-ae4e-f238921b0a42",
   "metadata": {},
   "source": [
    "#### Consider a linear regression of the form  y = α + βx +u with (y,x) both scalar random variables, where it is assumed that (a.i) E(ux) = Eu = 0 and (a.ii) E(u^2|x) = sigma^2\n",
    "#### (1) The condition a.i is essentially untestable; explain why."
   ]
  },
  {
   "cell_type": "markdown",
   "id": "de231195-489d-406e-bbc6-59452ad98608",
   "metadata": {},
   "source": [
    "In the real world, it's not possible to directly measure the error term u since we cannot know the \"true\" values, we only know our estimated values. This makes it impossible to test condition a.i since we can't calculate the expected value of u."
   ]
  },
  {
   "cell_type": "markdown",
   "id": "6c5677f9-ead9-4050-ae7c-4d5a2e6147e8",
   "metadata": {},
   "source": [
    "#### (2) Breusch and Pagan (1979) argue that one can test a.ii via an auxiliary regression uˆ2 = c+dx+e, where the uˆ are the residuals from the first regression, and the test of a.ii then becomes a test of H0 : d = 0. Describe the logic of the test of a.ii"
   ]
  },
  {
   "cell_type": "markdown",
   "id": "d55a4419-cac7-4b0b-8116-c69399714d06",
   "metadata": {},
   "source": [
    "Condition a.ii specifies that there is no heteroskedasticity. Using an auxillary regression can show us whether the residuals from the first regression vary with x (heteroskedasticity) or if they are the same across all values of x (no heteroskedasticity). If d is non-zero, there is heteroskedasticty since u^2 varies by x value. Doing a hypothesis test with a null hypothesis of d = 0 tests whether x has an effect on the residuals from the first regression."
   ]
  },
  {
   "cell_type": "markdown",
   "id": "d82da6ea-12a5-47b1-95f9-80042fa9ee27",
   "metadata": {},
   "source": [
    "#### (3) Use the two conditions a.i and a.ii to construct a GMM version of the  Breusch-Pagan test."
   ]
  },
  {
   "cell_type": "markdown",
   "id": "58f2286a-242d-467e-9791-db8e45f8d583",
   "metadata": {},
   "source": []
  }
 ],
 "metadata": {
  "kernelspec": {
   "display_name": "Python 3 (ipykernel)",
   "language": "python",
   "name": "python3"
  },
  "language_info": {
   "codemirror_mode": {
    "name": "ipython",
    "version": 3
   },
   "file_extension": ".py",
   "mimetype": "text/x-python",
   "name": "python",
   "nbconvert_exporter": "python",
   "pygments_lexer": "ipython3",
   "version": "3.9.15"
  }
 },
 "nbformat": 4,
 "nbformat_minor": 5
}
