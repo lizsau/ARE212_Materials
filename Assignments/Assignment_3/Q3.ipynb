{
 "cells": [
  {
   "cell_type": "markdown",
   "id": "ece36afa-25f3-410c-849c-49226663a898",
   "metadata": {},
   "source": [
    "## 2. Breusch-Pagan Extended"
   ]
  },
  {
   "cell_type": "markdown",
   "id": "6bf3091a-80df-4abf-ae4e-f238921b0a42",
   "metadata": {},
   "source": [
    "#### Consider a linear regression of the form  y = α + βx +u with (y,x) both scalar random variables, where it is assumed that (a.i) E(ux) = Eu = 0 and (a.ii) E(u^2|x) = sigma^2\n",
    "#### (1) The condition a.i is essentially untestable; explain why."
   ]
  },
  {
   "cell_type": "markdown",
   "id": "de231195-489d-406e-bbc6-59452ad98608",
   "metadata": {},
   "source": [
    "In the real world, it's not possible to directly measure the error term u since we cannot know the \"true\" values, we only know our estimated values. This makes it impossible to test condition a.i since we can't calculate the expected value of u."
   ]
  },
  {
   "cell_type": "markdown",
   "id": "6c5677f9-ead9-4050-ae7c-4d5a2e6147e8",
   "metadata": {},
   "source": [
    "#### (2) Breusch and Pagan (1979) argue that one can test a.ii via an auxiliary regression uˆ2 = c+dx+e, where the uˆ2 are the residuals from the first regression, and the test of a.ii then becomes a test of H0 : d = 0. Describe the logic of the test of a.ii"
   ]
  },
  {
   "cell_type": "markdown",
   "id": "d55a4419-cac7-4b0b-8116-c69399714d06",
   "metadata": {},
   "source": [
    "Condition a.ii specifies that there is no heteroskedasticity. Using an auxillary regression can show us whether the residuals from the first regression vary with x (heteroskedasticity) or if they are the same across all values of x (no heteroskedasticity). If d is non-zero, there is heteroskedasticty since u^2 varies by x value. Doing a hypothesis test with a null hypothesis of d = 0 tests whether x has an effect on the residuals from the first regression."
   ]
  },
  {
   "cell_type": "markdown",
   "id": "d82da6ea-12a5-47b1-95f9-80042fa9ee27",
   "metadata": {},
   "source": [
    "#### (3) Use the two conditions a.i and a.ii to construct a GMM version of the  Breusch-Pagan test."
   ]
  },
  {
   "cell_type": "code",
   "execution_count": 64,
   "id": "918a2136-d9f2-4175-8176-e6fb17e378fe",
   "metadata": {},
   "outputs": [
    {
     "name": "stdout",
     "output_type": "stream",
     "text": [
      "-5.075264652987244e-16\n",
      "0.00022056601456732494\n"
     ]
    }
   ],
   "source": [
    "import numpy as np\n",
    "import statsmodels.api as sm\n",
    "np.random.seed(12345)\n",
    "\n",
    "# First, generate some data\n",
    "# Data generating process (DGP) function (picking random N, sigma_v, beta_true, and c)\n",
    "N = 1000000\n",
    "sigma_v = 2\n",
    "beta_true = 1\n",
    "\n",
    "def linear_dgp(N, sigma_v, beta_true):\n",
    "    X = np.random.normal(0, 1, N) \n",
    "    v = np.random.normal(0, sigma_v, N)  # Error term u\n",
    "    y = X * beta_true + v  # Outcome variable y\n",
    "    return y, X, v\n",
    "\n",
    "y, X, Z = linear_dgp(N, sigma_v, beta_true)\n",
    "\n",
    "# Add constant term to X\n",
    "X = sm.add_constant(X)\n",
    "\n",
    "# obtain u values (residuals from OLS)\n",
    "model = sm.OLS(y, X)\n",
    "results = model.fit()\n",
    "u_hat = results.resid  # Residuals\n",
    "\n",
    "# Now, write moment conditions:\n",
    "# First, from a.i, E(ux) = 0\n",
    "# Second, from a.ii, E(u^2 - σ^2) = 0\n",
    "\n",
    "# Test moment conditions\n",
    "# First, from a.i, E(ux) = 0\n",
    "moment1 = np.mean(u_hat * X[:,1])  # Corrected for dot product, should be close to 0\n",
    "print(moment1)\n",
    "\n",
    "# Second, from a.ii, E(u^2 - σ^2) = 0\n",
    "moment2 = np.mean(u_hat**2) - sigma_v**2  # Should be close to 0\n",
    "print(moment2)\n"
   ]
  },
  {
   "cell_type": "markdown",
   "id": "9530ab72-e8be-4397-b41e-d0bbfeed52a9",
   "metadata": {},
   "source": [
    "#### (4) What can you say about the performance or relative merits of the  Bruesch-Pagan test versus your GMM alternative?"
   ]
  },
  {
   "cell_type": "markdown",
   "id": "a5edd74b-df2f-4864-88c5-1af940c28f51",
   "metadata": {},
   "source": [
    "The GMM alternative offers flexibility in situations where condition a.ii is violated, such as in part (5). However, the Bruesch-Pagan test is convenient in that it offers a binary result. Either we detect a heteroskedasticity problem or we do not (based on whether we accept or reject our null hypothesis).\n",
    "\n",
    "??????????????????????????????????????????????"
   ]
  },
  {
   "cell_type": "markdown",
   "id": "4207dcd3-d6db-4321-bab8-30d4238beb71",
   "metadata": {},
   "source": [
    "#### (5) Suppose that in fact that x is distributed uniformly over the interval [0, 2π], and E(u 2 |x) = σ 2 (x) = σ 2 sin(2x), thus violating a.ii. What can you say about the performance of the Breusch Pagan test in this circumstance? Can you modify your GMM test to provide a superior alternative?"
   ]
  },
  {
   "cell_type": "markdown",
   "id": "4d2495dd-6226-454c-8984-5229985cf585",
   "metadata": {},
   "source": [
    "In this case, there is heteroskedasticity. However, we can see that the relationship between E(u^2|x) and σ^2 is nonlinear, and is in fact approximately symmetric around pi, the midway point of our interval in which x is uniformly distributed. This means the Breusch Pagan test is not hypothetically able to detect this violation of a.ii.\n",
    "The GMM test, on the other hand, is more flexible and we can modify the moment conditions to account for the relationship between E(u^2|x) and σ^2. Specifically, we can say E(u^2 - σ^2 * sin2x) = 0."
   ]
  },
  {
   "cell_type": "markdown",
   "id": "4b6ac484-a55c-455e-a79a-d842c103cc42",
   "metadata": {},
   "source": [
    "#### (6) In the above, we’ve considered a test of a specific functional form for the variance of u. Suppose instead that we don’t have any prior information regarding the form of E(u 2 |x) = f(x). Discuss how you might go about constructing an extended version of the Breusch-Pagan test which tests for f(x) non-constant."
   ]
  },
  {
   "cell_type": "markdown",
   "id": "53cb76b5-d6c1-45aa-a8e0-7ee5206b7603",
   "metadata": {},
   "source": [
    "We could add additional terms to the auxiliary regression uˆ2 = c+dx+e to extend the Breusch-Pagan test. So, for example, we could make the auxillary regression uˆ2 = c+dx+jsinx+kx^2+me^x+e and then run hypothesis tests for null hypotheses d=0, j=0, k=0, and m=0. If it turns out that any of these coefficients are non-zero, that could potentially detect heteroskedasticity in more cases."
   ]
  },
  {
   "cell_type": "markdown",
   "id": "16c2f6e1-30f8-4792-b2b8-39478a3dd452",
   "metadata": {},
   "source": [
    "#### (7) Show that you can use your ideas about estimating f(x) to construct a more efficient estimator of β if f(x) isn’t constant. Relate your estimator to the optimal generalized least squares (GLS) estimator."
   ]
  },
  {
   "cell_type": "markdown",
   "id": "e953bbb9-da96-445c-836c-bc73040401cb",
   "metadata": {},
   "source": [
    "???????????????????????????????????????????"
   ]
  },
  {
   "cell_type": "code",
   "execution_count": null,
   "id": "a2a11589-27f0-414b-b393-cd20ef9b3379",
   "metadata": {},
   "outputs": [],
   "source": []
  }
 ],
 "metadata": {
  "kernelspec": {
   "display_name": "Python 3 (ipykernel)",
   "language": "python",
   "name": "python3"
  },
  "language_info": {
   "codemirror_mode": {
    "name": "ipython",
    "version": 3
   },
   "file_extension": ".py",
   "mimetype": "text/x-python",
   "name": "python",
   "nbconvert_exporter": "python",
   "pygments_lexer": "ipython3",
   "version": "3.9.15"
  }
 },
 "nbformat": 4,
 "nbformat_minor": 5
}
