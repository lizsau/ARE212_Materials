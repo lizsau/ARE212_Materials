{
 "cells": [
  {
   "cell_type": "markdown",
   "id": "73521e09",
   "metadata": {},
   "source": [
    "## 4. Tests of Normality"
   ]
  },
  {
   "cell_type": "markdown",
   "id": "414516ca",
   "metadata": {},
   "source": [
    "(1) Using the analogy principle, construct an estimator for the first k moments of the distribution of x. Use this to define a k-vector of moment restrictions $ g_{N}(\\mu, \\sigma) $ satisfying $ E g_{N}(\\mu, \\sigma) = 0  $ under the null hypothesis of normality."
   ]
  },
  {
   "cell_type": "code",
   "execution_count": 39,
   "id": "ca0f0cfe",
   "metadata": {},
   "outputs": [],
   "source": [
    "import numpy as np\n",
    "from math import factorial\n",
    "\n",
    "def moment_conditions(mu, sigma, k, data):\n",
    "    # list to store vector of moment restrictions\n",
    "    moments = []\n",
    "    # For m = 1, take the mean of the data:\n",
    "    for m in range(1, k + 1):\n",
    "        if m == 1: \n",
    "            moments.append(np.mean(data) - mu)\n",
    "        elif m % 2 == 1: \n",
    "            # For subsequent odd moments:\n",
    "            moments.append(np.mean((data - mu) ** m) - 0)\n",
    "        else: \n",
    "            # For all even moments:\n",
    "            moments.append(np.mean((data - mu) ** m) - sigma ** m * factorial(m - 1))\n",
    "    return np.array(moments)"
   ]
  },
  {
   "cell_type": "code",
   "execution_count": 46,
   "id": "9d4a9b46",
   "metadata": {},
   "outputs": [
    {
     "name": "stdout",
     "output_type": "stream",
     "text": [
      "Moment Restriction Vector:\n",
      "1 moment: 0.03881247615960185\n",
      "2 moment: -0.036124480902271716\n",
      "3 moment: 0.047583678240587984\n"
     ]
    }
   ],
   "source": [
    "# set seed for reproducibility\n",
    "np.random.seed(1)\n",
    "\n",
    "data = np.random.normal(0, 1, 1000)  # create data from a normal distribution\n",
    "k = 3  # Number of moment conditions\n",
    "mu = 0  # true mean (for null hypothesis of normal distribution)\n",
    "sigma = 1  # true standard deviation (for null hypothesis of normal distribution)\n",
    "\n",
    "# Calculate moment conditions\n",
    "moment_restriction_vector = moment_conditions(mu, sigma, k, data)\n",
    "\n",
    "# Print moment restriction vector with labels\n",
    "print(\"Moment Restriction Vector:\")\n",
    "for i, moment in enumerate(moment_restriction_vector):\n",
    "    print(f\"{i+1} moment:\", moment)"
   ]
  },
  {
   "cell_type": "markdown",
   "id": "9f1bbe8b",
   "metadata": {},
   "source": [
    "(2) What is the covariance matrix of the sample moment restrictions (again under the null)? I.e., what can be said about \n",
    "$ E g_{j}(\\mu, \\sigma) g_{j}(\\mu, \\sigma)⊤ $ - $ E g_{j}(\\mu, \\sigma) E g_{j}(\\mu, \\sigma)⊤ $?"
   ]
  },
  {
   "cell_type": "markdown",
   "id": "a3048be2",
   "metadata": {},
   "source": [
    "The covariance matrix of the sample moment restrictions is a matrix of zeros. This is because the sample moment restrictions under the null hypothesis are expected to be constants. This means each moment restriction is independent of each other under the null hypothesis."
   ]
  },
  {
   "cell_type": "markdown",
   "id": "bc860237",
   "metadata": {},
   "source": [
    "(3) Using your answers to the previous two questions, suggest a GMM-based test of the hypothesis of normality, taking k > 2."
   ]
  },
  {
   "cell_type": "markdown",
   "id": "c9fbfaa5",
   "metadata": {},
   "source": [
    "$ H_{0} $: data is normally distributed\n",
    "\n",
    "$ H_{1} $: data is not normally distributed\n",
    "\n",
    "We use can use a GMM-based test to estimate mu and thetha by minimizing the moment conditions. Then, we can calculate a chi-square test statistic, comparing the GMM estimates and the moment restrictions to their expected values under the null hypothesis of normality. If our p-value is less than 0.05, we can reject our null hypothesis that the data is normally distributed."
   ]
  },
  {
   "cell_type": "markdown",
   "id": "8390a8e3",
   "metadata": {},
   "source": [
    "(4) Implement the test you’ve devised using python. You may want to use scipy.stats.distributions.chi2.cdf and scipy.optimize.minimize."
   ]
  },
  {
   "cell_type": "code",
   "execution_count": 47,
   "id": "bbcc1567",
   "metadata": {},
   "outputs": [
    {
     "name": "stdout",
     "output_type": "stream",
     "text": [
      "Test Statistic: 0.004672034352744824\n",
      "P-value: 0.9999151856735445\n",
      "Sample Moments: [ 0.03881248  0.96236911 -0.06835228]\n"
     ]
    }
   ],
   "source": [
    "from scipy.optimize import minimize\n",
    "from scipy.stats import chi2\n",
    "from scipy.stats import skew\n",
    "\n",
    "# Define the sample moment restrictions (mean, variance, skewness)\n",
    "def sample_moments(data):\n",
    "    # length of data\n",
    "    n = len(data)\n",
    "    # calculate first 3 moments\n",
    "    mean = np.mean(data)\n",
    "    variance = np.var(data)\n",
    "    skewness = skew(data)\n",
    "    return np.array([mean, variance, skewness])\n",
    "\n",
    "# Define the population moment restrictions for a normal distribution\n",
    "def population_moments(params):\n",
    "    mu, sigma = params\n",
    "    return np.array([mu, sigma**2, 0])\n",
    "\n",
    "# Define the objective function to be minimized\n",
    "def objective(params, data):\n",
    "    sample_moments_val = sample_moments(data)\n",
    "    population_moments_val = population_moments(params)\n",
    "    return np.sum((sample_moments_val - population_moments_val) ** 2)\n",
    "\n",
    "# Perform GMM estimation to estimate parameters mu and sigma\n",
    "def perform_gmm(data):\n",
    "    true_values = [0, 1]\n",
    "    # Minimize the objective function\n",
    "    result = minimize(objective, true_values, args=(data,))\n",
    "    return result.x\n",
    "\n",
    "# Test of normality using GMM\n",
    "def test_normality(data):\n",
    "    # estimate parameters using GMM\n",
    "    mu, sigma = perform_gmm(data)\n",
    "    # calculate the test statistic with sample/population moments\n",
    "    sample_moments_val = sample_moments(data)\n",
    "    population_moments_val = population_moments([mu, sigma])\n",
    "    test_statistic = np.sum((sample_moments_val - population_moments_val) ** 2)\n",
    "    # Calculate the p-value using chi-squared distribution\n",
    "    df = len(sample_moments_val)  # Degrees of freedom\n",
    "    p_value = 1 - chi2.cdf(test_statistic, df)\n",
    "    return test_statistic, p_value, sample_moments_val\n",
    "\n",
    "test_statistic, p_value, sample_moments_val = test_normality(data)\n",
    "print(\"Test Statistic:\", test_statistic)\n",
    "print(\"P-value:\", p_value)\n",
    "print(\"Sample Moments:\", sample_moments_val)"
   ]
  },
  {
   "cell_type": "markdown",
   "id": "d947ffd6",
   "metadata": {},
   "source": [
    "We find that the observed data appears to be drawn from a normal distribution."
   ]
  },
  {
   "cell_type": "markdown",
   "id": "f998d6f2",
   "metadata": {},
   "source": [
    "(5) What can be said about the optimal choice of k?"
   ]
  },
  {
   "cell_type": "markdown",
   "id": "f820254d",
   "metadata": {},
   "source": [
    "The number of moment restrictions should be less than or equal to the number of parameters. If there are more moment restrictions than parameters, we end up with an overidentified model. "
   ]
  },
  {
   "cell_type": "markdown",
   "id": "96fb5fd1",
   "metadata": {},
   "source": [
    "(6) Compare the GMM estimates of (μ, σ) to the maximum likelihood estimates of these parameters. Do they differ? Why?"
   ]
  },
  {
   "cell_type": "code",
   "execution_count": 24,
   "id": "852c3453",
   "metadata": {},
   "outputs": [
    {
     "name": "stdout",
     "output_type": "stream",
     "text": [
      "MLE of mu: 0.0017620340003794831\n",
      "MLE of sigma: 0.9996802473477188\n"
     ]
    }
   ],
   "source": [
    "from scipy.stats import norm\n",
    "\n",
    "# Find MLE of mu and sigma\n",
    "mu_mle, sigma_mle = norm.fit(data)\n",
    "\n",
    "# Print MLE estimates\n",
    "print(\"MLE of mu:\", mu_mle)\n",
    "print(\"MLE of sigma:\", sigma_mle)"
   ]
  },
  {
   "cell_type": "markdown",
   "id": "2e5fdaac",
   "metadata": {},
   "source": [
    "No, they do not differ. Under the assumption of a normal distribution and with a large enough sample size, both GMM and MLE converge to the true values. "
   ]
  }
 ],
 "metadata": {
  "kernelspec": {
   "display_name": "Python 3 (ipykernel)",
   "language": "python",
   "name": "python3"
  },
  "language_info": {
   "codemirror_mode": {
    "name": "ipython",
    "version": 3
   },
   "file_extension": ".py",
   "mimetype": "text/x-python",
   "name": "python",
   "nbconvert_exporter": "python",
   "pygments_lexer": "ipython3",
   "version": "3.11.4"
  }
 },
 "nbformat": 4,
 "nbformat_minor": 5
}
