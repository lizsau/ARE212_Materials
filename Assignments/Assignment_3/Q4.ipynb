{
 "cells": [
  {
   "cell_type": "markdown",
   "id": "73521e09",
   "metadata": {},
   "source": [
    "## 4. Tests of Normality"
   ]
  },
  {
   "cell_type": "markdown",
   "id": "414516ca",
   "metadata": {},
   "source": [
    "(1) Using the analogy principle, construct an estimator for the first k moments of the distribution of x. Use this to define a k-vector of moment restrictions $ g_{N}(\\mu, \\sigma) $ satisfying $ E g_{N}(\\mu, \\sigma) = 0  $ under the null hypothesis of normality."
   ]
  },
  {
   "cell_type": "code",
   "execution_count": 19,
   "id": "ca0f0cfe",
   "metadata": {},
   "outputs": [],
   "source": [
    "import numpy as np\n",
    "from math import factorial\n",
    "\n",
    "def moment_conditions(mu, sigma, k, data):\n",
    "    moments = [] # list to store vector of moments\n",
    "    for m in range(1, k + 1):\n",
    "        if m == 1:  # For m = 1, take the mean of the data:\n",
    "            moments.append(np.mean(data) - 0)\n",
    "        elif m % 2 == 1: \n",
    "        # For subsequent odd moments:\n",
    "            moments.append(np.mean((data - mu) ** m) - 0)\n",
    "        # For all even moments:\n",
    "        else: \n",
    "            moments.append(np.mean((data - mu) ** m) - sigma ** m * factorial(m - 1))\n",
    "    return np.array(moments)"
   ]
  },
  {
   "cell_type": "code",
   "execution_count": 20,
   "id": "9d4a9b46",
   "metadata": {},
   "outputs": [
    {
     "name": "stdout",
     "output_type": "stream",
     "text": [
      "Moment Restriction Vector:\n",
      "1 moment: -8.572282554014973e-05\n",
      "2 moment: -0.0004346238923502721\n",
      "3 moment: -0.0006335370433218054\n"
     ]
    }
   ],
   "source": [
    "# set seed for reproducibility\n",
    "np.random.seed(1)\n",
    "\n",
    "data = np.random.normal(0, 1, 10000000)  # create data from a normal distribution\n",
    "k = 3  # Number of moment conditions\n",
    "mu = 0  # true mean (for null hypothesis of normal dist)\n",
    "sigma = 1  # true standard deviation (for null hypothesis of normal dist)\n",
    "\n",
    "# Calculate moment conditions\n",
    "moment_restriction_vector = moment_conditions(mu, sigma, k, data)\n",
    "\n",
    "# Print moment restriction vector with labels\n",
    "print(\"Moment Restriction Vector:\")\n",
    "for i, moment in enumerate(moment_restriction_vector):\n",
    "    print(f\"{i+1} moment:\", moment)"
   ]
  },
  {
   "cell_type": "markdown",
   "id": "9f1bbe8b",
   "metadata": {},
   "source": [
    "(2) What is the covariance matrix of the sample moment restrictions (again under the null)? I.e., what can be said about \n",
    "$ E g_{j}(\\mu, \\sigma) g_{j}(\\mu, \\sigma)⊤ $ - $ E g_{j}(\\mu, \\sigma) E g_{j}(\\mu, \\sigma)⊤ $?"
   ]
  },
  {
   "cell_type": "markdown",
   "id": "a3048be2",
   "metadata": {},
   "source": [
    "The covariance matrix of the sample moment restrictions is a matrix of zeros. This is because the sample moment restrictions under the null hypothesis are expected to be constants. This means each moment restriction is independent of each other under the null hypothesis."
   ]
  },
  {
   "cell_type": "markdown",
   "id": "bc860237",
   "metadata": {},
   "source": [
    "(3) Using your answers to the previous two questions, suggest a GMM-based test of the hypothesis of normality, taking k > 2."
   ]
  },
  {
   "cell_type": "code",
   "execution_count": null,
   "id": "7a40b531",
   "metadata": {},
   "outputs": [],
   "source": []
  },
  {
   "cell_type": "markdown",
   "id": "8390a8e3",
   "metadata": {},
   "source": [
    "(4) Implement the test you’ve devised using python. You may want to use scipy.stats.distributions.chi2.cdf and scipy.optimize.minimize."
   ]
  },
  {
   "cell_type": "code",
   "execution_count": null,
   "id": "bbcc1567",
   "metadata": {},
   "outputs": [],
   "source": []
  },
  {
   "cell_type": "markdown",
   "id": "f998d6f2",
   "metadata": {},
   "source": [
    "(5) What can be said about the optimal choice of k?"
   ]
  },
  {
   "cell_type": "code",
   "execution_count": null,
   "id": "b3c9c5b2",
   "metadata": {},
   "outputs": [],
   "source": []
  },
  {
   "cell_type": "markdown",
   "id": "96fb5fd1",
   "metadata": {},
   "source": [
    "(6) Compare the GMM estimates of (μ, σ) to the maximum likelihood estimates of these parameters. Do they differ? Why?"
   ]
  },
  {
   "cell_type": "code",
   "execution_count": null,
   "id": "852c3453",
   "metadata": {},
   "outputs": [],
   "source": []
  }
 ],
 "metadata": {
  "kernelspec": {
   "display_name": "Python 3 (ipykernel)",
   "language": "python",
   "name": "python3"
  },
  "language_info": {
   "codemirror_mode": {
    "name": "ipython",
    "version": 3
   },
   "file_extension": ".py",
   "mimetype": "text/x-python",
   "name": "python",
   "nbconvert_exporter": "python",
   "pygments_lexer": "ipython3",
   "version": "3.11.4"
  }
 },
 "nbformat": 4,
 "nbformat_minor": 5
}
