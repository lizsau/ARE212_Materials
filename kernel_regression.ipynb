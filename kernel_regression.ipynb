{
 "cells": [
  {
   "cell_type": "markdown",
   "metadata": {},
   "source": [
    "## Kernel Regression\n",
    "\n"
   ]
  },
  {
   "cell_type": "markdown",
   "metadata": {},
   "source": [
    "### Conditional expectations\n",
    "\n"
   ]
  },
  {
   "cell_type": "markdown",
   "metadata": {},
   "source": [
    "We address the following problem.  There exists a random variable $y$\n",
    "with conditional expectation $E(y|x)$  which is continuous in\n",
    "$x$ (further, if $x$ is random then the density of $x$, $f(x)>0$).\n",
    "For example (play!):\n",
    "\n"
   ]
  },
  {
   "cell_type": "code",
   "execution_count": 1,
   "metadata": {},
   "outputs": [],
   "source": [
    "import numpy as np\n",
    "\n",
    "def m(x): return np.sin(2*x)/(1+x)"
   ]
  },
  {
   "cell_type": "markdown",
   "metadata": {},
   "source": [
    "Plot the conditional expectation:\n",
    "\n"
   ]
  },
  {
   "cell_type": "code",
   "execution_count": 1,
   "metadata": {},
   "outputs": [],
   "source": [
    "%matplotlib inline\n",
    "import matplotlib.pyplot as plt\n",
    "\n",
    "V = np.linspace(1e-4,2*np.pi,1000)\n",
    "\n",
    "ax = plt.plot(V,m(V))"
   ]
  },
  {
   "cell_type": "markdown",
   "metadata": {},
   "source": [
    "### Sample\n",
    "\n"
   ]
  },
  {
   "cell_type": "markdown",
   "metadata": {},
   "source": [
    "Now, suppose we don&rsquo;t know $m$ or the conditional distribution of $y$,\n",
    "but we can draw a sample of realizations, which we&rsquo;ll put in a `pandas.Series`.\n",
    "\n"
   ]
  },
  {
   "cell_type": "code",
   "execution_count": 1,
   "metadata": {},
   "outputs": [],
   "source": [
    "import pandas as pd\n",
    "from scipy.stats import distributions as iid\n",
    "\n",
    "X = iid.uniform(V.min(),V.max())  # Handy to have bounded support, but not necessary\n",
    "\n",
    "U = iid.norm(scale=0.1) # Scale=std. dev.  Play!\n",
    "\n",
    "n = 1000 # Sample size\n",
    "\n",
    "x = pd.Series(X.rvs(size=n))\n",
    "\n",
    "# Series are imperial when they can be:\n",
    "y = m(x) + U.rvs(size=n)  \n",
    "\n",
    "type(y)"
   ]
  },
  {
   "cell_type": "markdown",
   "metadata": {},
   "source": [
    "Now let&rsquo;s take an informal look at the data:\n",
    "\n"
   ]
  },
  {
   "cell_type": "code",
   "execution_count": 1,
   "metadata": {},
   "outputs": [],
   "source": [
    "plt.scatter(x,y)"
   ]
  },
  {
   "cell_type": "markdown",
   "metadata": {},
   "source": [
    "How can we use this random sample to estimate $m$?  The scatterplot\n",
    "suggests that some kind of local smoothing might help.\n",
    "\n"
   ]
  },
  {
   "cell_type": "markdown",
   "metadata": {},
   "source": [
    "### Estimator\n",
    "\n"
   ]
  },
  {
   "cell_type": "markdown",
   "metadata": {},
   "source": [
    "Let&rsquo;s go ahead and define the kernel regression estimator, following\n",
    "the same general logic as in our exploration of kernel densities.\n",
    "\n",
    "Start by defining a kernel:\n",
    "\n"
   ]
  },
  {
   "cell_type": "code",
   "execution_count": 1,
   "metadata": {},
   "outputs": [],
   "source": [
    "sqrt3 = np.sqrt(3)  # Avoid repeated evaluation of this for speed...\n",
    "\n",
    "k = lambda u: (np.abs(u) < sqrt3)/(2*sqrt3)  # Rectangular kernel\n",
    "\n",
    "# k = lambda u: np.exp(-(u**2)/2)/np.sqrt(2*np.pi) # Gaussian kernel"
   ]
  },
  {
   "cell_type": "markdown",
   "metadata": {},
   "source": [
    "Now define the kernel estimator:\n",
    "\n"
   ]
  },
  {
   "cell_type": "code",
   "execution_count": 1,
   "metadata": {},
   "outputs": [],
   "source": [
    "def kernel_regression(X,y,h):\n",
    "    \"\"\"\n",
    "    Use data (X,y) to estimate E(y|x), using bandwidth h.\n",
    "    \"\"\"\n",
    "    def mhat(x):\n",
    "        S = k((X-x)/h) # \"Smooths\"\n",
    "\n",
    "        return S.dot(y)/S.sum()\n",
    "\n",
    "    return mhat"
   ]
  },
  {
   "cell_type": "markdown",
   "metadata": {},
   "source": [
    "We already have a random sample: let&rsquo;s try using it to estimate $m$:\n",
    "\n"
   ]
  },
  {
   "cell_type": "code",
   "execution_count": 1,
   "metadata": {},
   "outputs": [],
   "source": [
    "mhat = kernel_regression(x,y,h=0.3) \n",
    "\n",
    "mhat(1)  # Try to evaluate at a point"
   ]
  },
  {
   "cell_type": "markdown",
   "metadata": {},
   "source": [
    "Now graph our estimate\n",
    "\n"
   ]
  },
  {
   "cell_type": "code",
   "execution_count": 1,
   "metadata": {},
   "outputs": [],
   "source": [
    "fig,ax = plt.subplots()\n",
    "\n",
    "ax.plot(V,[m(v) for v in V])  # \"Truth\"\n",
    "ax.plot(V,[mhat(v) for v in V]) # Estimate"
   ]
  },
  {
   "cell_type": "markdown",
   "metadata": {},
   "source": [
    "### Leave-one out cross-validation\n",
    "\n"
   ]
  },
  {
   "cell_type": "markdown",
   "metadata": {},
   "source": [
    "We talked about computing estimates $m_{-i}$ to estimate the IMSE.\n",
    "   Doing this directly would require $n$ separate estimations.  This\n",
    "   is expensive!\n",
    "\n",
    "A little algebra suggests an alternative, involving the &ldquo;Gram&rdquo; matrix.\n",
    "\n"
   ]
  },
  {
   "cell_type": "code",
   "execution_count": 1,
   "metadata": {},
   "outputs": [],
   "source": [
    "def leave_out_residuals(X,y):\n",
    "    \"\"\"\n",
    "    Use data (X_{-j},y_{-j}) to estimate E(y|x), using bandwidth h.\n",
    "    \"\"\"\n",
    "    \n",
    "    def Gram_matrix(X,h):\n",
    "        \"\"\"\n",
    "        Define kernel-data matrix [ k((x_i-x_j)/h) ]\n",
    "        \"\"\"\n",
    "        v = np.array(X).reshape((-1,1)) # Column vector\n",
    "\n",
    "        return k((v-v.T)/h) \n",
    "\n",
    "    def ecv(h):\n",
    "        \"\"\"\n",
    "        Leave-out residuals as fn of bandwidth h.\n",
    "        \"\"\"\n",
    "        G = Gram_matrix(X,h)\n",
    "        G0 = G - np.diag(np.diag(G)) # Zero out diagonals\n",
    "\n",
    "        e = y - (G0@y)/np.sum(G0,axis=1)\n",
    "\n",
    "        return e\n",
    "\n",
    "    return ecv"
   ]
  },
  {
   "cell_type": "markdown",
   "metadata": {},
   "source": [
    "Consider the &ldquo;leave-one-out&rdquo; or &ldquo;Cross-Validation&rdquo; residuals:\n",
    "\n"
   ]
  },
  {
   "cell_type": "code",
   "execution_count": 1,
   "metadata": {},
   "outputs": [],
   "source": [
    "ecv = leave_out_residuals(x,y)\n",
    "\n",
    "ax = ecv(h=0.1).hist()"
   ]
  },
  {
   "cell_type": "markdown",
   "metadata": {},
   "source": [
    "Define an estimator of the IMSE as a function of the bandwidth $h$:\n",
    "\n"
   ]
  },
  {
   "cell_type": "code",
   "execution_count": 1,
   "metadata": {},
   "outputs": [],
   "source": [
    "def imse_cv(h):\n",
    "    return np.mean(ecv(h)**2)\n",
    "\n",
    "imse_cv(.5)"
   ]
  },
  {
   "cell_type": "markdown",
   "metadata": {},
   "source": [
    "Try plotting esimated IMSE as a function of bandwidth:\n",
    "\n"
   ]
  },
  {
   "cell_type": "code",
   "execution_count": 1,
   "metadata": {},
   "outputs": [],
   "source": [
    "H = np.linspace(1e-3,.5,20)\n",
    "\n",
    "plt.plot(H,[imse_cv(h) for h in H])"
   ]
  },
  {
   "cell_type": "markdown",
   "metadata": {},
   "source": [
    "Actually find the minimum:\n",
    "\n"
   ]
  },
  {
   "cell_type": "code",
   "execution_count": 1,
   "metadata": {},
   "outputs": [],
   "source": [
    "from scipy.optimize import minimize_scalar\n",
    "\n",
    "soltn = minimize_scalar(imse_cv,bounds=[1e-2,1])\n",
    "\n",
    "if soltn.success:\n",
    "    hstar = soltn.x\n",
    "    print(soltn)"
   ]
  },
  {
   "cell_type": "markdown",
   "metadata": {},
   "source": [
    "Now, estimate using estimated optimal bandwidth:\n",
    "\n"
   ]
  },
  {
   "cell_type": "code",
   "execution_count": 1,
   "metadata": {},
   "outputs": [],
   "source": [
    "mhat = kernel_regression(x,y,hstar)\n",
    "\n",
    "fig,ax = plt.subplots()\n",
    "\n",
    "ax.plot(V,[m(v) for v in V])  # \"Truth\"\n",
    "ax.plot(V,[mhat(v) for v in V]) # Estimate"
   ]
  }
 ],
 "metadata": {
  "kernelspec": {
   "display_name": "Python 3 (ipykernel)",
   "language": "python",
   "name": "python3"
  },
  "language_info": {
   "codemirror_mode": {
    "name": "ipython",
    "version": 3
   },
   "file_extension": ".py",
   "mimetype": "text/x-python",
   "name": "python",
   "nbconvert_exporter": "python",
   "pygments_lexer": "ipython3",
   "version": "3.9.15"
  },
  "org": null
 },
 "nbformat": 4,
 "nbformat_minor": 4
}
